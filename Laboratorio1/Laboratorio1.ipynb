{
 "cells": [
  {
   "cell_type": "markdown",
   "metadata": {},
   "source": [
    "# Laboratorio 1"
   ]
  },
  {
   "cell_type": "markdown",
   "metadata": {},
   "source": [
    "## Inteligencia de Negocios\n",
    "\n",
    "## Integrantes:\n",
    "    Juan Diego Cardona 201819447\n",
    "    Nicolas Ortega 201814515\n",
    "    Camila Teran 201822000"
   ]
  },
  {
   "cell_type": "markdown",
   "metadata": {},
   "source": [
    "# Análisis Exploratorio y Perfilamiento de Datos"
   ]
  },
  {
   "cell_type": "markdown",
   "metadata": {},
   "source": [
    "### 1. Importación de librerías \n",
    "\n"
   ]
  },
  {
   "cell_type": "code",
   "execution_count": 3,
   "metadata": {},
   "outputs": [],
   "source": [
    "# Librerías para manejo de datos\n",
    "import pandas as pd\n",
    "pd.set_option('display.max_columns', 25) # Número máximo de columnas a mostrar\n",
    "pd.set_option('display.max_rows', 50) # Numero máximo de filas a mostar\n",
    "import numpy as np\n",
    "np.random.seed(3301)\n",
    "import pandas as pd\n",
    "\n",
    "# Para preparar los datos\n",
    "from sklearn.preprocessing import LabelEncoder\n",
    "# Para crear el arbol de decisión \n",
    "from sklearn.tree import DecisionTreeClassifier \n",
    "# Para realizar la separación del conjunto de aprendizaje en entrenamiento y test.\n",
    "from sklearn.model_selection import train_test_split\n",
    "# Para evaluar el modelo\n",
    "from sklearn.metrics import confusion_matrix, classification_report, precision_score, recall_score, f1_score, accuracy_score\n",
    "from sklearn.metrics import plot_confusion_matrix\n",
    "# Para búsqueda de hiperparámetros\n",
    "from sklearn.model_selection import GridSearchCV\n",
    "# Para la validación cruzada\n",
    "from sklearn.model_selection import KFold \n",
    "#Librerías para la visualización\n",
    "import matplotlib as mplt\n",
    "import matplotlib.pyplot as plt\n",
    "# Seaborn\n",
    "import seaborn as sns \n",
    "from sklearn import tree\n",
    "\n",
    "# Para usar KNN como clasificador\n",
    "from sklearn.neighbors import KNeighborsClassifier\n",
    "\n",
    "#Regresion Logistica\n",
    "from sklearn import metrics \n",
    "from sklearn.linear_model import LogisticRegression\n",
    "from sklearn.model_selection import train_test_split\n",
    "from sklearn import preprocessing\n",
    "import statsmodels.api as sm\n",
    "import statsmodels.formula.api as smf\n",
    "from statsmodels.stats.weightstats import ttest_ind"
   ]
  },
  {
   "cell_type": "markdown",
   "metadata": {},
   "source": [
    "### 2. Carga de los datos"
   ]
  },
  {
   "cell_type": "code",
   "execution_count": 4,
   "metadata": {},
   "outputs": [
    {
     "data": {
      "text/html": [
       "<div>\n",
       "<style scoped>\n",
       "    .dataframe tbody tr th:only-of-type {\n",
       "        vertical-align: middle;\n",
       "    }\n",
       "\n",
       "    .dataframe tbody tr th {\n",
       "        vertical-align: top;\n",
       "    }\n",
       "\n",
       "    .dataframe thead th {\n",
       "        text-align: right;\n",
       "    }\n",
       "</style>\n",
       "<table border=\"1\" class=\"dataframe\">\n",
       "  <thead>\n",
       "    <tr style=\"text-align: right;\">\n",
       "      <th></th>\n",
       "      <th>HairColor</th>\n",
       "      <th>Pregnancies</th>\n",
       "      <th>Glucose</th>\n",
       "      <th>City</th>\n",
       "      <th>BloodPressure</th>\n",
       "      <th>SkinThickness</th>\n",
       "      <th>Insulin</th>\n",
       "      <th>BMI</th>\n",
       "      <th>DiabetesPedigreeFunction</th>\n",
       "      <th>Age</th>\n",
       "      <th>Outcome</th>\n",
       "    </tr>\n",
       "  </thead>\n",
       "  <tbody>\n",
       "    <tr>\n",
       "      <th>0</th>\n",
       "      <td>Red</td>\n",
       "      <td>6.0</td>\n",
       "      <td>148.0</td>\n",
       "      <td>New York</td>\n",
       "      <td>72.0</td>\n",
       "      <td>35.0</td>\n",
       "      <td>0.0</td>\n",
       "      <td>336</td>\n",
       "      <td>627.0</td>\n",
       "      <td>50</td>\n",
       "      <td>1.0</td>\n",
       "    </tr>\n",
       "    <tr>\n",
       "      <th>1</th>\n",
       "      <td>Black</td>\n",
       "      <td>1.0</td>\n",
       "      <td>85.0</td>\n",
       "      <td>New York</td>\n",
       "      <td>66.0</td>\n",
       "      <td>29.0</td>\n",
       "      <td>0.0</td>\n",
       "      <td>266</td>\n",
       "      <td>351.0</td>\n",
       "      <td>31</td>\n",
       "      <td>0.0</td>\n",
       "    </tr>\n",
       "    <tr>\n",
       "      <th>2</th>\n",
       "      <td>Red</td>\n",
       "      <td>8.0</td>\n",
       "      <td>183.0</td>\n",
       "      <td>New York</td>\n",
       "      <td>64.0</td>\n",
       "      <td>0.0</td>\n",
       "      <td>0.0</td>\n",
       "      <td>233</td>\n",
       "      <td>672.0</td>\n",
       "      <td>32</td>\n",
       "      <td>1.0</td>\n",
       "    </tr>\n",
       "    <tr>\n",
       "      <th>3</th>\n",
       "      <td>Black</td>\n",
       "      <td>1.0</td>\n",
       "      <td>89.0</td>\n",
       "      <td>New York</td>\n",
       "      <td>66.0</td>\n",
       "      <td>23.0</td>\n",
       "      <td>94.0</td>\n",
       "      <td>281</td>\n",
       "      <td>167.0</td>\n",
       "      <td>21</td>\n",
       "      <td>0.0</td>\n",
       "    </tr>\n",
       "    <tr>\n",
       "      <th>4</th>\n",
       "      <td>Black</td>\n",
       "      <td>0.0</td>\n",
       "      <td>137.0</td>\n",
       "      <td>New York</td>\n",
       "      <td>40.0</td>\n",
       "      <td>35.0</td>\n",
       "      <td>168.0</td>\n",
       "      <td>431</td>\n",
       "      <td>2288.0</td>\n",
       "      <td>33</td>\n",
       "      <td>1.0</td>\n",
       "    </tr>\n",
       "  </tbody>\n",
       "</table>\n",
       "</div>"
      ],
      "text/plain": [
       "  HairColor  Pregnancies  Glucose      City  BloodPressure  SkinThickness  \\\n",
       "0       Red          6.0    148.0  New York           72.0           35.0   \n",
       "1     Black          1.0     85.0  New York           66.0           29.0   \n",
       "2       Red          8.0    183.0  New York           64.0            0.0   \n",
       "3     Black          1.0     89.0  New York           66.0           23.0   \n",
       "4     Black          0.0    137.0  New York           40.0           35.0   \n",
       "\n",
       "   Insulin  BMI  DiabetesPedigreeFunction  Age  Outcome  \n",
       "0      0.0  336                     627.0   50      1.0  \n",
       "1      0.0  266                     351.0   31      0.0  \n",
       "2      0.0  233                     672.0   32      1.0  \n",
       "3     94.0  281                     167.0   21      0.0  \n",
       "4    168.0  431                    2288.0   33      1.0  "
      ]
     },
     "execution_count": 4,
     "metadata": {},
     "output_type": "execute_result"
    }
   ],
   "source": [
    "# Se cargan los datos. \n",
    "datos=pd.read_csv('datos.csv', sep=';', encoding = 'utf-8')\n",
    "datos.head()"
   ]
  },
  {
   "cell_type": "code",
   "execution_count": 5,
   "metadata": {},
   "outputs": [
    {
     "data": {
      "text/plain": [
       "(768, 11)"
      ]
     },
     "execution_count": 5,
     "metadata": {},
     "output_type": "execute_result"
    }
   ],
   "source": [
    "datos.shape"
   ]
  },
  {
   "cell_type": "code",
   "execution_count": 6,
   "metadata": {},
   "outputs": [
    {
     "data": {
      "text/plain": [
       "HairColor                    object\n",
       "Pregnancies                 float64\n",
       "Glucose                     float64\n",
       "City                         object\n",
       "BloodPressure               float64\n",
       "SkinThickness               float64\n",
       "Insulin                     float64\n",
       "BMI                           int64\n",
       "DiabetesPedigreeFunction    float64\n",
       "Age                           int64\n",
       "Outcome                     float64\n",
       "dtype: object"
      ]
     },
     "execution_count": 6,
     "metadata": {},
     "output_type": "execute_result"
    }
   ],
   "source": [
    "datos.dtypes"
   ]
  },
  {
   "cell_type": "code",
   "execution_count": 7,
   "metadata": {},
   "outputs": [
    {
     "data": {
      "text/html": [
       "<div>\n",
       "<style scoped>\n",
       "    .dataframe tbody tr th:only-of-type {\n",
       "        vertical-align: middle;\n",
       "    }\n",
       "\n",
       "    .dataframe tbody tr th {\n",
       "        vertical-align: top;\n",
       "    }\n",
       "\n",
       "    .dataframe thead th {\n",
       "        text-align: right;\n",
       "    }\n",
       "</style>\n",
       "<table border=\"1\" class=\"dataframe\">\n",
       "  <thead>\n",
       "    <tr style=\"text-align: right;\">\n",
       "      <th></th>\n",
       "      <th>Pregnancies</th>\n",
       "      <th>Glucose</th>\n",
       "      <th>BloodPressure</th>\n",
       "      <th>SkinThickness</th>\n",
       "      <th>Insulin</th>\n",
       "      <th>BMI</th>\n",
       "      <th>DiabetesPedigreeFunction</th>\n",
       "      <th>Age</th>\n",
       "      <th>Outcome</th>\n",
       "    </tr>\n",
       "  </thead>\n",
       "  <tbody>\n",
       "    <tr>\n",
       "      <th>count</th>\n",
       "      <td>767.000000</td>\n",
       "      <td>767.000000</td>\n",
       "      <td>767.000000</td>\n",
       "      <td>767.000000</td>\n",
       "      <td>767.000000</td>\n",
       "      <td>768.000000</td>\n",
       "      <td>767.000000</td>\n",
       "      <td>768.000000</td>\n",
       "      <td>767.000000</td>\n",
       "    </tr>\n",
       "    <tr>\n",
       "      <th>mean</th>\n",
       "      <td>3.839635</td>\n",
       "      <td>120.921773</td>\n",
       "      <td>69.096480</td>\n",
       "      <td>20.563233</td>\n",
       "      <td>79.903520</td>\n",
       "      <td>289.796875</td>\n",
       "      <td>432.395046</td>\n",
       "      <td>38.011719</td>\n",
       "      <td>0.349413</td>\n",
       "    </tr>\n",
       "    <tr>\n",
       "      <th>std</th>\n",
       "      <td>3.368429</td>\n",
       "      <td>31.984561</td>\n",
       "      <td>19.366833</td>\n",
       "      <td>15.945349</td>\n",
       "      <td>115.283105</td>\n",
       "      <td>116.757554</td>\n",
       "      <td>336.144934</td>\n",
       "      <td>117.825600</td>\n",
       "      <td>0.477096</td>\n",
       "    </tr>\n",
       "    <tr>\n",
       "      <th>min</th>\n",
       "      <td>0.000000</td>\n",
       "      <td>0.000000</td>\n",
       "      <td>0.000000</td>\n",
       "      <td>0.000000</td>\n",
       "      <td>0.000000</td>\n",
       "      <td>0.000000</td>\n",
       "      <td>1.000000</td>\n",
       "      <td>21.000000</td>\n",
       "      <td>0.000000</td>\n",
       "    </tr>\n",
       "    <tr>\n",
       "      <th>25%</th>\n",
       "      <td>1.000000</td>\n",
       "      <td>99.000000</td>\n",
       "      <td>62.000000</td>\n",
       "      <td>0.000000</td>\n",
       "      <td>0.000000</td>\n",
       "      <td>251.750000</td>\n",
       "      <td>205.500000</td>\n",
       "      <td>24.000000</td>\n",
       "      <td>0.000000</td>\n",
       "    </tr>\n",
       "    <tr>\n",
       "      <th>50%</th>\n",
       "      <td>3.000000</td>\n",
       "      <td>117.000000</td>\n",
       "      <td>72.000000</td>\n",
       "      <td>23.000000</td>\n",
       "      <td>32.000000</td>\n",
       "      <td>309.000000</td>\n",
       "      <td>337.000000</td>\n",
       "      <td>29.000000</td>\n",
       "      <td>0.000000</td>\n",
       "    </tr>\n",
       "    <tr>\n",
       "      <th>75%</th>\n",
       "      <td>6.000000</td>\n",
       "      <td>140.500000</td>\n",
       "      <td>80.000000</td>\n",
       "      <td>32.000000</td>\n",
       "      <td>127.500000</td>\n",
       "      <td>359.000000</td>\n",
       "      <td>592.000000</td>\n",
       "      <td>41.000000</td>\n",
       "      <td>1.000000</td>\n",
       "    </tr>\n",
       "    <tr>\n",
       "      <th>max</th>\n",
       "      <td>17.000000</td>\n",
       "      <td>199.000000</td>\n",
       "      <td>122.000000</td>\n",
       "      <td>99.000000</td>\n",
       "      <td>846.000000</td>\n",
       "      <td>671.000000</td>\n",
       "      <td>2329.000000</td>\n",
       "      <td>3256.000000</td>\n",
       "      <td>1.000000</td>\n",
       "    </tr>\n",
       "  </tbody>\n",
       "</table>\n",
       "</div>"
      ],
      "text/plain": [
       "       Pregnancies     Glucose  BloodPressure  SkinThickness     Insulin  \\\n",
       "count   767.000000  767.000000     767.000000     767.000000  767.000000   \n",
       "mean      3.839635  120.921773      69.096480      20.563233   79.903520   \n",
       "std       3.368429   31.984561      19.366833      15.945349  115.283105   \n",
       "min       0.000000    0.000000       0.000000       0.000000    0.000000   \n",
       "25%       1.000000   99.000000      62.000000       0.000000    0.000000   \n",
       "50%       3.000000  117.000000      72.000000      23.000000   32.000000   \n",
       "75%       6.000000  140.500000      80.000000      32.000000  127.500000   \n",
       "max      17.000000  199.000000     122.000000      99.000000  846.000000   \n",
       "\n",
       "              BMI  DiabetesPedigreeFunction          Age     Outcome  \n",
       "count  768.000000                767.000000   768.000000  767.000000  \n",
       "mean   289.796875                432.395046    38.011719    0.349413  \n",
       "std    116.757554                336.144934   117.825600    0.477096  \n",
       "min      0.000000                  1.000000    21.000000    0.000000  \n",
       "25%    251.750000                205.500000    24.000000    0.000000  \n",
       "50%    309.000000                337.000000    29.000000    0.000000  \n",
       "75%    359.000000                592.000000    41.000000    1.000000  \n",
       "max    671.000000               2329.000000  3256.000000    1.000000  "
      ]
     },
     "execution_count": 7,
     "metadata": {},
     "output_type": "execute_result"
    }
   ],
   "source": [
    "# Y hacer una descripción de los datos\n",
    "datos.describe()"
   ]
  },
  {
   "cell_type": "code",
   "execution_count": 8,
   "metadata": {},
   "outputs": [
    {
     "data": {
      "text/plain": [
       "HairColor                   0\n",
       "Pregnancies                 1\n",
       "Glucose                     1\n",
       "City                        1\n",
       "BloodPressure               1\n",
       "SkinThickness               1\n",
       "Insulin                     1\n",
       "BMI                         0\n",
       "DiabetesPedigreeFunction    1\n",
       "Age                         0\n",
       "Outcome                     1\n",
       "dtype: int64"
      ]
     },
     "execution_count": 8,
     "metadata": {},
     "output_type": "execute_result"
    }
   ],
   "source": [
    "# Se observa que hay ausencias:\n",
    "datos.isnull().sum()"
   ]
  },
  {
   "cell_type": "code",
   "execution_count": 9,
   "metadata": {},
   "outputs": [
    {
     "data": {
      "text/plain": [
       "<AxesSubplot:xlabel='Outcome', ylabel='count'>"
      ]
     },
     "execution_count": 9,
     "metadata": {},
     "output_type": "execute_result"
    },
    {
     "data": {
      "image/png": "[encoded data removed]",
      "text/plain": [
       "<Figure size 432x288 with 1 Axes>"
      ]
     },
     "metadata": {
      "needs_background": "light"
     },
     "output_type": "display_data"
    }
   ],
   "source": [
    "sns.countplot(x='Outcome',data=datos)"
   ]
  },
  {
   "cell_type": "code",
   "execution_count": 10,
   "metadata": {},
   "outputs": [
    {
     "data": {
      "image/png": "[encoded data removed]",
      "text/plain": [
       "<Figure size 1152x576 with 1 Axes>"
      ]
     },
     "metadata": {
      "needs_background": "light"
     },
     "output_type": "display_data"
    }
   ],
   "source": [
    "#Diagrama de cajas\n",
    "fig=plt.figure(figsize=(16,8))\n",
    "ax = sns.boxplot(data=datos)"
   ]
  },
  {
   "cell_type": "markdown",
   "metadata": {},
   "source": [
    "# Limpieza y preparación de datos"
   ]
  },
  {
   "cell_type": "markdown",
   "metadata": {},
   "source": [
    "Primero vamos a ejecutar los pasos de limpieza de los datos, relacionados el tratamiento de ausencias y registros duplicados."
   ]
  },
  {
   "cell_type": "code",
   "execution_count": 11,
   "metadata": {},
   "outputs": [
    {
     "data": {
      "text/html": [
       "<div>\n",
       "<style scoped>\n",
       "    .dataframe tbody tr th:only-of-type {\n",
       "        vertical-align: middle;\n",
       "    }\n",
       "\n",
       "    .dataframe tbody tr th {\n",
       "        vertical-align: top;\n",
       "    }\n",
       "\n",
       "    .dataframe thead th {\n",
       "        text-align: right;\n",
       "    }\n",
       "</style>\n",
       "<table border=\"1\" class=\"dataframe\">\n",
       "  <thead>\n",
       "    <tr style=\"text-align: right;\">\n",
       "      <th></th>\n",
       "      <th>HairColor</th>\n",
       "      <th>Pregnancies</th>\n",
       "      <th>Glucose</th>\n",
       "      <th>City</th>\n",
       "      <th>BloodPressure</th>\n",
       "      <th>SkinThickness</th>\n",
       "      <th>Insulin</th>\n",
       "      <th>BMI</th>\n",
       "      <th>DiabetesPedigreeFunction</th>\n",
       "      <th>Age</th>\n",
       "      <th>Outcome</th>\n",
       "    </tr>\n",
       "  </thead>\n",
       "  <tbody>\n",
       "    <tr>\n",
       "      <th>0</th>\n",
       "      <td>Red</td>\n",
       "      <td>6.0</td>\n",
       "      <td>148.0</td>\n",
       "      <td>New York</td>\n",
       "      <td>72.0</td>\n",
       "      <td>35.0</td>\n",
       "      <td>0.0</td>\n",
       "      <td>336</td>\n",
       "      <td>627.0</td>\n",
       "      <td>50</td>\n",
       "      <td>1.0</td>\n",
       "    </tr>\n",
       "    <tr>\n",
       "      <th>1</th>\n",
       "      <td>Black</td>\n",
       "      <td>1.0</td>\n",
       "      <td>85.0</td>\n",
       "      <td>New York</td>\n",
       "      <td>66.0</td>\n",
       "      <td>29.0</td>\n",
       "      <td>0.0</td>\n",
       "      <td>266</td>\n",
       "      <td>351.0</td>\n",
       "      <td>31</td>\n",
       "      <td>0.0</td>\n",
       "    </tr>\n",
       "    <tr>\n",
       "      <th>2</th>\n",
       "      <td>Red</td>\n",
       "      <td>8.0</td>\n",
       "      <td>183.0</td>\n",
       "      <td>New York</td>\n",
       "      <td>64.0</td>\n",
       "      <td>0.0</td>\n",
       "      <td>0.0</td>\n",
       "      <td>233</td>\n",
       "      <td>672.0</td>\n",
       "      <td>32</td>\n",
       "      <td>1.0</td>\n",
       "    </tr>\n",
       "    <tr>\n",
       "      <th>3</th>\n",
       "      <td>Black</td>\n",
       "      <td>1.0</td>\n",
       "      <td>89.0</td>\n",
       "      <td>New York</td>\n",
       "      <td>66.0</td>\n",
       "      <td>23.0</td>\n",
       "      <td>94.0</td>\n",
       "      <td>281</td>\n",
       "      <td>167.0</td>\n",
       "      <td>21</td>\n",
       "      <td>0.0</td>\n",
       "    </tr>\n",
       "    <tr>\n",
       "      <th>4</th>\n",
       "      <td>Black</td>\n",
       "      <td>0.0</td>\n",
       "      <td>137.0</td>\n",
       "      <td>New York</td>\n",
       "      <td>40.0</td>\n",
       "      <td>35.0</td>\n",
       "      <td>168.0</td>\n",
       "      <td>431</td>\n",
       "      <td>2288.0</td>\n",
       "      <td>33</td>\n",
       "      <td>1.0</td>\n",
       "    </tr>\n",
       "    <tr>\n",
       "      <th>...</th>\n",
       "      <td>...</td>\n",
       "      <td>...</td>\n",
       "      <td>...</td>\n",
       "      <td>...</td>\n",
       "      <td>...</td>\n",
       "      <td>...</td>\n",
       "      <td>...</td>\n",
       "      <td>...</td>\n",
       "      <td>...</td>\n",
       "      <td>...</td>\n",
       "      <td>...</td>\n",
       "    </tr>\n",
       "    <tr>\n",
       "      <th>763</th>\n",
       "      <td>Black</td>\n",
       "      <td>10.0</td>\n",
       "      <td>101.0</td>\n",
       "      <td>New York</td>\n",
       "      <td>76.0</td>\n",
       "      <td>48.0</td>\n",
       "      <td>180.0</td>\n",
       "      <td>329</td>\n",
       "      <td>171.0</td>\n",
       "      <td>63</td>\n",
       "      <td>0.0</td>\n",
       "    </tr>\n",
       "    <tr>\n",
       "      <th>764</th>\n",
       "      <td>Black</td>\n",
       "      <td>2.0</td>\n",
       "      <td>122.0</td>\n",
       "      <td>New York</td>\n",
       "      <td>70.0</td>\n",
       "      <td>27.0</td>\n",
       "      <td>0.0</td>\n",
       "      <td>368</td>\n",
       "      <td>34.0</td>\n",
       "      <td>27</td>\n",
       "      <td>0.0</td>\n",
       "    </tr>\n",
       "    <tr>\n",
       "      <th>765</th>\n",
       "      <td>Red</td>\n",
       "      <td>5.0</td>\n",
       "      <td>121.0</td>\n",
       "      <td>New York</td>\n",
       "      <td>72.0</td>\n",
       "      <td>23.0</td>\n",
       "      <td>112.0</td>\n",
       "      <td>262</td>\n",
       "      <td>245.0</td>\n",
       "      <td>30</td>\n",
       "      <td>0.0</td>\n",
       "    </tr>\n",
       "    <tr>\n",
       "      <th>766</th>\n",
       "      <td>Black</td>\n",
       "      <td>1.0</td>\n",
       "      <td>126.0</td>\n",
       "      <td>New York</td>\n",
       "      <td>60.0</td>\n",
       "      <td>0.0</td>\n",
       "      <td>0.0</td>\n",
       "      <td>301</td>\n",
       "      <td>349.0</td>\n",
       "      <td>47</td>\n",
       "      <td>1.0</td>\n",
       "    </tr>\n",
       "    <tr>\n",
       "      <th>767</th>\n",
       "      <td>Red</td>\n",
       "      <td>1.0</td>\n",
       "      <td>93.0</td>\n",
       "      <td>New York</td>\n",
       "      <td>70.0</td>\n",
       "      <td>31.0</td>\n",
       "      <td>0.0</td>\n",
       "      <td>304</td>\n",
       "      <td>315.0</td>\n",
       "      <td>23</td>\n",
       "      <td>0.0</td>\n",
       "    </tr>\n",
       "  </tbody>\n",
       "</table>\n",
       "<p>768 rows × 11 columns</p>\n",
       "</div>"
      ],
      "text/plain": [
       "    HairColor  Pregnancies  Glucose      City  BloodPressure  SkinThickness  \\\n",
       "0         Red          6.0    148.0  New York           72.0           35.0   \n",
       "1       Black          1.0     85.0  New York           66.0           29.0   \n",
       "2         Red          8.0    183.0  New York           64.0            0.0   \n",
       "3       Black          1.0     89.0  New York           66.0           23.0   \n",
       "4       Black          0.0    137.0  New York           40.0           35.0   \n",
       "..        ...          ...      ...       ...            ...            ...   \n",
       "763     Black         10.0    101.0  New York           76.0           48.0   \n",
       "764     Black          2.0    122.0  New York           70.0           27.0   \n",
       "765       Red          5.0    121.0  New York           72.0           23.0   \n",
       "766     Black          1.0    126.0  New York           60.0            0.0   \n",
       "767       Red          1.0     93.0  New York           70.0           31.0   \n",
       "\n",
       "     Insulin  BMI  DiabetesPedigreeFunction  Age  Outcome  \n",
       "0        0.0  336                     627.0   50      1.0  \n",
       "1        0.0  266                     351.0   31      0.0  \n",
       "2        0.0  233                     672.0   32      1.0  \n",
       "3       94.0  281                     167.0   21      0.0  \n",
       "4      168.0  431                    2288.0   33      1.0  \n",
       "..       ...  ...                       ...  ...      ...  \n",
       "763    180.0  329                     171.0   63      0.0  \n",
       "764      0.0  368                      34.0   27      0.0  \n",
       "765    112.0  262                     245.0   30      0.0  \n",
       "766      0.0  301                     349.0   47      1.0  \n",
       "767      0.0  304                     315.0   23      0.0  \n",
       "\n",
       "[768 rows x 11 columns]"
      ]
     },
     "execution_count": 11,
     "metadata": {},
     "output_type": "execute_result"
    }
   ],
   "source": [
    "# Es recomendable que todos los pasos de limpieza y preparación se realicen sobre otro archivo.\n",
    "datoslimpios = datos\n",
    "datoslimpios\n"
   ]
  },
  {
   "cell_type": "code",
   "execution_count": 12,
   "metadata": {},
   "outputs": [],
   "source": [
    "# Eliminación registros con ausencias\n",
    "#¿Porqué realizar este paso?\n",
    "datoslimpios = datoslimpios.dropna()"
   ]
  },
  {
   "cell_type": "code",
   "execution_count": 13,
   "metadata": {},
   "outputs": [
    {
     "data": {
      "text/plain": [
       "(767, 11)"
      ]
     },
     "execution_count": 13,
     "metadata": {},
     "output_type": "execute_result"
    }
   ],
   "source": [
    "# Cantidad de datos y número de variables\n",
    "datoslimpios.shape"
   ]
  },
  {
   "cell_type": "code",
   "execution_count": 14,
   "metadata": {},
   "outputs": [
    {
     "data": {
      "text/html": [
       "<div>\n",
       "<style scoped>\n",
       "    .dataframe tbody tr th:only-of-type {\n",
       "        vertical-align: middle;\n",
       "    }\n",
       "\n",
       "    .dataframe tbody tr th {\n",
       "        vertical-align: top;\n",
       "    }\n",
       "\n",
       "    .dataframe thead th {\n",
       "        text-align: right;\n",
       "    }\n",
       "</style>\n",
       "<table border=\"1\" class=\"dataframe\">\n",
       "  <thead>\n",
       "    <tr style=\"text-align: right;\">\n",
       "      <th></th>\n",
       "      <th>Pregnancies</th>\n",
       "      <th>Glucose</th>\n",
       "      <th>BloodPressure</th>\n",
       "      <th>SkinThickness</th>\n",
       "      <th>Insulin</th>\n",
       "      <th>BMI</th>\n",
       "      <th>DiabetesPedigreeFunction</th>\n",
       "      <th>Age</th>\n",
       "      <th>Outcome</th>\n",
       "    </tr>\n",
       "  </thead>\n",
       "  <tbody>\n",
       "    <tr>\n",
       "      <th>0</th>\n",
       "      <td>6.0</td>\n",
       "      <td>148.0</td>\n",
       "      <td>72.0</td>\n",
       "      <td>35.0</td>\n",
       "      <td>0.0</td>\n",
       "      <td>336</td>\n",
       "      <td>627.0</td>\n",
       "      <td>50</td>\n",
       "      <td>1.0</td>\n",
       "    </tr>\n",
       "    <tr>\n",
       "      <th>1</th>\n",
       "      <td>1.0</td>\n",
       "      <td>85.0</td>\n",
       "      <td>66.0</td>\n",
       "      <td>29.0</td>\n",
       "      <td>0.0</td>\n",
       "      <td>266</td>\n",
       "      <td>351.0</td>\n",
       "      <td>31</td>\n",
       "      <td>0.0</td>\n",
       "    </tr>\n",
       "    <tr>\n",
       "      <th>3</th>\n",
       "      <td>1.0</td>\n",
       "      <td>89.0</td>\n",
       "      <td>66.0</td>\n",
       "      <td>23.0</td>\n",
       "      <td>94.0</td>\n",
       "      <td>281</td>\n",
       "      <td>167.0</td>\n",
       "      <td>21</td>\n",
       "      <td>0.0</td>\n",
       "    </tr>\n",
       "    <tr>\n",
       "      <th>4</th>\n",
       "      <td>0.0</td>\n",
       "      <td>137.0</td>\n",
       "      <td>40.0</td>\n",
       "      <td>35.0</td>\n",
       "      <td>168.0</td>\n",
       "      <td>431</td>\n",
       "      <td>2288.0</td>\n",
       "      <td>33</td>\n",
       "      <td>1.0</td>\n",
       "    </tr>\n",
       "    <tr>\n",
       "      <th>6</th>\n",
       "      <td>3.0</td>\n",
       "      <td>78.0</td>\n",
       "      <td>50.0</td>\n",
       "      <td>32.0</td>\n",
       "      <td>88.0</td>\n",
       "      <td>31</td>\n",
       "      <td>248.0</td>\n",
       "      <td>26</td>\n",
       "      <td>1.0</td>\n",
       "    </tr>\n",
       "    <tr>\n",
       "      <th>...</th>\n",
       "      <td>...</td>\n",
       "      <td>...</td>\n",
       "      <td>...</td>\n",
       "      <td>...</td>\n",
       "      <td>...</td>\n",
       "      <td>...</td>\n",
       "      <td>...</td>\n",
       "      <td>...</td>\n",
       "      <td>...</td>\n",
       "    </tr>\n",
       "    <tr>\n",
       "      <th>761</th>\n",
       "      <td>9.0</td>\n",
       "      <td>170.0</td>\n",
       "      <td>74.0</td>\n",
       "      <td>31.0</td>\n",
       "      <td>0.0</td>\n",
       "      <td>44</td>\n",
       "      <td>403.0</td>\n",
       "      <td>43</td>\n",
       "      <td>1.0</td>\n",
       "    </tr>\n",
       "    <tr>\n",
       "      <th>763</th>\n",
       "      <td>10.0</td>\n",
       "      <td>101.0</td>\n",
       "      <td>76.0</td>\n",
       "      <td>48.0</td>\n",
       "      <td>180.0</td>\n",
       "      <td>329</td>\n",
       "      <td>171.0</td>\n",
       "      <td>63</td>\n",
       "      <td>0.0</td>\n",
       "    </tr>\n",
       "    <tr>\n",
       "      <th>764</th>\n",
       "      <td>2.0</td>\n",
       "      <td>122.0</td>\n",
       "      <td>70.0</td>\n",
       "      <td>27.0</td>\n",
       "      <td>0.0</td>\n",
       "      <td>368</td>\n",
       "      <td>34.0</td>\n",
       "      <td>27</td>\n",
       "      <td>0.0</td>\n",
       "    </tr>\n",
       "    <tr>\n",
       "      <th>765</th>\n",
       "      <td>5.0</td>\n",
       "      <td>121.0</td>\n",
       "      <td>72.0</td>\n",
       "      <td>23.0</td>\n",
       "      <td>112.0</td>\n",
       "      <td>262</td>\n",
       "      <td>245.0</td>\n",
       "      <td>30</td>\n",
       "      <td>0.0</td>\n",
       "    </tr>\n",
       "    <tr>\n",
       "      <th>767</th>\n",
       "      <td>1.0</td>\n",
       "      <td>93.0</td>\n",
       "      <td>70.0</td>\n",
       "      <td>31.0</td>\n",
       "      <td>0.0</td>\n",
       "      <td>304</td>\n",
       "      <td>315.0</td>\n",
       "      <td>23</td>\n",
       "      <td>0.0</td>\n",
       "    </tr>\n",
       "  </tbody>\n",
       "</table>\n",
       "<p>531 rows × 9 columns</p>\n",
       "</div>"
      ],
      "text/plain": [
       "     Pregnancies  Glucose  BloodPressure  SkinThickness  Insulin  BMI  \\\n",
       "0            6.0    148.0           72.0           35.0      0.0  336   \n",
       "1            1.0     85.0           66.0           29.0      0.0  266   \n",
       "3            1.0     89.0           66.0           23.0     94.0  281   \n",
       "4            0.0    137.0           40.0           35.0    168.0  431   \n",
       "6            3.0     78.0           50.0           32.0     88.0   31   \n",
       "..           ...      ...            ...            ...      ...  ...   \n",
       "761          9.0    170.0           74.0           31.0      0.0   44   \n",
       "763         10.0    101.0           76.0           48.0    180.0  329   \n",
       "764          2.0    122.0           70.0           27.0      0.0  368   \n",
       "765          5.0    121.0           72.0           23.0    112.0  262   \n",
       "767          1.0     93.0           70.0           31.0      0.0  304   \n",
       "\n",
       "     DiabetesPedigreeFunction  Age  Outcome  \n",
       "0                       627.0   50      1.0  \n",
       "1                       351.0   31      0.0  \n",
       "3                       167.0   21      0.0  \n",
       "4                      2288.0   33      1.0  \n",
       "6                       248.0   26      1.0  \n",
       "..                        ...  ...      ...  \n",
       "761                     403.0   43      1.0  \n",
       "763                     171.0   63      0.0  \n",
       "764                      34.0   27      0.0  \n",
       "765                     245.0   30      0.0  \n",
       "767                     315.0   23      0.0  \n",
       "\n",
       "[531 rows x 9 columns]"
      ]
     },
     "execution_count": 14,
     "metadata": {},
     "output_type": "execute_result"
    }
   ],
   "source": [
    "#Restricciones\n",
    "\n",
    "#Edad menor a 100 y mayor a 21\n",
    "datoslimpios = datoslimpios[datoslimpios.Age < 100]\n",
    "datoslimpios = datoslimpios[datoslimpios.Age >= 21]\n",
    "\n",
    "#BMI no puede ser 0\n",
    "datoslimpios = datoslimpios[datoslimpios.BMI >0]\n",
    "\n",
    "#Glucosa no puede ser 0\n",
    "datoslimpios = datoslimpios[datoslimpios.Glucose >0]\n",
    "\n",
    "#BloodPressure no puede ser 0\n",
    "datoslimpios = datoslimpios[datoslimpios.BloodPressure >0]\n",
    "\n",
    "#SkinThickness no puede ser 0\n",
    "datoslimpios = datoslimpios[datoslimpios.SkinThickness> 0]\n",
    "\n",
    "#Quitar color de pelo y ciudad\n",
    "datoslimpios = datoslimpios.drop(['HairColor'], axis=1)\n",
    "datoslimpios = datoslimpios.drop(['City'], axis=1)\n",
    "\n",
    "datoslimpios"
   ]
  },
  {
   "cell_type": "markdown",
   "metadata": {},
   "source": [
    "# Clasificadores:"
   ]
  },
  {
   "cell_type": "markdown",
   "metadata": {},
   "source": [
    "## K-Nearest-neighbours"
   ]
  },
  {
   "cell_type": "markdown",
   "metadata": {},
   "source": [
    "### Construcción del modelo "
   ]
  },
  {
   "cell_type": "code",
   "execution_count": 15,
   "metadata": {},
   "outputs": [],
   "source": [
    "# Se selecciona la variable objetivo, en este caso \"Outcome\".\n",
    "Y = datoslimpios['Outcome']\n",
    "# Del conjunto de datos se elimina la variable \"Outcome\"\n",
    "X = datoslimpios.drop(['Outcome'], axis=1)"
   ]
  },
  {
   "cell_type": "code",
   "execution_count": 16,
   "metadata": {},
   "outputs": [],
   "source": [
    "# Dividir los datos en entrenamiento y test\n",
    "X_train, X_test, Y_train, Y_test = train_test_split(X, Y, test_size=0.2, random_state=0)"
   ]
  },
  {
   "cell_type": "markdown",
   "metadata": {},
   "source": [
    "#### 4.1. Primer intento con KNN"
   ]
  },
  {
   "cell_type": "code",
   "execution_count": 17,
   "metadata": {},
   "outputs": [],
   "source": [
    "neigh = KNeighborsClassifier(n_neighbors=3)\n",
    "neigh = neigh.fit(X_train, Y_train)"
   ]
  },
  {
   "cell_type": "code",
   "execution_count": 18,
   "metadata": {},
   "outputs": [],
   "source": [
    "y_pred = neigh.predict(X_test)"
   ]
  },
  {
   "cell_type": "code",
   "execution_count": 19,
   "metadata": {},
   "outputs": [
    {
     "data": {
      "text/plain": [
       "array([[59,  5],\n",
       "       [27, 16]])"
      ]
     },
     "execution_count": 19,
     "metadata": {},
     "output_type": "execute_result"
    }
   ],
   "source": [
    "# Se genera la matriz de confusión\n",
    "confusion_matrix(Y_test, y_pred)"
   ]
  },
  {
   "cell_type": "code",
   "execution_count": 20,
   "metadata": {},
   "outputs": [
    {
     "data": {
      "image/png": "[encoded data removed]",
      "text/plain": [
       "<Figure size 432x288 with 2 Axes>"
      ]
     },
     "metadata": {
      "needs_background": "light"
     },
     "output_type": "display_data"
    }
   ],
   "source": [
    "# Se puede visualizar la matriz de confusión\n",
    "plot_confusion_matrix(neigh, X_test, Y_test)  \n",
    "plt.show()"
   ]
  },
  {
   "cell_type": "code",
   "execution_count": 21,
   "metadata": {},
   "outputs": [
    {
     "name": "stdout",
     "output_type": "stream",
     "text": [
      "              precision    recall  f1-score   support\n",
      "\n",
      "         0.0       0.69      0.92      0.79        64\n",
      "         1.0       0.76      0.37      0.50        43\n",
      "\n",
      "    accuracy                           0.70       107\n",
      "   macro avg       0.72      0.65      0.64       107\n",
      "weighted avg       0.72      0.70      0.67       107\n",
      "\n"
     ]
    }
   ],
   "source": [
    "# Mostrar reporte de clasificación\n",
    "print(classification_report(Y_test, y_pred))"
   ]
  },
  {
   "cell_type": "markdown",
   "metadata": {},
   "source": [
    "#### KNN uso mejorado\n"
   ]
  },
  {
   "cell_type": "code",
   "execution_count": 22,
   "metadata": {},
   "outputs": [
    {
     "name": "stdout",
     "output_type": "stream",
     "text": [
      "     Pregnancies   Glucose  BloodPressure  SkinThickness   Insulin       BMI  \\\n",
      "0       0.352941  0.643357       0.558140       0.304348  0.000000  0.485407   \n",
      "1       0.058824  0.202797       0.488372       0.239130  0.000000  0.377880   \n",
      "3       0.058824  0.230769       0.488372       0.173913  0.111111  0.400922   \n",
      "4       0.000000  0.566434       0.186047       0.304348  0.198582  0.631336   \n",
      "6       0.176471  0.153846       0.302326       0.271739  0.104019  0.016897   \n",
      "..           ...       ...            ...            ...       ...       ...   \n",
      "761     0.529412  0.797203       0.581395       0.260870  0.000000  0.036866   \n",
      "763     0.588235  0.314685       0.604651       0.445652  0.212766  0.474654   \n",
      "764     0.117647  0.461538       0.534884       0.217391  0.000000  0.534562   \n",
      "765     0.294118  0.454545       0.558140       0.173913  0.132388  0.371736   \n",
      "767     0.058824  0.258741       0.534884       0.260870  0.000000  0.436252   \n",
      "\n",
      "     DiabetesPedigreeFunction       Age  Outcome  \n",
      "0                    0.268900  0.483333      1.0  \n",
      "1                    0.150344  0.166667      0.0  \n",
      "3                    0.071306  0.000000      0.0  \n",
      "4                    0.982388  0.200000      1.0  \n",
      "6                    0.106100  0.083333      1.0  \n",
      "..                        ...       ...      ...  \n",
      "761                  0.172680  0.366667      1.0  \n",
      "763                  0.073024  0.700000      0.0  \n",
      "764                  0.014175  0.100000      0.0  \n",
      "765                  0.104811  0.150000      0.0  \n",
      "767                  0.134880  0.033333      0.0  \n",
      "\n",
      "[531 rows x 9 columns]\n"
     ]
    }
   ],
   "source": [
    "KNNmejorado = datoslimpios.copy()\n",
    "KNNmejorado\n",
    "normalizado=(KNNmejorado-KNNmejorado.min())/(KNNmejorado.max()-KNNmejorado.min())\n",
    "\n",
    "print(normalizado)"
   ]
  },
  {
   "cell_type": "code",
   "execution_count": 23,
   "metadata": {},
   "outputs": [
    {
     "data": {
      "text/html": [
       "<div>\n",
       "<style scoped>\n",
       "    .dataframe tbody tr th:only-of-type {\n",
       "        vertical-align: middle;\n",
       "    }\n",
       "\n",
       "    .dataframe tbody tr th {\n",
       "        vertical-align: top;\n",
       "    }\n",
       "\n",
       "    .dataframe thead th {\n",
       "        text-align: right;\n",
       "    }\n",
       "</style>\n",
       "<table border=\"1\" class=\"dataframe\">\n",
       "  <thead>\n",
       "    <tr style=\"text-align: right;\">\n",
       "      <th></th>\n",
       "      <th>Pregnancies</th>\n",
       "      <th>Glucose</th>\n",
       "      <th>BloodPressure</th>\n",
       "      <th>SkinThickness</th>\n",
       "      <th>Insulin</th>\n",
       "      <th>BMI</th>\n",
       "      <th>DiabetesPedigreeFunction</th>\n",
       "      <th>Age</th>\n",
       "      <th>Outcome</th>\n",
       "    </tr>\n",
       "  </thead>\n",
       "  <tbody>\n",
       "    <tr>\n",
       "      <th>count</th>\n",
       "      <td>531.000000</td>\n",
       "      <td>531.000000</td>\n",
       "      <td>531.000000</td>\n",
       "      <td>531.000000</td>\n",
       "      <td>531.000000</td>\n",
       "      <td>531.000000</td>\n",
       "      <td>531.000000</td>\n",
       "      <td>531.000000</td>\n",
       "      <td>531.000000</td>\n",
       "    </tr>\n",
       "    <tr>\n",
       "      <th>mean</th>\n",
       "      <td>0.207156</td>\n",
       "      <td>0.455085</td>\n",
       "      <td>0.552556</td>\n",
       "      <td>0.241157</td>\n",
       "      <td>0.135983</td>\n",
       "      <td>0.430703</td>\n",
       "      <td>0.198619</td>\n",
       "      <td>0.177244</td>\n",
       "      <td>0.333333</td>\n",
       "    </tr>\n",
       "    <tr>\n",
       "      <th>std</th>\n",
       "      <td>0.194903</td>\n",
       "      <td>0.216849</td>\n",
       "      <td>0.143227</td>\n",
       "      <td>0.114493</td>\n",
       "      <td>0.145529</td>\n",
       "      <td>0.170487</td>\n",
       "      <td>0.148477</td>\n",
       "      <td>0.179364</td>\n",
       "      <td>0.471849</td>\n",
       "    </tr>\n",
       "    <tr>\n",
       "      <th>min</th>\n",
       "      <td>0.000000</td>\n",
       "      <td>0.000000</td>\n",
       "      <td>0.000000</td>\n",
       "      <td>0.000000</td>\n",
       "      <td>0.000000</td>\n",
       "      <td>0.000000</td>\n",
       "      <td>0.000000</td>\n",
       "      <td>0.000000</td>\n",
       "      <td>0.000000</td>\n",
       "    </tr>\n",
       "    <tr>\n",
       "      <th>25%</th>\n",
       "      <td>0.058824</td>\n",
       "      <td>0.300699</td>\n",
       "      <td>0.465116</td>\n",
       "      <td>0.163043</td>\n",
       "      <td>0.000000</td>\n",
       "      <td>0.370968</td>\n",
       "      <td>0.100086</td>\n",
       "      <td>0.033333</td>\n",
       "      <td>0.000000</td>\n",
       "    </tr>\n",
       "    <tr>\n",
       "      <th>50%</th>\n",
       "      <td>0.117647</td>\n",
       "      <td>0.412587</td>\n",
       "      <td>0.558140</td>\n",
       "      <td>0.239130</td>\n",
       "      <td>0.108747</td>\n",
       "      <td>0.465438</td>\n",
       "      <td>0.164948</td>\n",
       "      <td>0.116667</td>\n",
       "      <td>0.000000</td>\n",
       "    </tr>\n",
       "    <tr>\n",
       "      <th>75%</th>\n",
       "      <td>0.294118</td>\n",
       "      <td>0.597902</td>\n",
       "      <td>0.651163</td>\n",
       "      <td>0.315217</td>\n",
       "      <td>0.195626</td>\n",
       "      <td>0.531490</td>\n",
       "      <td>0.273196</td>\n",
       "      <td>0.283333</td>\n",
       "      <td>1.000000</td>\n",
       "    </tr>\n",
       "    <tr>\n",
       "      <th>max</th>\n",
       "      <td>1.000000</td>\n",
       "      <td>1.000000</td>\n",
       "      <td>1.000000</td>\n",
       "      <td>1.000000</td>\n",
       "      <td>1.000000</td>\n",
       "      <td>1.000000</td>\n",
       "      <td>1.000000</td>\n",
       "      <td>1.000000</td>\n",
       "      <td>1.000000</td>\n",
       "    </tr>\n",
       "  </tbody>\n",
       "</table>\n",
       "</div>"
      ],
      "text/plain": [
       "       Pregnancies     Glucose  BloodPressure  SkinThickness     Insulin  \\\n",
       "count   531.000000  531.000000     531.000000     531.000000  531.000000   \n",
       "mean      0.207156    0.455085       0.552556       0.241157    0.135983   \n",
       "std       0.194903    0.216849       0.143227       0.114493    0.145529   \n",
       "min       0.000000    0.000000       0.000000       0.000000    0.000000   \n",
       "25%       0.058824    0.300699       0.465116       0.163043    0.000000   \n",
       "50%       0.117647    0.412587       0.558140       0.239130    0.108747   \n",
       "75%       0.294118    0.597902       0.651163       0.315217    0.195626   \n",
       "max       1.000000    1.000000       1.000000       1.000000    1.000000   \n",
       "\n",
       "              BMI  DiabetesPedigreeFunction         Age     Outcome  \n",
       "count  531.000000                531.000000  531.000000  531.000000  \n",
       "mean     0.430703                  0.198619    0.177244    0.333333  \n",
       "std      0.170487                  0.148477    0.179364    0.471849  \n",
       "min      0.000000                  0.000000    0.000000    0.000000  \n",
       "25%      0.370968                  0.100086    0.033333    0.000000  \n",
       "50%      0.465438                  0.164948    0.116667    0.000000  \n",
       "75%      0.531490                  0.273196    0.283333    1.000000  \n",
       "max      1.000000                  1.000000    1.000000    1.000000  "
      ]
     },
     "execution_count": 23,
     "metadata": {},
     "output_type": "execute_result"
    }
   ],
   "source": [
    "normalizado.describe()"
   ]
  },
  {
   "cell_type": "code",
   "execution_count": 24,
   "metadata": {},
   "outputs": [
    {
     "name": "stdout",
     "output_type": "stream",
     "text": [
      "Exactitud: 0.68\n",
      "Recall: 0.3953488372093023\n",
      "Precisión: 0.68\n",
      "Puntuación F1: 0.5\n"
     ]
    }
   ],
   "source": [
    "# Se selecciona la variable objetivo, en este caso \"Outcome\".\n",
    "Y = normalizado['Outcome']\n",
    "# Del conjunto de datos se elimina la variable \"Outcome\"\n",
    "X = normalizado.drop(['Outcome'], axis=1)\n",
    "\n",
    "X_train, X_test, Y_train, Y_test = train_test_split(X, Y, test_size=0.2, random_state=0)\n",
    "neigh = KNeighborsClassifier(n_neighbors=3) # arbol = DecisionTreeClassifier(criterion='entropy', random_state=0)\n",
    "neigh = neigh.fit(X_train, Y_train) # arbol = arbol.fit(X_train,Y_train)\n",
    "y_pred = neigh.predict(X_test) # y_pred = arbol.predict(X_test)\n",
    "print('Exactitud: %.2f' % accuracy_score(Y_test, y_pred))\n",
    "print(\"Recall: {}\".format(recall_score(Y_test,y_pred)))\n",
    "print(\"Precisión: {}\".format(precision_score(Y_test,y_pred)))\n",
    "print(\"Puntuación F1: {}\".format(f1_score(Y_test,y_pred)))"
   ]
  },
  {
   "cell_type": "code",
   "execution_count": 25,
   "metadata": {},
   "outputs": [
    {
     "name": "stdout",
     "output_type": "stream",
     "text": [
      "Exactitud: 0.86\n",
      "Recall: 0.6940298507462687\n",
      "Precisión: 0.8378378378378378\n",
      "Puntuación F1: 0.7591836734693876\n"
     ]
    }
   ],
   "source": [
    "#Estadisticas con el conjunto de entrenamiento\n",
    "y_pred = neigh.predict(X_train) # y_pred = arbol.predict(X_train)\n",
    "print('Exactitud: %.2f' % accuracy_score(Y_train, y_pred))\n",
    "print(\"Recall: {}\".format(recall_score(Y_train,y_pred)))\n",
    "print(\"Precisión: {}\".format(precision_score(Y_train,y_pred)))\n",
    "print(\"Puntuación F1: {}\".format(f1_score(Y_train,y_pred)))"
   ]
  },
  {
   "cell_type": "markdown",
   "metadata": {},
   "source": [
    "### 5. Búsqueda de hiperparámetros"
   ]
  },
  {
   "cell_type": "code",
   "execution_count": 26,
   "metadata": {},
   "outputs": [
    {
     "name": "stdout",
     "output_type": "stream",
     "text": [
      "Best p: 1\n",
      "Best n_neighbors: 8\n"
     ]
    }
   ],
   "source": [
    "# https://scikit-learn.org/stable/modules/generated/sklearn.neighbors.KNeighborsClassifier.html\n",
    "\n",
    "# Lista de Hiperparámetros a afinar\n",
    "n_neighbors = list(range(1,10))\n",
    "n_odd_neighbors = list(filter(lambda x: (x % 2 != 0), n_neighbors))\n",
    "p=[1,2] #Función de distancia 1: manhattan, 2: euclidean, otro valor: minkowski\n",
    "\n",
    "#Convert to dictionary\n",
    "hyperparameters = dict(n_neighbors=n_neighbors, p=p)\n",
    "\n",
    "#Create new KNN object\n",
    "knn_2 = KNeighborsClassifier()\n",
    "\n",
    "#Use GridSearch\n",
    "mejor_modelo_knn = GridSearchCV(knn_2, hyperparameters, cv=10)\n",
    "\n",
    "#Fit the model\n",
    "mejor_modelo_knn.fit(X_train, Y_train)\n",
    "\n",
    "#Print The value of best Hyperparameters\n",
    "print('Best p:', mejor_modelo_knn.best_estimator_.get_params()['p'])\n",
    "print('Best n_neighbors:', mejor_modelo_knn.best_estimator_.get_params()['n_neighbors'])"
   ]
  },
  {
   "cell_type": "code",
   "execution_count": 27,
   "metadata": {},
   "outputs": [
    {
     "name": "stdout",
     "output_type": "stream",
     "text": [
      "Exactitud sobre entrenamiento: 0.81\n",
      "Exactitud sobre test: 0.70\n"
     ]
    }
   ],
   "source": [
    "# Obtener el mejor modelo.\n",
    "neigh_final = mejor_modelo_knn.best_estimator_\n",
    "# Probemos ahora este modelo sobre test.\n",
    "y_pred_train = neigh_final.predict(X_train)\n",
    "y_pred_test = neigh_final.predict(X_test)\n",
    "print('Exactitud sobre entrenamiento: %.2f' % accuracy_score(Y_train, y_pred_train))\n",
    "print('Exactitud sobre test: %.2f' % accuracy_score(Y_test, y_pred_test))"
   ]
  },
  {
   "cell_type": "code",
   "execution_count": 28,
   "metadata": {},
   "outputs": [
    {
     "name": "stdout",
     "output_type": "stream",
     "text": [
      "              precision    recall  f1-score   support\n",
      "\n",
      "         0.0       0.68      0.95      0.79        64\n",
      "         1.0       0.82      0.33      0.47        43\n",
      "\n",
      "    accuracy                           0.70       107\n",
      "   macro avg       0.75      0.64      0.63       107\n",
      "weighted avg       0.74      0.70      0.66       107\n",
      "\n"
     ]
    }
   ],
   "source": [
    "print(classification_report(Y_test, y_pred_test))"
   ]
  },
  {
   "cell_type": "markdown",
   "metadata": {},
   "source": [
    "## Arboles de Decisión"
   ]
  },
  {
   "cell_type": "markdown",
   "metadata": {},
   "source": [
    "### Construcción del modelo"
   ]
  },
  {
   "cell_type": "code",
   "execution_count": 30,
   "metadata": {},
   "outputs": [],
   "source": [
    "# Se selecciona la variable objetivo, en este caso \"Popularity_label\".\n",
    "Y = datoslimpios['Outcome']\n",
    "# Del conjunto de datos se elimina la variable \"Popularity_label\"\n",
    "X = datoslimpios.drop(['Outcome'], axis=1)"
   ]
  },
  {
   "cell_type": "code",
   "execution_count": 31,
   "metadata": {},
   "outputs": [],
   "source": [
    "# Dividir los datos en entrenamiento y test\n",
    "X_train, X_test, Y_train, Y_test = train_test_split(X, Y, test_size=0.2, random_state=0)"
   ]
  },
  {
   "cell_type": "code",
   "execution_count": 32,
   "metadata": {},
   "outputs": [
    {
     "name": "stdout",
     "output_type": "stream",
     "text": [
      "Exactitud: 0.73\n",
      "Recall: 0.4883720930232558\n",
      "Precisión: 0.75\n",
      "Puntuación F1: 0.5915492957746479\n"
     ]
    }
   ],
   "source": [
    "arbol = DecisionTreeClassifier(criterion='entropy', random_state=0)\n",
    "arbol = arbol.fit(X_train,Y_train)\n",
    "y_pred = arbol.predict(X_test)\n",
    "print('Exactitud: %.2f' % accuracy_score(Y_test, y_pred))\n",
    "print(\"Recall: {}\".format(recall_score(Y_test,y_pred)))\n",
    "print(\"Precisión: {}\".format(precision_score(Y_test,y_pred)))\n",
    "print(\"Puntuación F1: {}\".format(f1_score(Y_test,y_pred)))"
   ]
  },
  {
   "cell_type": "markdown",
   "metadata": {},
   "source": [
    "### Búsqueda de hiperparámetros"
   ]
  },
  {
   "cell_type": "code",
   "execution_count": 33,
   "metadata": {},
   "outputs": [],
   "source": [
    "# Fijemos el número de particiones. Utilizaremos K = 10.\n",
    "particiones = KFold(n_splits=10, shuffle=True, random_state = 0)\n",
    "\n",
    "# Establecemos el espacio de búsqueda para los hiperparámetros que deseamos ajustar. \n",
    "param_grid = {'criterion':['gini', 'entropy'],'max_depth':[4,6,8,10,20],'min_samples_split':[2, 3, 4, 5]}\n",
    "\n",
    "# Definimos el modelo sin ningún valor de estos hiperparámetros\n",
    "arbol = DecisionTreeClassifier(random_state=0)"
   ]
  },
  {
   "cell_type": "code",
   "execution_count": 34,
   "metadata": {},
   "outputs": [
    {
     "data": {
      "text/plain": [
       "GridSearchCV(cv=KFold(n_splits=10, random_state=0, shuffle=True),\n",
       "             estimator=DecisionTreeClassifier(random_state=0),\n",
       "             param_grid={'criterion': ['gini', 'entropy'],\n",
       "                         'max_depth': [4, 6, 8, 10, 20],\n",
       "                         'min_samples_split': [2, 3, 4, 5]})"
      ]
     },
     "execution_count": 34,
     "metadata": {},
     "output_type": "execute_result"
    }
   ],
   "source": [
    "# Ahora utilizamos GridSearch sobre el grid definido y con 10 particiones en la validación cruzada.\n",
    "mejor_modelo = GridSearchCV(arbol, param_grid, cv=particiones)\n",
    "# Ajuste del modelo\n",
    "mejor_modelo.fit(X_train, Y_train)"
   ]
  },
  {
   "cell_type": "code",
   "execution_count": 35,
   "metadata": {},
   "outputs": [
    {
     "data": {
      "text/plain": [
       "{'criterion': 'gini', 'max_depth': 4, 'min_samples_split': 2}"
      ]
     },
     "execution_count": 35,
     "metadata": {},
     "output_type": "execute_result"
    }
   ],
   "source": [
    "# Podemos ver cuál fue el resultado de la búsqueda (mejores valores de hiperparámetros)\n",
    "mejor_modelo.best_params_"
   ]
  },
  {
   "cell_type": "code",
   "execution_count": 36,
   "metadata": {},
   "outputs": [
    {
     "name": "stdout",
     "output_type": "stream",
     "text": [
      "Exactitud sobre entrenamiento: 0.86\n",
      "Recall: 0.7014925373134329\n",
      "Precisión: 0.8173913043478261\n",
      "Puntuación F1: 0.7550200803212851\n"
     ]
    }
   ],
   "source": [
    "# Obtener el mejor modelo.\n",
    "arbol_final = mejor_modelo.best_estimator_\n",
    "# Probemos ahora este modelo sobre test.\n",
    "y_pred_train = arbol_final.predict(X_train)\n",
    "y_pred_test = arbol_final.predict(X_test)\n",
    "print('Exactitud sobre entrenamiento: %.2f' % accuracy_score(Y_train, y_pred_train))\n",
    "print(\"Recall: {}\".format(recall_score(Y_train,y_pred_train)))\n",
    "print(\"Precisión: {}\".format(precision_score(Y_train, y_pred_train)))\n",
    "print(\"Puntuación F1: {}\".format(f1_score(Y_train, y_pred_train)))"
   ]
  },
  {
   "cell_type": "code",
   "execution_count": 43,
   "metadata": {},
   "outputs": [
    {
     "data": {
      "image/png": "[encoded data removed]",
      "text/plain": [
       "<Figure size 432x288 with 2 Axes>"
      ]
     },
     "metadata": {
      "needs_background": "light"
     },
     "output_type": "display_data"
    }
   ],
   "source": [
    "# Se puede visualizar la matriz de confusión\n",
    "plot_confusion_matrix(arbol_final, X_train, Y_train)  \n",
    "plt.show()"
   ]
  },
  {
   "cell_type": "markdown",
   "metadata": {},
   "source": [
    "### Interpretación del modelo"
   ]
  },
  {
   "cell_type": "code",
   "execution_count": 37,
   "metadata": {},
   "outputs": [
    {
     "data": {
      "text/plain": [
       "array([0.02740255, 0.44653644, 0.03286773, 0.01407535, 0.08981438,\n",
       "       0.06106254, 0.13251154, 0.19572947])"
      ]
     },
     "execution_count": 37,
     "metadata": {},
     "output_type": "execute_result"
    }
   ],
   "source": [
    "# Obtener la importancia de las variables. Para esto podemos utilizar uno de los atributos del modelo \"feature_importances_\", el\n",
    "# cual nos devuelve un coeficiente o peso para cada atributo: mientras más grande sea este más importante será la variable\n",
    "# asociada.\n",
    "importancia = arbol_final.feature_importances_\n",
    "importancia"
   ]
  },
  {
   "cell_type": "code",
   "execution_count": 38,
   "metadata": {},
   "outputs": [
    {
     "data": {
      "text/html": [
       "<div>\n",
       "<style scoped>\n",
       "    .dataframe tbody tr th:only-of-type {\n",
       "        vertical-align: middle;\n",
       "    }\n",
       "\n",
       "    .dataframe tbody tr th {\n",
       "        vertical-align: top;\n",
       "    }\n",
       "\n",
       "    .dataframe thead th {\n",
       "        text-align: right;\n",
       "    }\n",
       "</style>\n",
       "<table border=\"1\" class=\"dataframe\">\n",
       "  <thead>\n",
       "    <tr style=\"text-align: right;\">\n",
       "      <th></th>\n",
       "      <th>Atributo</th>\n",
       "      <th>Importancia</th>\n",
       "    </tr>\n",
       "  </thead>\n",
       "  <tbody>\n",
       "    <tr>\n",
       "      <th>0</th>\n",
       "      <td>Glucose</td>\n",
       "      <td>0.446536</td>\n",
       "    </tr>\n",
       "    <tr>\n",
       "      <th>1</th>\n",
       "      <td>Age</td>\n",
       "      <td>0.195729</td>\n",
       "    </tr>\n",
       "    <tr>\n",
       "      <th>2</th>\n",
       "      <td>DiabetesPedigreeFunction</td>\n",
       "      <td>0.132512</td>\n",
       "    </tr>\n",
       "    <tr>\n",
       "      <th>3</th>\n",
       "      <td>Insulin</td>\n",
       "      <td>0.089814</td>\n",
       "    </tr>\n",
       "    <tr>\n",
       "      <th>4</th>\n",
       "      <td>BMI</td>\n",
       "      <td>0.061063</td>\n",
       "    </tr>\n",
       "    <tr>\n",
       "      <th>5</th>\n",
       "      <td>BloodPressure</td>\n",
       "      <td>0.032868</td>\n",
       "    </tr>\n",
       "    <tr>\n",
       "      <th>6</th>\n",
       "      <td>Pregnancies</td>\n",
       "      <td>0.027403</td>\n",
       "    </tr>\n",
       "    <tr>\n",
       "      <th>7</th>\n",
       "      <td>SkinThickness</td>\n",
       "      <td>0.014075</td>\n",
       "    </tr>\n",
       "  </tbody>\n",
       "</table>\n",
       "</div>"
      ],
      "text/plain": [
       "                   Atributo  Importancia\n",
       "0                   Glucose     0.446536\n",
       "1                       Age     0.195729\n",
       "2  DiabetesPedigreeFunction     0.132512\n",
       "3                   Insulin     0.089814\n",
       "4                       BMI     0.061063\n",
       "5             BloodPressure     0.032868\n",
       "6               Pregnancies     0.027403\n",
       "7             SkinThickness     0.014075"
      ]
     },
     "execution_count": 38,
     "metadata": {},
     "output_type": "execute_result"
    }
   ],
   "source": [
    "importancia_atributo = pd.DataFrame(data={\"Atributo\": X_train.columns,\"Importancia\": importancia})\n",
    "importancia_atributo = importancia_atributo.sort_values(by='Importancia', ascending=False).reset_index(drop=True)\n",
    "importancia_atributo"
   ]
  },
  {
   "cell_type": "code",
   "execution_count": 39,
   "metadata": {},
   "outputs": [
    {
     "data": {
      "image/png": "[encoded data removed]",
      "text/plain": [
       "<Figure size 1800x720 with 1 Axes>"
      ]
     },
     "metadata": {
      "needs_background": "light"
     },
     "output_type": "display_data"
    }
   ],
   "source": [
    "fig = plt.figure(figsize=(25,10))\n",
    "_ = tree.plot_tree(arbol_final, max_depth=3, feature_names=X.columns, class_names=[\"0\", \"1\"], filled=True, fontsize=9)"
   ]
  },
  {
   "cell_type": "markdown",
   "metadata": {},
   "source": [
    "## Clasificador de Libre Elección: Regresión Logística"
   ]
  },
  {
   "cell_type": "markdown",
   "metadata": {},
   "source": [
    "### Construcción del modelo"
   ]
  },
  {
   "cell_type": "code",
   "execution_count": 44,
   "metadata": {},
   "outputs": [],
   "source": [
    "modelname=\"Regresion Logistica\""
   ]
  },
  {
   "cell_type": "code",
   "execution_count": 45,
   "metadata": {},
   "outputs": [],
   "source": [
    "x = datoslimpios.drop('Outcome',axis = 1)\n",
    "y = datoslimpios.Outcome"
   ]
  },
  {
   "cell_type": "code",
   "execution_count": 46,
   "metadata": {},
   "outputs": [],
   "source": [
    "x_train, x_test, y_train, y_test = train_test_split(x, y, random_state=4)"
   ]
  },
  {
   "cell_type": "markdown",
   "metadata": {},
   "source": [
    "### Busqueda de Hiperparámetros"
   ]
  },
  {
   "cell_type": "code",
   "execution_count": 47,
   "metadata": {},
   "outputs": [],
   "source": [
    "lr = LogisticRegression(solver='lbfgs',max_iter=1000)"
   ]
  },
  {
   "cell_type": "code",
   "execution_count": 48,
   "metadata": {},
   "outputs": [
    {
     "data": {
      "text/plain": [
       "LogisticRegression(max_iter=1000)"
      ]
     },
     "execution_count": 48,
     "metadata": {},
     "output_type": "execute_result"
    }
   ],
   "source": [
    "lr.fit(x_train,y_train)"
   ]
  },
  {
   "cell_type": "code",
   "execution_count": 49,
   "metadata": {},
   "outputs": [],
   "source": [
    "y_pred=lr.predict(x_test)"
   ]
  },
  {
   "cell_type": "code",
   "execution_count": 50,
   "metadata": {
    "scrolled": true
   },
   "outputs": [
    {
     "name": "stdout",
     "output_type": "stream",
     "text": [
      "Intercept: [-8.35202895]\n",
      "Coeficiente: [('Pregnancies', 0.0917974261313487), ('Glucose', 0.03872156718053289), ('BloodPressure', -0.01072564647035161), ('SkinThickness', 0.041945963713283387), ('Insulin', -0.0011031177126530143), ('BMI', 0.001629416843222045), ('DiabetesPedigreeFunction', 0.0015176320018447478), ('Age', 0.02643433001133034)]\n",
      "Accuracy: 0.7871939736346516\n"
     ]
    }
   ],
   "source": [
    "# Información del modelo\n",
    "# ==============================================================================\n",
    "print(\"Intercept:\", lr.intercept_)\n",
    "print(\"Coeficiente:\", list(zip(x.columns, lr.coef_.flatten(), )))\n",
    "print(\"Accuracy:\", lr.score(x, y))"
   ]
  },
  {
   "cell_type": "code",
   "execution_count": 44,
   "metadata": {},
   "outputs": [
    {
     "name": "stdout",
     "output_type": "stream",
     "text": [
      "              precision    recall  f1-score   support\n",
      "\n",
      "         0.0       0.79      0.89      0.84        87\n",
      "         1.0       0.72      0.57      0.63        46\n",
      "\n",
      "    accuracy                           0.77       133\n",
      "   macro avg       0.76      0.73      0.74       133\n",
      "weighted avg       0.77      0.77      0.77       133\n",
      "\n"
     ]
    }
   ],
   "source": [
    "# Mostrar reporte de clasificación\n",
    "print(classification_report(y_test, y_pred))"
   ]
  },
  {
   "cell_type": "code",
   "execution_count": 51,
   "metadata": {},
   "outputs": [
    {
     "data": {
      "text/html": [
       "<div>\n",
       "<style scoped>\n",
       "    .dataframe tbody tr th:only-of-type {\n",
       "        vertical-align: middle;\n",
       "    }\n",
       "\n",
       "    .dataframe tbody tr th {\n",
       "        vertical-align: top;\n",
       "    }\n",
       "\n",
       "    .dataframe thead th {\n",
       "        text-align: right;\n",
       "    }\n",
       "</style>\n",
       "<table border=\"1\" class=\"dataframe\">\n",
       "  <thead>\n",
       "    <tr style=\"text-align: right;\">\n",
       "      <th></th>\n",
       "      <th>0.0</th>\n",
       "      <th>1.0</th>\n",
       "    </tr>\n",
       "  </thead>\n",
       "  <tbody>\n",
       "    <tr>\n",
       "      <th>0</th>\n",
       "      <td>0.833012</td>\n",
       "      <td>0.166988</td>\n",
       "    </tr>\n",
       "    <tr>\n",
       "      <th>1</th>\n",
       "      <td>0.473739</td>\n",
       "      <td>0.526261</td>\n",
       "    </tr>\n",
       "    <tr>\n",
       "      <th>2</th>\n",
       "      <td>0.955230</td>\n",
       "      <td>0.044770</td>\n",
       "    </tr>\n",
       "    <tr>\n",
       "      <th>3</th>\n",
       "      <td>0.842753</td>\n",
       "      <td>0.157247</td>\n",
       "    </tr>\n",
       "    <tr>\n",
       "      <th>4</th>\n",
       "      <td>0.587482</td>\n",
       "      <td>0.412518</td>\n",
       "    </tr>\n",
       "    <tr>\n",
       "      <th>5</th>\n",
       "      <td>0.822638</td>\n",
       "      <td>0.177362</td>\n",
       "    </tr>\n",
       "    <tr>\n",
       "      <th>6</th>\n",
       "      <td>0.907326</td>\n",
       "      <td>0.092674</td>\n",
       "    </tr>\n",
       "    <tr>\n",
       "      <th>7</th>\n",
       "      <td>0.499198</td>\n",
       "      <td>0.500802</td>\n",
       "    </tr>\n",
       "  </tbody>\n",
       "</table>\n",
       "</div>"
      ],
      "text/plain": [
       "        0.0       1.0\n",
       "0  0.833012  0.166988\n",
       "1  0.473739  0.526261\n",
       "2  0.955230  0.044770\n",
       "3  0.842753  0.157247\n",
       "4  0.587482  0.412518\n",
       "5  0.822638  0.177362\n",
       "6  0.907326  0.092674\n",
       "7  0.499198  0.500802"
      ]
     },
     "execution_count": 51,
     "metadata": {},
     "output_type": "execute_result"
    }
   ],
   "source": [
    "# Predicciones probabilísticas\n",
    "# ==============================================================================\n",
    "# Con .predict_proba() se obtiene, para cada observación, la probabilidad predicha\n",
    "# de pertenecer a cada una de las dos clases.\n",
    "predicciones = lr.predict_proba( x_test)\n",
    "predicciones = pd.DataFrame(predicciones, columns = lr.classes_)\n",
    "predicciones.head(8)"
   ]
  },
  {
   "cell_type": "code",
   "execution_count": 52,
   "metadata": {},
   "outputs": [
    {
     "name": "stdout",
     "output_type": "stream",
     "text": [
      "Optimization terminated successfully.\n",
      "         Current function value: 0.442070\n",
      "         Iterations 6\n",
      "                           Logit Regression Results                           \n",
      "==============================================================================\n",
      "Dep. Variable:                Outcome   No. Observations:                  398\n",
      "Model:                          Logit   Df Residuals:                      389\n",
      "Method:                           MLE   Df Model:                            8\n",
      "Date:                Sat, 04 Sep 2021   Pseudo R-squ.:                  0.3023\n",
      "Time:                        19:36:55   Log-Likelihood:                -175.94\n",
      "converged:                       True   LL-Null:                       -252.16\n",
      "Covariance Type:            nonrobust   LLR p-value:                 6.084e-29\n",
      "============================================================================================\n",
      "                               coef    std err          z      P>|z|      [0.025      0.975]\n",
      "--------------------------------------------------------------------------------------------\n",
      "const                       -8.3515      1.040     -8.030      0.000     -10.390      -6.313\n",
      "Pregnancies                  0.0920      0.050      1.832      0.067      -0.006       0.190\n",
      "Glucose                      0.0387      0.005      7.080      0.000       0.028       0.049\n",
      "BloodPressure               -0.0107      0.012     -0.918      0.359      -0.034       0.012\n",
      "SkinThickness                0.0420      0.015      2.811      0.005       0.013       0.071\n",
      "Insulin                     -0.0011      0.001     -0.948      0.343      -0.003       0.001\n",
      "BMI                          0.0016      0.001      1.160      0.246      -0.001       0.004\n",
      "DiabetesPedigreeFunction     0.0015      0.000      3.736      0.000       0.001       0.002\n",
      "Age                          0.0264      0.016      1.657      0.097      -0.005       0.058\n",
      "============================================================================================\n"
     ]
    }
   ],
   "source": [
    "# Creación del modelo utilizando matrices como en scikitlearn\n",
    "# ==============================================================================\n",
    "# A la matriz de predictores se le tiene que añadir una columna de 1s para el intercept del modelo\n",
    "x_train = sm.add_constant(x_train, prepend=True)\n",
    "lr = sm.Logit(endog=y_train, exog=x_train,)\n",
    "lr = lr.fit()\n",
    "print(lr.summary())"
   ]
  },
  {
   "cell_type": "code",
   "execution_count": 53,
   "metadata": {},
   "outputs": [
    {
     "data": {
      "text/html": [
       "<div>\n",
       "<style scoped>\n",
       "    .dataframe tbody tr th:only-of-type {\n",
       "        vertical-align: middle;\n",
       "    }\n",
       "\n",
       "    .dataframe tbody tr th {\n",
       "        vertical-align: top;\n",
       "    }\n",
       "\n",
       "    .dataframe thead th {\n",
       "        text-align: right;\n",
       "    }\n",
       "</style>\n",
       "<table border=\"1\" class=\"dataframe\">\n",
       "  <thead>\n",
       "    <tr style=\"text-align: right;\">\n",
       "      <th></th>\n",
       "      <th>2.5%</th>\n",
       "      <th>97.5%</th>\n",
       "    </tr>\n",
       "  </thead>\n",
       "  <tbody>\n",
       "    <tr>\n",
       "      <th>const</th>\n",
       "      <td>-10.390024</td>\n",
       "      <td>-6.313075</td>\n",
       "    </tr>\n",
       "    <tr>\n",
       "      <th>Pregnancies</th>\n",
       "      <td>-0.006428</td>\n",
       "      <td>0.190482</td>\n",
       "    </tr>\n",
       "    <tr>\n",
       "      <th>Glucose</th>\n",
       "      <td>0.028003</td>\n",
       "      <td>0.049441</td>\n",
       "    </tr>\n",
       "    <tr>\n",
       "      <th>BloodPressure</th>\n",
       "      <td>-0.033633</td>\n",
       "      <td>0.012177</td>\n",
       "    </tr>\n",
       "    <tr>\n",
       "      <th>SkinThickness</th>\n",
       "      <td>0.012705</td>\n",
       "      <td>0.071200</td>\n",
       "    </tr>\n",
       "    <tr>\n",
       "      <th>Insulin</th>\n",
       "      <td>-0.003383</td>\n",
       "      <td>0.001176</td>\n",
       "    </tr>\n",
       "    <tr>\n",
       "      <th>BMI</th>\n",
       "      <td>-0.001123</td>\n",
       "      <td>0.004381</td>\n",
       "    </tr>\n",
       "    <tr>\n",
       "      <th>DiabetesPedigreeFunction</th>\n",
       "      <td>0.000721</td>\n",
       "      <td>0.002314</td>\n",
       "    </tr>\n",
       "    <tr>\n",
       "      <th>Age</th>\n",
       "      <td>-0.004824</td>\n",
       "      <td>0.057614</td>\n",
       "    </tr>\n",
       "  </tbody>\n",
       "</table>\n",
       "</div>"
      ],
      "text/plain": [
       "                               2.5%     97.5%\n",
       "const                    -10.390024 -6.313075\n",
       "Pregnancies               -0.006428  0.190482\n",
       "Glucose                    0.028003  0.049441\n",
       "BloodPressure             -0.033633  0.012177\n",
       "SkinThickness              0.012705  0.071200\n",
       "Insulin                   -0.003383  0.001176\n",
       "BMI                       -0.001123  0.004381\n",
       "DiabetesPedigreeFunction   0.000721  0.002314\n",
       "Age                       -0.004824  0.057614"
      ]
     },
     "execution_count": 53,
     "metadata": {},
     "output_type": "execute_result"
    }
   ],
   "source": [
    "# Intervalos de confianza para los coeficientes del modelo\n",
    "# ==============================================================================\n",
    "intervalos_ci = lr.conf_int(alpha=0.05)\n",
    "intervalos_ci = pd.DataFrame(intervalos_ci)\n",
    "intervalos_ci.columns = ['2.5%', '97.5%']\n",
    "intervalos_ci\n"
   ]
  }
 ],
 "metadata": {
  "kernelspec": {
   "display_name": "Python 3",
   "language": "python",
   "name": "python3"
  },
  "language_info": {
   "codemirror_mode": {
    "name": "ipython",
    "version": 3
   },
   "file_extension": ".py",
   "mimetype": "text/x-python",
   "name": "python",
   "nbconvert_exporter": "python",
   "pygments_lexer": "ipython3",
   "version": "3.8.5"
  }
 },
 "nbformat": 4,
 "nbformat_minor": 5
}
