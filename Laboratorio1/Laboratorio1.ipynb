{
 "cells": [
  {
   "cell_type": "markdown",
   "id": "e1b59eac",
   "metadata": {},
   "source": [
    "# Laboratorio 1"
   ]
  },
  {
   "cell_type": "markdown",
   "id": "776be383",
   "metadata": {},
   "source": [
    "###Inteligencia de Negocios\n",
    "\n",
    "###Integrantes:\n",
    "    Juan Diego Cardona 201819447\n",
    "    Nicolas Ortega XXXXX\n",
    "    Camila Teran XXXX"
   ]
  },
  {
   "cell_type": "markdown",
   "id": "4bb56941",
   "metadata": {},
   "source": [
    "# Análisis Exploratorio y Perfilamiento de Datos"
   ]
  },
  {
   "cell_type": "markdown",
   "id": "50253bcc",
   "metadata": {},
   "source": [
    "Realizar un análisis exploratorio y perfilamiento de datos que le permita entenderlos, al igual que identificar el nivel de calidad de los datos y las tareas de transformación que se requieren para construir modelos de clasificación utilizando técnicas como KNN y árboles de decisión entre otras.\n",
    "Adicionalmente, la entidad desea incluir como entregable, tableros de control para apoyar tareas de entendimiento de datos y nivel de calidad de los mismos, para lo cual sugiere mostrar estadisticas tales como cantidad de columnas, cantidad de datos, valores nulos, promedio de cada variable entre otros posibles datos que puedan proveer información útil a SaludAlpes."
   ]
  },
  {
   "cell_type": "markdown",
   "id": "eca4730a",
   "metadata": {},
   "source": [
    "### 1. Importación de librerías \n",
    "\n",
    "En las siguientes líneas de código se importan las librerías y herramientas necesarias para desarrollar el caso de uso."
   ]
  },
  {
   "cell_type": "code",
   "execution_count": 8,
   "id": "b8dbd606",
   "metadata": {},
   "outputs": [],
   "source": [
    "# Librerías para manejo de datos\n",
    "import pandas as pd\n",
    "pd.set_option('display.max_columns', 25) # Número máximo de columnas a mostrar\n",
    "pd.set_option('display.max_rows', 50) # Numero máximo de filas a mostar\n",
    "import numpy as np\n",
    "np.random.seed(3301)\n",
    "import pandas as pd\n",
    "# Para preparar los datos\n",
    "from sklearn.preprocessing import LabelEncoder\n",
    "# Para crear el arbol de decisión \n",
    "from sklearn.tree import DecisionTreeClassifier \n",
    "# Para realizar la separación del conjunto de aprendizaje en entrenamiento y test.\n",
    "from sklearn.model_selection import train_test_split\n",
    "# Para evaluar el modelo\n",
    "from sklearn.metrics import confusion_matrix, classification_report, precision_score, recall_score, f1_score, accuracy_score\n",
    "from sklearn.metrics import plot_confusion_matrix\n",
    "# Para búsqueda de hiperparámetros\n",
    "from sklearn.model_selection import GridSearchCV\n",
    "# Para la validación cruzada\n",
    "from sklearn.model_selection import KFold \n",
    "#Librerías para la visualización\n",
    "import matplotlib as mplt\n",
    "import matplotlib.pyplot as plt\n",
    "# Seaborn\n",
    "import seaborn as sns \n",
    "from sklearn import tree"
   ]
  },
  {
   "cell_type": "markdown",
   "id": "d881118d",
   "metadata": {},
   "source": [
    "### 2. Carga de los datos\n",
    "A través de la librería **pandas** podemos realizar la carga de datos desde diferentes fuentes de información, en este caso se realizará la carga de un archivo plano csv (archivo separado por comas)."
   ]
  },
  {
   "cell_type": "code",
   "execution_count": 9,
   "id": "66da380e",
   "metadata": {},
   "outputs": [
    {
     "data": {
      "text/plain": [
       "'3.3.4'"
      ]
     },
     "execution_count": 9,
     "metadata": {},
     "output_type": "execute_result"
    }
   ],
   "source": [
    "sns.__version__\n",
    "mplt.__version__"
   ]
  },
  {
   "cell_type": "code",
   "execution_count": 16,
   "id": "6d60104c",
   "metadata": {},
   "outputs": [],
   "source": [
    "# Se cargan los datos. \n",
    "datos=pd.read_csv('datos.csv', sep=';', encoding = 'utf-8', index_col=0)"
   ]
  },
  {
   "cell_type": "code",
   "execution_count": 17,
   "id": "94a4d081",
   "metadata": {},
   "outputs": [
    {
     "data": {
      "text/plain": [
       "(768, 10)"
      ]
     },
     "execution_count": 17,
     "metadata": {},
     "output_type": "execute_result"
    }
   ],
   "source": [
    "# Cantidad de datos y número de variables\n",
    "datos.shape"
   ]
  },
  {
   "cell_type": "code",
   "execution_count": 18,
   "id": "6feaaa99",
   "metadata": {},
   "outputs": [
    {
     "data": {
      "text/html": [
       "<div>\n",
       "<style scoped>\n",
       "    .dataframe tbody tr th:only-of-type {\n",
       "        vertical-align: middle;\n",
       "    }\n",
       "\n",
       "    .dataframe tbody tr th {\n",
       "        vertical-align: top;\n",
       "    }\n",
       "\n",
       "    .dataframe thead th {\n",
       "        text-align: right;\n",
       "    }\n",
       "</style>\n",
       "<table border=\"1\" class=\"dataframe\">\n",
       "  <thead>\n",
       "    <tr style=\"text-align: right;\">\n",
       "      <th></th>\n",
       "      <th>Pregnancies</th>\n",
       "      <th>Glucose</th>\n",
       "      <th>City</th>\n",
       "      <th>BloodPressure</th>\n",
       "      <th>SkinThickness</th>\n",
       "      <th>Insulin</th>\n",
       "      <th>BMI</th>\n",
       "      <th>DiabetesPedigreeFunction</th>\n",
       "      <th>Age</th>\n",
       "      <th>Outcome</th>\n",
       "    </tr>\n",
       "    <tr>\n",
       "      <th>Hair color</th>\n",
       "      <th></th>\n",
       "      <th></th>\n",
       "      <th></th>\n",
       "      <th></th>\n",
       "      <th></th>\n",
       "      <th></th>\n",
       "      <th></th>\n",
       "      <th></th>\n",
       "      <th></th>\n",
       "      <th></th>\n",
       "    </tr>\n",
       "  </thead>\n",
       "  <tbody>\n",
       "    <tr>\n",
       "      <th>Red</th>\n",
       "      <td>6</td>\n",
       "      <td>148</td>\n",
       "      <td>New York</td>\n",
       "      <td>72</td>\n",
       "      <td>35</td>\n",
       "      <td>0</td>\n",
       "      <td>336</td>\n",
       "      <td>627</td>\n",
       "      <td>50</td>\n",
       "      <td>1</td>\n",
       "    </tr>\n",
       "    <tr>\n",
       "      <th>Black</th>\n",
       "      <td>1</td>\n",
       "      <td>85</td>\n",
       "      <td>New York</td>\n",
       "      <td>66</td>\n",
       "      <td>29</td>\n",
       "      <td>0</td>\n",
       "      <td>266</td>\n",
       "      <td>351</td>\n",
       "      <td>31</td>\n",
       "      <td>0</td>\n",
       "    </tr>\n",
       "    <tr>\n",
       "      <th>Red</th>\n",
       "      <td>8</td>\n",
       "      <td>183</td>\n",
       "      <td>New York</td>\n",
       "      <td>64</td>\n",
       "      <td>0</td>\n",
       "      <td>0</td>\n",
       "      <td>233</td>\n",
       "      <td>672</td>\n",
       "      <td>32</td>\n",
       "      <td>1</td>\n",
       "    </tr>\n",
       "    <tr>\n",
       "      <th>Black</th>\n",
       "      <td>1</td>\n",
       "      <td>89</td>\n",
       "      <td>New York</td>\n",
       "      <td>66</td>\n",
       "      <td>23</td>\n",
       "      <td>94</td>\n",
       "      <td>281</td>\n",
       "      <td>167</td>\n",
       "      <td>21</td>\n",
       "      <td>0</td>\n",
       "    </tr>\n",
       "    <tr>\n",
       "      <th>Black</th>\n",
       "      <td>0</td>\n",
       "      <td>137</td>\n",
       "      <td>New York</td>\n",
       "      <td>40</td>\n",
       "      <td>35</td>\n",
       "      <td>168</td>\n",
       "      <td>431</td>\n",
       "      <td>2288</td>\n",
       "      <td>33</td>\n",
       "      <td>1</td>\n",
       "    </tr>\n",
       "  </tbody>\n",
       "</table>\n",
       "</div>"
      ],
      "text/plain": [
       "           Pregnancies Glucose      City BloodPressure SkinThickness Insulin  \\\n",
       "Hair color                                                                     \n",
       "Red                  6     148  New York            72            35       0   \n",
       "Black                1      85  New York            66            29       0   \n",
       "Red                  8     183  New York            64             0       0   \n",
       "Black                1      89  New York            66            23      94   \n",
       "Black                0     137  New York            40            35     168   \n",
       "\n",
       "            BMI DiabetesPedigreeFunction  Age Outcome  \n",
       "Hair color                                             \n",
       "Red         336                      627   50       1  \n",
       "Black       266                      351   31       0  \n",
       "Red         233                      672   32       1  \n",
       "Black       281                      167   21       0  \n",
       "Black       431                     2288   33       1  "
      ]
     },
     "execution_count": 18,
     "metadata": {},
     "output_type": "execute_result"
    }
   ],
   "source": [
    "# Mostrar los datos\n",
    "datos.head()"
   ]
  },
  {
   "cell_type": "code",
   "execution_count": 19,
   "id": "7f514120",
   "metadata": {},
   "outputs": [
    {
     "data": {
      "text/plain": [
       "Pregnancies                 object\n",
       "Glucose                     object\n",
       "City                        object\n",
       "BloodPressure               object\n",
       "SkinThickness               object\n",
       "Insulin                     object\n",
       "BMI                          int64\n",
       "DiabetesPedigreeFunction    object\n",
       "Age                          int64\n",
       "Outcome                     object\n",
       "dtype: object"
      ]
     },
     "execution_count": 19,
     "metadata": {},
     "output_type": "execute_result"
    }
   ],
   "source": [
    "# Podemos ver los tipos de todas la variables.\n",
    "datos.dtypes"
   ]
  },
  {
   "cell_type": "code",
   "execution_count": 20,
   "id": "27d17a49",
   "metadata": {},
   "outputs": [
    {
     "data": {
      "text/html": [
       "<div>\n",
       "<style scoped>\n",
       "    .dataframe tbody tr th:only-of-type {\n",
       "        vertical-align: middle;\n",
       "    }\n",
       "\n",
       "    .dataframe tbody tr th {\n",
       "        vertical-align: top;\n",
       "    }\n",
       "\n",
       "    .dataframe thead th {\n",
       "        text-align: right;\n",
       "    }\n",
       "</style>\n",
       "<table border=\"1\" class=\"dataframe\">\n",
       "  <thead>\n",
       "    <tr style=\"text-align: right;\">\n",
       "      <th></th>\n",
       "      <th>BMI</th>\n",
       "      <th>Age</th>\n",
       "    </tr>\n",
       "  </thead>\n",
       "  <tbody>\n",
       "    <tr>\n",
       "      <th>count</th>\n",
       "      <td>768.000000</td>\n",
       "      <td>768.000000</td>\n",
       "    </tr>\n",
       "    <tr>\n",
       "      <th>mean</th>\n",
       "      <td>289.796875</td>\n",
       "      <td>38.011719</td>\n",
       "    </tr>\n",
       "    <tr>\n",
       "      <th>std</th>\n",
       "      <td>116.757554</td>\n",
       "      <td>117.825600</td>\n",
       "    </tr>\n",
       "    <tr>\n",
       "      <th>min</th>\n",
       "      <td>0.000000</td>\n",
       "      <td>21.000000</td>\n",
       "    </tr>\n",
       "    <tr>\n",
       "      <th>25%</th>\n",
       "      <td>251.750000</td>\n",
       "      <td>24.000000</td>\n",
       "    </tr>\n",
       "    <tr>\n",
       "      <th>50%</th>\n",
       "      <td>309.000000</td>\n",
       "      <td>29.000000</td>\n",
       "    </tr>\n",
       "    <tr>\n",
       "      <th>75%</th>\n",
       "      <td>359.000000</td>\n",
       "      <td>41.000000</td>\n",
       "    </tr>\n",
       "    <tr>\n",
       "      <th>max</th>\n",
       "      <td>671.000000</td>\n",
       "      <td>3256.000000</td>\n",
       "    </tr>\n",
       "  </tbody>\n",
       "</table>\n",
       "</div>"
      ],
      "text/plain": [
       "              BMI          Age\n",
       "count  768.000000   768.000000\n",
       "mean   289.796875    38.011719\n",
       "std    116.757554   117.825600\n",
       "min      0.000000    21.000000\n",
       "25%    251.750000    24.000000\n",
       "50%    309.000000    29.000000\n",
       "75%    359.000000    41.000000\n",
       "max    671.000000  3256.000000"
      ]
     },
     "execution_count": 20,
     "metadata": {},
     "output_type": "execute_result"
    }
   ],
   "source": [
    "# Y hacer una descripción de los datos\n",
    "datos.describe()"
   ]
  },
  {
   "cell_type": "code",
   "execution_count": 27,
   "id": "d1b923db",
   "metadata": {},
   "outputs": [
    {
     "data": {
      "text/plain": [
       "Pregnancies                 0\n",
       "Glucose                     0\n",
       "City                        0\n",
       "BloodPressure               0\n",
       "SkinThickness               0\n",
       "Insulin                     0\n",
       "BMI                         0\n",
       "DiabetesPedigreeFunction    0\n",
       "Age                         0\n",
       "Outcome                     0\n",
       "dtype: int64"
      ]
     },
     "execution_count": 27,
     "metadata": {},
     "output_type": "execute_result"
    }
   ],
   "source": [
    "# Se observa que hay ausencias, en particular en la variable \"decibel_range\". Veamos cuantas, para todas las variables:\n",
    "datos.isnull().sum()"
   ]
  },
  {
   "cell_type": "markdown",
   "id": "6b426bed",
   "metadata": {},
   "source": [
    "# Justificación de preprocesamiento y limpieza de Datos"
   ]
  },
  {
   "cell_type": "markdown",
   "id": "08913c84",
   "metadata": {},
   "source": [
    "Primero vamos a ejecutar los pasos de limpieza de los datos, relacionados el tratamiento de ausencias y registros duplicados."
   ]
  },
  {
   "cell_type": "code",
   "execution_count": null,
   "id": "f981ca60",
   "metadata": {},
   "outputs": [],
   "source": [
    "# Es recomendable que todos los pasos de limpieza y preparación se realicen sobre otro archivo.\n",
    "datoslimpios = datos\n",
    "# Primero eliminaremos aquellas variables con muchas ausencias.\n",
    "datoslimpios = datoslimpios.drop(['City', 'Hair Color'], axis=1)"
   ]
  },
  {
   "cell_type": "code",
   "execution_count": null,
   "id": "9a2c1126",
   "metadata": {},
   "outputs": [],
   "source": [
    "# Eliminación registros con ausencias\n",
    "#¿Porqué realizar este paso?\n",
    "df_tracks_t = df_tracks_t.dropna()\n",
    "# Eliminación de registros duplicados.\n",
    "df_tracks_t = df_tracks_t.drop_duplicates()"
   ]
  },
  {
   "cell_type": "markdown",
   "id": "8f4e0610",
   "metadata": {},
   "source": [
    "En este punto es importante reflexionar en otra alternativa para no perder registros por celdas con valores nulos. ¿Cuándo tendrá sentido utilizar una estrategia distinta a eliminar los registros?"
   ]
  },
  {
   "cell_type": "code",
   "execution_count": null,
   "id": "78f4d1b6",
   "metadata": {},
   "outputs": [],
   "source": [
    "df_tracks_t.describe()"
   ]
  },
  {
   "cell_type": "code",
   "execution_count": null,
   "id": "5580c824",
   "metadata": {},
   "outputs": [],
   "source": [
    "# Cantidad de datos y número de variables\n",
    "df_tracks_t.shape"
   ]
  },
  {
   "cell_type": "markdown",
   "id": "8585074e",
   "metadata": {},
   "source": [
    "Es muy importante analizar el objetivo del modelo analítico a construir antes de iniciar a tomar decisiones. En este caso, por ejemplo, se debe aplicar la regla dada por el negocio, sobre qué significa una canción popular y que no, para generar la nueva variable que será la clase (variable objetivo).\n",
    "\n",
    "Esta nueva columna la derivaremos a partir de la variable \"popularity\" utilizando un umbral que nos permita determinar cuándo una canción es popular. Si el valor en esta variable es mayor que el umbral entonces ese registro se clasifica como \"popular\" y será indicado con un \"1\", de lo contrario será \"no popular y esta categoría la representaremos con un \"0\"."
   ]
  },
  {
   "cell_type": "code",
   "execution_count": null,
   "id": "ea48619e",
   "metadata": {},
   "outputs": [],
   "source": [
    "# Podemos ver los estadísticos de la variable \"popularity\"\n",
    "df_tracks_t['popularity'].describe()"
   ]
  },
  {
   "cell_type": "code",
   "execution_count": null,
   "id": "907a342d",
   "metadata": {},
   "outputs": [],
   "source": [
    "#El observar las variables de forma gráfica puede ayudar al negocio a decidir el punto a partir del cual se tienen canciones populares.\n",
    "fig=plt.figure(figsize=(12,8))\n",
    "ax = sns.boxplot(\"popularity\", data=df_tracks_t, orient=\"v\")"
   ]
  },
  {
   "cell_type": "code",
   "execution_count": null,
   "id": "6132ab29",
   "metadata": {},
   "outputs": [],
   "source": [
    "# Ahora definimos la función que nos va a permitir construir nuestra clase.\n",
    "def label_popularity (row):\n",
    "    if row['popularity'] > 33 :\n",
    "        return 1\n",
    "    return 0\n",
    "df_tracks_t['popularity_label']=df_tracks_t.apply (lambda row: label_popularity(row), axis=1)"
   ]
  },
  {
   "cell_type": "code",
   "execution_count": null,
   "id": "24285ffb",
   "metadata": {},
   "outputs": [],
   "source": [
    "df_tracks_t.head()"
   ]
  },
  {
   "cell_type": "code",
   "execution_count": null,
   "id": "cb71f408",
   "metadata": {},
   "outputs": [],
   "source": [
    "# Cantidad de datos de cada clase\n",
    "pd.value_counts(df_tracks_t['popularity_label'])"
   ]
  },
  {
   "cell_type": "code",
   "execution_count": null,
   "id": "dc66b011",
   "metadata": {},
   "outputs": [],
   "source": [
    "ax = sns.countplot(x='popularity_label', data=df_tracks_t)"
   ]
  },
  {
   "cell_type": "code",
   "execution_count": null,
   "id": "3f4fd890",
   "metadata": {},
   "outputs": [],
   "source": [
    "# Eliminaremos las variables que consideramos no son útiles para la tarea que queremos resolver, como los identificadores.\n",
    "df_tracks_t = df_tracks_t.drop(['id', 'id_artists'], axis=1)"
   ]
  },
  {
   "cell_type": "markdown",
   "id": "e7a9c07f",
   "metadata": {},
   "source": [
    "Un aspecto muy importante para tener en cuenta son los requerimientos de entrada de los algoritmos de aprendizaje implementados en las librerías utilizadas. En particular, scikit-learn requiere que todos los atributos sean numéricos y que la variable objetivo, en una tarea de clasificación, esté codificada con números."
   ]
  },
  {
   "cell_type": "code",
   "execution_count": null,
   "id": "12f937e3",
   "metadata": {},
   "outputs": [],
   "source": [
    "# Vamos a seleccionar de nuestro conjunto solo los atributos numéricos.\n",
    "number_cols = df_tracks_t.dtypes[(df_tracks_t.dtypes == np.int64) | (df_tracks_t.dtypes == np.float64)].index \n",
    "number_cols = df_tracks_t.select_dtypes(include = ['int64','float']).columns\n",
    "number_cols"
   ]
  },
  {
   "cell_type": "code",
   "execution_count": null,
   "id": "0cc48c10",
   "metadata": {},
   "outputs": [],
   "source": [
    "df_tracks_m = df_tracks_t[number_cols]"
   ]
  },
  {
   "cell_type": "code",
   "execution_count": null,
   "id": "f17a6e2b",
   "metadata": {},
   "outputs": [],
   "source": [
    "# Podemos ver como quedaron los datos\n",
    "df_tracks_m.head()"
   ]
  },
  {
   "cell_type": "code",
   "execution_count": null,
   "id": "e19f715c",
   "metadata": {},
   "outputs": [],
   "source": [
    "# Revisión del total de registros\n",
    "df_tracks_m.shape"
   ]
  },
  {
   "cell_type": "markdown",
   "id": "bc8c4230",
   "metadata": {},
   "source": [
    "# Clasificadores:"
   ]
  },
  {
   "cell_type": "markdown",
   "id": "9d57ea4f",
   "metadata": {},
   "source": [
    "## K-Nearest-neighbours"
   ]
  },
  {
   "cell_type": "markdown",
   "id": "704afee3",
   "metadata": {},
   "source": [
    "En este punto, deben justificar las decisiones más importantes asociadas al proceso, tales como los criterios utilizados para la selección de hiperparámetros y las modificaciones a los datos para construir cada clasificador."
   ]
  },
  {
   "cell_type": "markdown",
   "id": "e046509f",
   "metadata": {},
   "source": [
    "## Arboles de Decisión"
   ]
  },
  {
   "cell_type": "markdown",
   "id": "736659dc",
   "metadata": {},
   "source": [
    "En este punto, deben justificar las decisiones más importantes asociadas al proceso, tales como los criterios utilizados para la selección de hiperparámetros y las modificaciones a los datos para construir cada clasificador."
   ]
  },
  {
   "cell_type": "markdown",
   "id": "bebb22fe",
   "metadata": {},
   "source": [
    "## Clasificador de Libre Elección"
   ]
  },
  {
   "cell_type": "markdown",
   "id": "135a53f5",
   "metadata": {},
   "source": [
    "En este punto, deben justificar las decisiones más importantes asociadas al proceso, tales como los criterios utilizados para la selección de hiperparámetros y las modificaciones a los datos para construir cada clasificador."
   ]
  },
  {
   "cell_type": "markdown",
   "id": "30c2f249",
   "metadata": {},
   "source": [
    "# Análisis de Resultados Obtenidos y Utilidad de los Modelos"
   ]
  },
  {
   "cell_type": "markdown",
   "id": "2a86f479",
   "metadata": {},
   "source": [
    "# Comparación de modelos obtenidos y Recomendación"
   ]
  }
 ],
 "metadata": {
  "kernelspec": {
   "display_name": "Python 3",
   "language": "python",
   "name": "python3"
  },
  "language_info": {
   "codemirror_mode": {
    "name": "ipython",
    "version": 3
   },
   "file_extension": ".py",
   "mimetype": "text/x-python",
   "name": "python",
   "nbconvert_exporter": "python",
   "pygments_lexer": "ipython3",
   "version": "3.8.8"
  }
 },
 "nbformat": 4,
 "nbformat_minor": 5
}
