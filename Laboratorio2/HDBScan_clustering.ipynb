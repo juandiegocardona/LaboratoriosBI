{
 "cells": [
  {
   "cell_type": "markdown",
   "id": "7db30bb1-a102-44e9-9b34-9e373571d43a",
   "metadata": {},
   "source": [
    "# Clustering usando HDBScan"
   ]
  },
  {
   "cell_type": "markdown",
   "id": "a3e5817b-1ac7-44c5-baad-ab10a0ea0f4b",
   "metadata": {},
   "source": [
    "## Carga de librerías"
   ]
  },
  {
   "cell_type": "code",
   "execution_count": 1,
   "id": "7f0c8e42-23b8-4ed7-907a-dfcb32ecd338",
   "metadata": {},
   "outputs": [],
   "source": [
    "import pandas as pd\n",
    "import numpy as np\n",
    "import matplotlib.pyplot as plt\n",
    "import seaborn as sns; sns.set()  # for plot styling\n",
    "import hdbscan\n",
    "\n",
    "from sklearn.preprocessing import StandardScaler\n",
    "from sklearn.preprocessing import MinMaxScaler\n",
    "from sklearn.preprocessing import OneHotEncoder\n",
    "from sklearn.preprocessing import LabelEncoder\n",
    "from sklearn.manifold import TSNE\n",
    "from sklearn.metrics import silhouette_samples, silhouette_score\n",
    "\n",
    "from matplotlib import cm\n",
    "from mpl_toolkits.mplot3d import Axes3D # for 3D plots"
   ]
  },
  {
   "cell_type": "markdown",
   "id": "68615083-3c2d-4618-9ba3-1afb319944e0",
   "metadata": {},
   "source": [
    "## Carga de datos"
   ]
  },
  {
   "cell_type": "code",
   "execution_count": 2,
   "id": "eea4f1ed-9cef-4455-a6b1-5fcdb3da00a6",
   "metadata": {},
   "outputs": [],
   "source": [
    "# Se cargan los datos. \n",
    "datos=pd.read_csv('datos.csv', sep=';', encoding = 'utf-8')"
   ]
  },
  {
   "cell_type": "markdown",
   "id": "5baff480-a778-4837-8166-77dd56cc6cea",
   "metadata": {},
   "source": [
    "## Perfilamiento y entendimiento de los datos "
   ]
  },
  {
   "cell_type": "code",
   "execution_count": 3,
   "id": "45cb9f12-8186-4d4a-8314-39aefeccfbe9",
   "metadata": {},
   "outputs": [
    {
     "data": {
      "text/plain": [
       "(660, 11)"
      ]
     },
     "execution_count": 3,
     "metadata": {},
     "output_type": "execute_result"
    }
   ],
   "source": [
    "datos.shape"
   ]
  },
  {
   "cell_type": "code",
   "execution_count": 4,
   "id": "e3d7be7d-bfb2-4ba2-815e-6740414f9473",
   "metadata": {},
   "outputs": [
    {
     "data": {
      "text/html": [
       "<div>\n",
       "<style scoped>\n",
       "    .dataframe tbody tr th:only-of-type {\n",
       "        vertical-align: middle;\n",
       "    }\n",
       "\n",
       "    .dataframe tbody tr th {\n",
       "        vertical-align: top;\n",
       "    }\n",
       "\n",
       "    .dataframe thead th {\n",
       "        text-align: right;\n",
       "    }\n",
       "</style>\n",
       "<table border=\"1\" class=\"dataframe\">\n",
       "  <thead>\n",
       "    <tr style=\"text-align: right;\">\n",
       "      <th></th>\n",
       "      <th>Id</th>\n",
       "      <th>Customer</th>\n",
       "      <th>Limit_bal</th>\n",
       "      <th>Sex</th>\n",
       "      <th>Education</th>\n",
       "      <th>Marriage</th>\n",
       "      <th>Age</th>\n",
       "      <th>Total_Credit_Cards</th>\n",
       "      <th>Total_visits_bank</th>\n",
       "      <th>Total_visits_online</th>\n",
       "      <th>Total_calls_made</th>\n",
       "    </tr>\n",
       "  </thead>\n",
       "  <tbody>\n",
       "    <tr>\n",
       "      <th>0</th>\n",
       "      <td>1</td>\n",
       "      <td>87073.0</td>\n",
       "      <td>20000.0</td>\n",
       "      <td>Female</td>\n",
       "      <td>2</td>\n",
       "      <td>Married</td>\n",
       "      <td>24.0</td>\n",
       "      <td>2.0</td>\n",
       "      <td>1</td>\n",
       "      <td>1.0</td>\n",
       "      <td>0</td>\n",
       "    </tr>\n",
       "    <tr>\n",
       "      <th>1</th>\n",
       "      <td>2</td>\n",
       "      <td>38414.0</td>\n",
       "      <td>120000.0</td>\n",
       "      <td>Female</td>\n",
       "      <td>2</td>\n",
       "      <td>Single</td>\n",
       "      <td>26.0</td>\n",
       "      <td>3.0</td>\n",
       "      <td>0</td>\n",
       "      <td>10.0</td>\n",
       "      <td>9</td>\n",
       "    </tr>\n",
       "    <tr>\n",
       "      <th>2</th>\n",
       "      <td>3</td>\n",
       "      <td>17341.0</td>\n",
       "      <td>90000.0</td>\n",
       "      <td>Female</td>\n",
       "      <td>2</td>\n",
       "      <td>Single</td>\n",
       "      <td>34.0</td>\n",
       "      <td>7.0</td>\n",
       "      <td>1</td>\n",
       "      <td>3.0</td>\n",
       "      <td>4</td>\n",
       "    </tr>\n",
       "    <tr>\n",
       "      <th>3</th>\n",
       "      <td>4</td>\n",
       "      <td>40496.0</td>\n",
       "      <td>50000.0</td>\n",
       "      <td>Female</td>\n",
       "      <td>2</td>\n",
       "      <td>Married</td>\n",
       "      <td>37.0</td>\n",
       "      <td>5.0</td>\n",
       "      <td>1</td>\n",
       "      <td>1.0</td>\n",
       "      <td>?</td>\n",
       "    </tr>\n",
       "    <tr>\n",
       "      <th>4</th>\n",
       "      <td>5</td>\n",
       "      <td>47437.0</td>\n",
       "      <td>50000.0</td>\n",
       "      <td>Male</td>\n",
       "      <td>2</td>\n",
       "      <td>Married</td>\n",
       "      <td>57.0</td>\n",
       "      <td>6.0</td>\n",
       "      <td>0</td>\n",
       "      <td>12.0</td>\n",
       "      <td>3</td>\n",
       "    </tr>\n",
       "  </tbody>\n",
       "</table>\n",
       "</div>"
      ],
      "text/plain": [
       "   Id  Customer  Limit_bal     Sex Education Marriage   Age  \\\n",
       "0   1   87073.0    20000.0  Female         2  Married  24.0   \n",
       "1   2   38414.0   120000.0  Female         2   Single  26.0   \n",
       "2   3   17341.0    90000.0  Female         2   Single  34.0   \n",
       "3   4   40496.0    50000.0  Female         2  Married  37.0   \n",
       "4   5   47437.0    50000.0    Male         2  Married  57.0   \n",
       "\n",
       "   Total_Credit_Cards Total_visits_bank  Total_visits_online Total_calls_made  \n",
       "0                 2.0                 1                  1.0                0  \n",
       "1                 3.0                 0                 10.0                9  \n",
       "2                 7.0                 1                  3.0                4  \n",
       "3                 5.0                 1                  1.0                ?  \n",
       "4                 6.0                 0                 12.0                3  "
      ]
     },
     "execution_count": 4,
     "metadata": {},
     "output_type": "execute_result"
    }
   ],
   "source": [
    "datos.head()"
   ]
  },
  {
   "cell_type": "code",
   "execution_count": 5,
   "id": "fead8b7a-fa92-47a2-a3a1-5c32734924a4",
   "metadata": {},
   "outputs": [
    {
     "name": "stdout",
     "output_type": "stream",
     "text": [
      "<class 'pandas.core.frame.DataFrame'>\n",
      "RangeIndex: 660 entries, 0 to 659\n",
      "Data columns (total 11 columns):\n",
      " #   Column               Non-Null Count  Dtype  \n",
      "---  ------               --------------  -----  \n",
      " 0   Id                   660 non-null    int64  \n",
      " 1   Customer             658 non-null    float64\n",
      " 2   Limit_bal            659 non-null    float64\n",
      " 3   Sex                  659 non-null    object \n",
      " 4   Education            659 non-null    object \n",
      " 5   Marriage             658 non-null    object \n",
      " 6   Age                  659 non-null    float64\n",
      " 7   Total_Credit_Cards   658 non-null    float64\n",
      " 8   Total_visits_bank    658 non-null    object \n",
      " 9   Total_visits_online  659 non-null    float64\n",
      " 10  Total_calls_made     659 non-null    object \n",
      "dtypes: float64(5), int64(1), object(5)\n",
      "memory usage: 56.8+ KB\n"
     ]
    }
   ],
   "source": [
    "# Revisar las características de los datos: completitud y tipo de dato\n",
    "datos.info()"
   ]
  },
  {
   "cell_type": "markdown",
   "id": "d62f2e00-a47b-45a2-a56c-838a44bd18cf",
   "metadata": {},
   "source": [
    "## Limpieza de Datos"
   ]
  },
  {
   "cell_type": "code",
   "execution_count": 6,
   "id": "341e775a-32b0-42d5-8d63-f6ada6dbe64e",
   "metadata": {},
   "outputs": [
    {
     "data": {
      "text/html": [
       "<div>\n",
       "<style scoped>\n",
       "    .dataframe tbody tr th:only-of-type {\n",
       "        vertical-align: middle;\n",
       "    }\n",
       "\n",
       "    .dataframe tbody tr th {\n",
       "        vertical-align: top;\n",
       "    }\n",
       "\n",
       "    .dataframe thead th {\n",
       "        text-align: right;\n",
       "    }\n",
       "</style>\n",
       "<table border=\"1\" class=\"dataframe\">\n",
       "  <thead>\n",
       "    <tr style=\"text-align: right;\">\n",
       "      <th></th>\n",
       "      <th>Id</th>\n",
       "      <th>Customer</th>\n",
       "      <th>Limit_bal</th>\n",
       "      <th>Sex</th>\n",
       "      <th>Education</th>\n",
       "      <th>Marriage</th>\n",
       "      <th>Age</th>\n",
       "      <th>Total_Credit_Cards</th>\n",
       "      <th>Total_visits_bank</th>\n",
       "      <th>Total_visits_online</th>\n",
       "      <th>Total_calls_made</th>\n",
       "    </tr>\n",
       "  </thead>\n",
       "  <tbody>\n",
       "    <tr>\n",
       "      <th>0</th>\n",
       "      <td>1</td>\n",
       "      <td>87073.0</td>\n",
       "      <td>20000.0</td>\n",
       "      <td>Female</td>\n",
       "      <td>2</td>\n",
       "      <td>Married</td>\n",
       "      <td>24.0</td>\n",
       "      <td>2.0</td>\n",
       "      <td>1</td>\n",
       "      <td>1.0</td>\n",
       "      <td>0</td>\n",
       "    </tr>\n",
       "    <tr>\n",
       "      <th>1</th>\n",
       "      <td>2</td>\n",
       "      <td>38414.0</td>\n",
       "      <td>120000.0</td>\n",
       "      <td>Female</td>\n",
       "      <td>2</td>\n",
       "      <td>Single</td>\n",
       "      <td>26.0</td>\n",
       "      <td>3.0</td>\n",
       "      <td>0</td>\n",
       "      <td>10.0</td>\n",
       "      <td>9</td>\n",
       "    </tr>\n",
       "    <tr>\n",
       "      <th>2</th>\n",
       "      <td>3</td>\n",
       "      <td>17341.0</td>\n",
       "      <td>90000.0</td>\n",
       "      <td>Female</td>\n",
       "      <td>2</td>\n",
       "      <td>Single</td>\n",
       "      <td>34.0</td>\n",
       "      <td>7.0</td>\n",
       "      <td>1</td>\n",
       "      <td>3.0</td>\n",
       "      <td>4</td>\n",
       "    </tr>\n",
       "    <tr>\n",
       "      <th>3</th>\n",
       "      <td>4</td>\n",
       "      <td>40496.0</td>\n",
       "      <td>50000.0</td>\n",
       "      <td>Female</td>\n",
       "      <td>2</td>\n",
       "      <td>Married</td>\n",
       "      <td>37.0</td>\n",
       "      <td>5.0</td>\n",
       "      <td>1</td>\n",
       "      <td>1.0</td>\n",
       "      <td>?</td>\n",
       "    </tr>\n",
       "    <tr>\n",
       "      <th>4</th>\n",
       "      <td>5</td>\n",
       "      <td>47437.0</td>\n",
       "      <td>50000.0</td>\n",
       "      <td>Male</td>\n",
       "      <td>2</td>\n",
       "      <td>Married</td>\n",
       "      <td>57.0</td>\n",
       "      <td>6.0</td>\n",
       "      <td>0</td>\n",
       "      <td>12.0</td>\n",
       "      <td>3</td>\n",
       "    </tr>\n",
       "    <tr>\n",
       "      <th>...</th>\n",
       "      <td>...</td>\n",
       "      <td>...</td>\n",
       "      <td>...</td>\n",
       "      <td>...</td>\n",
       "      <td>...</td>\n",
       "      <td>...</td>\n",
       "      <td>...</td>\n",
       "      <td>...</td>\n",
       "      <td>...</td>\n",
       "      <td>...</td>\n",
       "      <td>...</td>\n",
       "    </tr>\n",
       "    <tr>\n",
       "      <th>655</th>\n",
       "      <td>656</td>\n",
       "      <td>51108.0</td>\n",
       "      <td>280000.0</td>\n",
       "      <td>Male</td>\n",
       "      <td>2</td>\n",
       "      <td>Married</td>\n",
       "      <td>39.0</td>\n",
       "      <td>10.0</td>\n",
       "      <td>1</td>\n",
       "      <td>10.0</td>\n",
       "      <td>0</td>\n",
       "    </tr>\n",
       "    <tr>\n",
       "      <th>656</th>\n",
       "      <td>657</td>\n",
       "      <td>60732.0</td>\n",
       "      <td>290000.0</td>\n",
       "      <td>Female</td>\n",
       "      <td>3</td>\n",
       "      <td>Single</td>\n",
       "      <td>27.0</td>\n",
       "      <td>10.0</td>\n",
       "      <td>1</td>\n",
       "      <td>13.0</td>\n",
       "      <td>2</td>\n",
       "    </tr>\n",
       "    <tr>\n",
       "      <th>657</th>\n",
       "      <td>658</td>\n",
       "      <td>53834.0</td>\n",
       "      <td>190000.0</td>\n",
       "      <td>Female</td>\n",
       "      <td>1</td>\n",
       "      <td>Single</td>\n",
       "      <td>28.0</td>\n",
       "      <td>8.0</td>\n",
       "      <td>1</td>\n",
       "      <td>9.0</td>\n",
       "      <td>1</td>\n",
       "    </tr>\n",
       "    <tr>\n",
       "      <th>658</th>\n",
       "      <td>659</td>\n",
       "      <td>80655.0</td>\n",
       "      <td>80000.0</td>\n",
       "      <td>Female</td>\n",
       "      <td>1</td>\n",
       "      <td>Single</td>\n",
       "      <td>23.0</td>\n",
       "      <td>10.0</td>\n",
       "      <td>1</td>\n",
       "      <td>15.0</td>\n",
       "      <td>0</td>\n",
       "    </tr>\n",
       "    <tr>\n",
       "      <th>659</th>\n",
       "      <td>660</td>\n",
       "      <td>80150.0</td>\n",
       "      <td>280000.0</td>\n",
       "      <td>Female</td>\n",
       "      <td>2</td>\n",
       "      <td>Single</td>\n",
       "      <td>28.0</td>\n",
       "      <td>9.0</td>\n",
       "      <td>0</td>\n",
       "      <td>12.0</td>\n",
       "      <td>2</td>\n",
       "    </tr>\n",
       "  </tbody>\n",
       "</table>\n",
       "<p>660 rows × 11 columns</p>\n",
       "</div>"
      ],
      "text/plain": [
       "      Id  Customer  Limit_bal     Sex Education Marriage   Age  \\\n",
       "0      1   87073.0    20000.0  Female         2  Married  24.0   \n",
       "1      2   38414.0   120000.0  Female         2   Single  26.0   \n",
       "2      3   17341.0    90000.0  Female         2   Single  34.0   \n",
       "3      4   40496.0    50000.0  Female         2  Married  37.0   \n",
       "4      5   47437.0    50000.0    Male         2  Married  57.0   \n",
       "..   ...       ...        ...     ...       ...      ...   ...   \n",
       "655  656   51108.0   280000.0    Male         2  Married  39.0   \n",
       "656  657   60732.0   290000.0  Female         3   Single  27.0   \n",
       "657  658   53834.0   190000.0  Female         1   Single  28.0   \n",
       "658  659   80655.0    80000.0  Female         1   Single  23.0   \n",
       "659  660   80150.0   280000.0  Female         2   Single  28.0   \n",
       "\n",
       "     Total_Credit_Cards Total_visits_bank  Total_visits_online  \\\n",
       "0                   2.0                 1                  1.0   \n",
       "1                   3.0                 0                 10.0   \n",
       "2                   7.0                 1                  3.0   \n",
       "3                   5.0                 1                  1.0   \n",
       "4                   6.0                 0                 12.0   \n",
       "..                  ...               ...                  ...   \n",
       "655                10.0                 1                 10.0   \n",
       "656                10.0                 1                 13.0   \n",
       "657                 8.0                 1                  9.0   \n",
       "658                10.0                 1                 15.0   \n",
       "659                 9.0                 0                 12.0   \n",
       "\n",
       "    Total_calls_made  \n",
       "0                  0  \n",
       "1                  9  \n",
       "2                  4  \n",
       "3                  ?  \n",
       "4                  3  \n",
       "..               ...  \n",
       "655                0  \n",
       "656                2  \n",
       "657                1  \n",
       "658                0  \n",
       "659                2  \n",
       "\n",
       "[660 rows x 11 columns]"
      ]
     },
     "execution_count": 6,
     "metadata": {},
     "output_type": "execute_result"
    }
   ],
   "source": [
    "datoslimpios = datos\n",
    "datoslimpios"
   ]
  },
  {
   "cell_type": "code",
   "execution_count": 7,
   "id": "96a8aac3-e66a-4505-a89d-ec7d7e6f80f6",
   "metadata": {},
   "outputs": [],
   "source": [
    "for x in datoslimpios.columns:\n",
    "    datoslimpios.drop(datoslimpios.loc[datoslimpios[x]=='?'].index,inplace=True)"
   ]
  },
  {
   "cell_type": "code",
   "execution_count": 8,
   "id": "35635095-fa4d-4470-b4ad-a20a1cda8625",
   "metadata": {},
   "outputs": [],
   "source": [
    "datoslimpios[\"Sex\"]=datoslimpios.Sex.replace({'F':'Female','f':'Female','Femael':'Female','Fmale':'Female'})\n",
    "datoslimpios[\"Sex\"]=datoslimpios.Sex.replace({'M':'Male','Mael':'Male','M ':'Male'})\n",
    "datoslimpios.drop(datoslimpios.loc[datoslimpios[\"Sex\"]=='9'].index,inplace=True)"
   ]
  },
  {
   "cell_type": "code",
   "execution_count": 9,
   "id": "503d47ca-772a-4bc9-89cb-da0798b5a755",
   "metadata": {},
   "outputs": [],
   "source": [
    "datoslimpios[\"Education\"]=datoslimpios.Education.replace({'6':'5'})\n",
    "datoslimpios.drop(datoslimpios.loc[datoslimpios[\"Education\"]=='ABC'].index,inplace=True)"
   ]
  },
  {
   "cell_type": "code",
   "execution_count": 10,
   "id": "2b7bd86d-0483-4a30-927b-4c5f663b3e0f",
   "metadata": {},
   "outputs": [],
   "source": [
    "datoslimpios.drop(datoslimpios.loc[datoslimpios[\"Marriage\"]=='1'].index,inplace=True)\n",
    "datoslimpios.drop(datoslimpios.loc[datoslimpios[\"Marriage\"]=='2'].index,inplace=True)\n",
    "datoslimpios.drop(datoslimpios.loc[datoslimpios[\"Marriage\"]=='0'].index,inplace=True)"
   ]
  },
  {
   "cell_type": "code",
   "execution_count": 11,
   "id": "fa5b2c27-9109-48a9-a22d-3b18c0ab9539",
   "metadata": {},
   "outputs": [],
   "source": [
    "datoslimpios = datoslimpios.dropna()"
   ]
  },
  {
   "cell_type": "code",
   "execution_count": 12,
   "id": "1943d90e-fed5-4e60-a36d-42263edd2948",
   "metadata": {},
   "outputs": [],
   "source": [
    "#Restricciones\n",
    "\n",
    "datoslimpios = datoslimpios.drop(['Id'], axis=1)\n",
    "datoslimpios = datoslimpios.drop(['Customer'], axis=1)\n",
    "\n",
    "datoslimpios = datoslimpios[datoslimpios.Age < 100]\n",
    "datoslimpios = datoslimpios[datoslimpios.Age >= 21]\n",
    "\n",
    "datoslimpios = datoslimpios[datoslimpios.Total_Credit_Cards <= 10]"
   ]
  },
  {
   "cell_type": "code",
   "execution_count": 13,
   "id": "767759e7-6bf1-4766-b6d9-4347f5a393e2",
   "metadata": {},
   "outputs": [],
   "source": [
    "datoslimpios['Total_visits_bank'] = datoslimpios.Total_visits_bank.astype(float)\n",
    "datoslimpios['Total_calls_made'] = datoslimpios.Total_calls_made.astype(float)\n",
    "datoslimpios['Education'] = datoslimpios.Education.astype(float)"
   ]
  },
  {
   "cell_type": "code",
   "execution_count": 14,
   "id": "e2b9aa96-a662-4d65-abd1-d68607a83d0f",
   "metadata": {},
   "outputs": [
    {
     "name": "stdout",
     "output_type": "stream",
     "text": [
      "<class 'pandas.core.frame.DataFrame'>\n",
      "Int64Index: 639 entries, 0 to 659\n",
      "Data columns (total 9 columns):\n",
      " #   Column               Non-Null Count  Dtype  \n",
      "---  ------               --------------  -----  \n",
      " 0   Limit_bal            639 non-null    float64\n",
      " 1   Sex                  639 non-null    object \n",
      " 2   Education            639 non-null    float64\n",
      " 3   Marriage             639 non-null    object \n",
      " 4   Age                  639 non-null    float64\n",
      " 5   Total_Credit_Cards   639 non-null    float64\n",
      " 6   Total_visits_bank    639 non-null    float64\n",
      " 7   Total_visits_online  639 non-null    float64\n",
      " 8   Total_calls_made     639 non-null    float64\n",
      "dtypes: float64(7), object(2)\n",
      "memory usage: 49.9+ KB\n"
     ]
    }
   ],
   "source": [
    "datoslimpios.info()"
   ]
  },
  {
   "cell_type": "code",
   "execution_count": 15,
   "id": "19cb0cf9-5540-4145-8a4b-9518eda28352",
   "metadata": {},
   "outputs": [
    {
     "data": {
      "text/plain": [
       "Index(['Sex', 'Marriage'], dtype='object')"
      ]
     },
     "execution_count": 15,
     "metadata": {},
     "output_type": "execute_result"
    }
   ],
   "source": [
    "# Explorar las variables que no son numéricas\n",
    "name_cols_non_number = datoslimpios.select_dtypes(include = ['object']).columns\n",
    "name_cols_non_number"
   ]
  },
  {
   "cell_type": "code",
   "execution_count": 16,
   "id": "41d3e5d3-e731-461f-b29c-c83b8523eb36",
   "metadata": {},
   "outputs": [
    {
     "data": {
      "text/html": [
       "<div>\n",
       "<style scoped>\n",
       "    .dataframe tbody tr th:only-of-type {\n",
       "        vertical-align: middle;\n",
       "    }\n",
       "\n",
       "    .dataframe tbody tr th {\n",
       "        vertical-align: top;\n",
       "    }\n",
       "\n",
       "    .dataframe thead th {\n",
       "        text-align: right;\n",
       "    }\n",
       "</style>\n",
       "<table border=\"1\" class=\"dataframe\">\n",
       "  <thead>\n",
       "    <tr style=\"text-align: right;\">\n",
       "      <th></th>\n",
       "      <th>Sex</th>\n",
       "      <th>Marriage</th>\n",
       "    </tr>\n",
       "  </thead>\n",
       "  <tbody>\n",
       "    <tr>\n",
       "      <th>count</th>\n",
       "      <td>639</td>\n",
       "      <td>639</td>\n",
       "    </tr>\n",
       "    <tr>\n",
       "      <th>unique</th>\n",
       "      <td>2</td>\n",
       "      <td>3</td>\n",
       "    </tr>\n",
       "    <tr>\n",
       "      <th>top</th>\n",
       "      <td>Female</td>\n",
       "      <td>Single</td>\n",
       "    </tr>\n",
       "    <tr>\n",
       "      <th>freq</th>\n",
       "      <td>369</td>\n",
       "      <td>373</td>\n",
       "    </tr>\n",
       "  </tbody>\n",
       "</table>\n",
       "</div>"
      ],
      "text/plain": [
       "           Sex Marriage\n",
       "count      639      639\n",
       "unique       2        3\n",
       "top     Female   Single\n",
       "freq       369      373"
      ]
     },
     "execution_count": 16,
     "metadata": {},
     "output_type": "execute_result"
    }
   ],
   "source": [
    "#Revisar el contenido de las variables que no son numéricas\n",
    "datoslimpios[name_cols_non_number].describe()"
   ]
  },
  {
   "cell_type": "code",
   "execution_count": 17,
   "id": "1a982bdd-6089-414d-97cd-5d82a00bace7",
   "metadata": {},
   "outputs": [
    {
     "data": {
      "text/html": [
       "<div>\n",
       "<style scoped>\n",
       "    .dataframe tbody tr th:only-of-type {\n",
       "        vertical-align: middle;\n",
       "    }\n",
       "\n",
       "    .dataframe tbody tr th {\n",
       "        vertical-align: top;\n",
       "    }\n",
       "\n",
       "    .dataframe thead th {\n",
       "        text-align: right;\n",
       "    }\n",
       "</style>\n",
       "<table border=\"1\" class=\"dataframe\">\n",
       "  <thead>\n",
       "    <tr style=\"text-align: right;\">\n",
       "      <th></th>\n",
       "      <th>Limit_bal</th>\n",
       "      <th>Sex</th>\n",
       "      <th>Education</th>\n",
       "      <th>Marriage</th>\n",
       "      <th>Age</th>\n",
       "      <th>Total_Credit_Cards</th>\n",
       "      <th>Total_visits_bank</th>\n",
       "      <th>Total_visits_online</th>\n",
       "      <th>Total_calls_made</th>\n",
       "    </tr>\n",
       "  </thead>\n",
       "  <tbody>\n",
       "    <tr>\n",
       "      <th>0</th>\n",
       "      <td>20000.0</td>\n",
       "      <td>Female</td>\n",
       "      <td>2.0</td>\n",
       "      <td>Married</td>\n",
       "      <td>24.0</td>\n",
       "      <td>2.0</td>\n",
       "      <td>1.0</td>\n",
       "      <td>1.0</td>\n",
       "      <td>0.0</td>\n",
       "    </tr>\n",
       "    <tr>\n",
       "      <th>1</th>\n",
       "      <td>120000.0</td>\n",
       "      <td>Female</td>\n",
       "      <td>2.0</td>\n",
       "      <td>Single</td>\n",
       "      <td>26.0</td>\n",
       "      <td>3.0</td>\n",
       "      <td>0.0</td>\n",
       "      <td>10.0</td>\n",
       "      <td>9.0</td>\n",
       "    </tr>\n",
       "    <tr>\n",
       "      <th>2</th>\n",
       "      <td>90000.0</td>\n",
       "      <td>Female</td>\n",
       "      <td>2.0</td>\n",
       "      <td>Single</td>\n",
       "      <td>34.0</td>\n",
       "      <td>7.0</td>\n",
       "      <td>1.0</td>\n",
       "      <td>3.0</td>\n",
       "      <td>4.0</td>\n",
       "    </tr>\n",
       "    <tr>\n",
       "      <th>3</th>\n",
       "      <td>50000.0</td>\n",
       "      <td>Male</td>\n",
       "      <td>2.0</td>\n",
       "      <td>Married</td>\n",
       "      <td>57.0</td>\n",
       "      <td>6.0</td>\n",
       "      <td>0.0</td>\n",
       "      <td>12.0</td>\n",
       "      <td>3.0</td>\n",
       "    </tr>\n",
       "    <tr>\n",
       "      <th>4</th>\n",
       "      <td>50000.0</td>\n",
       "      <td>Male</td>\n",
       "      <td>1.0</td>\n",
       "      <td>Single</td>\n",
       "      <td>37.0</td>\n",
       "      <td>3.0</td>\n",
       "      <td>0.0</td>\n",
       "      <td>1.0</td>\n",
       "      <td>8.0</td>\n",
       "    </tr>\n",
       "    <tr>\n",
       "      <th>...</th>\n",
       "      <td>...</td>\n",
       "      <td>...</td>\n",
       "      <td>...</td>\n",
       "      <td>...</td>\n",
       "      <td>...</td>\n",
       "      <td>...</td>\n",
       "      <td>...</td>\n",
       "      <td>...</td>\n",
       "      <td>...</td>\n",
       "    </tr>\n",
       "    <tr>\n",
       "      <th>634</th>\n",
       "      <td>280000.0</td>\n",
       "      <td>Male</td>\n",
       "      <td>2.0</td>\n",
       "      <td>Married</td>\n",
       "      <td>39.0</td>\n",
       "      <td>10.0</td>\n",
       "      <td>1.0</td>\n",
       "      <td>10.0</td>\n",
       "      <td>0.0</td>\n",
       "    </tr>\n",
       "    <tr>\n",
       "      <th>635</th>\n",
       "      <td>290000.0</td>\n",
       "      <td>Female</td>\n",
       "      <td>3.0</td>\n",
       "      <td>Single</td>\n",
       "      <td>27.0</td>\n",
       "      <td>10.0</td>\n",
       "      <td>1.0</td>\n",
       "      <td>13.0</td>\n",
       "      <td>2.0</td>\n",
       "    </tr>\n",
       "    <tr>\n",
       "      <th>636</th>\n",
       "      <td>190000.0</td>\n",
       "      <td>Female</td>\n",
       "      <td>1.0</td>\n",
       "      <td>Single</td>\n",
       "      <td>28.0</td>\n",
       "      <td>8.0</td>\n",
       "      <td>1.0</td>\n",
       "      <td>9.0</td>\n",
       "      <td>1.0</td>\n",
       "    </tr>\n",
       "    <tr>\n",
       "      <th>637</th>\n",
       "      <td>80000.0</td>\n",
       "      <td>Female</td>\n",
       "      <td>1.0</td>\n",
       "      <td>Single</td>\n",
       "      <td>23.0</td>\n",
       "      <td>10.0</td>\n",
       "      <td>1.0</td>\n",
       "      <td>15.0</td>\n",
       "      <td>0.0</td>\n",
       "    </tr>\n",
       "    <tr>\n",
       "      <th>638</th>\n",
       "      <td>280000.0</td>\n",
       "      <td>Female</td>\n",
       "      <td>2.0</td>\n",
       "      <td>Single</td>\n",
       "      <td>28.0</td>\n",
       "      <td>9.0</td>\n",
       "      <td>0.0</td>\n",
       "      <td>12.0</td>\n",
       "      <td>2.0</td>\n",
       "    </tr>\n",
       "  </tbody>\n",
       "</table>\n",
       "<p>639 rows × 9 columns</p>\n",
       "</div>"
      ],
      "text/plain": [
       "     Limit_bal     Sex  Education Marriage   Age  Total_Credit_Cards  \\\n",
       "0      20000.0  Female        2.0  Married  24.0                 2.0   \n",
       "1     120000.0  Female        2.0   Single  26.0                 3.0   \n",
       "2      90000.0  Female        2.0   Single  34.0                 7.0   \n",
       "3      50000.0    Male        2.0  Married  57.0                 6.0   \n",
       "4      50000.0    Male        1.0   Single  37.0                 3.0   \n",
       "..         ...     ...        ...      ...   ...                 ...   \n",
       "634   280000.0    Male        2.0  Married  39.0                10.0   \n",
       "635   290000.0  Female        3.0   Single  27.0                10.0   \n",
       "636   190000.0  Female        1.0   Single  28.0                 8.0   \n",
       "637    80000.0  Female        1.0   Single  23.0                10.0   \n",
       "638   280000.0  Female        2.0   Single  28.0                 9.0   \n",
       "\n",
       "     Total_visits_bank  Total_visits_online  Total_calls_made  \n",
       "0                  1.0                  1.0               0.0  \n",
       "1                  0.0                 10.0               9.0  \n",
       "2                  1.0                  3.0               4.0  \n",
       "3                  0.0                 12.0               3.0  \n",
       "4                  0.0                  1.0               8.0  \n",
       "..                 ...                  ...               ...  \n",
       "634                1.0                 10.0               0.0  \n",
       "635                1.0                 13.0               2.0  \n",
       "636                1.0                  9.0               1.0  \n",
       "637                1.0                 15.0               0.0  \n",
       "638                0.0                 12.0               2.0  \n",
       "\n",
       "[639 rows x 9 columns]"
      ]
     },
     "execution_count": 17,
     "metadata": {},
     "output_type": "execute_result"
    }
   ],
   "source": [
    "datoslimpios.reset_index(drop=True, inplace=True)\n",
    "datoslimpios"
   ]
  },
  {
   "cell_type": "markdown",
   "id": "a63aec0e-a98b-43d6-b9b6-38b99e3b55fb",
   "metadata": {},
   "source": [
    "## Codificación variables categóricas"
   ]
  },
  {
   "cell_type": "markdown",
   "id": "de9beaa8-091c-44de-a57b-f7caa362104d",
   "metadata": {},
   "source": [
    "Primero separamos los datos"
   ]
  },
  {
   "cell_type": "code",
   "execution_count": 18,
   "id": "d14eb85d-f582-4442-92f5-4c9b8cdbff56",
   "metadata": {},
   "outputs": [],
   "source": [
    "df_numeric = datoslimpios[datoslimpios.select_dtypes(include = ['float']).columns]\n",
    "df_categorical = datoslimpios[datoslimpios.select_dtypes(include = ['object']).columns]"
   ]
  },
  {
   "cell_type": "code",
   "execution_count": 19,
   "id": "2a792765-df0e-4645-ac03-67431fa6448b",
   "metadata": {},
   "outputs": [
    {
     "name": "stdout",
     "output_type": "stream",
     "text": [
      "['Female' 'Male']\n",
      "['Married' 'Single' 'Others']\n"
     ]
    }
   ],
   "source": [
    "print(df_categorical['Sex'].unique())\n",
    "print(df_categorical['Marriage'].unique())"
   ]
  },
  {
   "cell_type": "markdown",
   "id": "82679691-b913-490f-8952-f0c5671bc298",
   "metadata": {},
   "source": [
    "Se codifica primero la variable que solo tiene dos categorías (Sex)"
   ]
  },
  {
   "cell_type": "code",
   "execution_count": 20,
   "id": "5151fc19-60c9-48f3-be5f-08f8f7ae2a0f",
   "metadata": {},
   "outputs": [],
   "source": [
    "sex_encoder = LabelEncoder()\n",
    "sex_encoder.fit(df_categorical['Sex'])\n",
    "sex_vals = sex_encoder.transform(df_categorical['Sex'])"
   ]
  },
  {
   "cell_type": "code",
   "execution_count": 21,
   "id": "34050aac-395a-4f21-9c0f-70985c78169e",
   "metadata": {},
   "outputs": [
    {
     "name": "stdout",
     "output_type": "stream",
     "text": [
      "Antes de codificar: ['Male', 'Female', 'Female', 'Female', 'Male', 'Male', 'Female', 'Female', 'Female', 'Female']\n",
      "Después de codificar: [1 0 0 0 1 1 0 0 0 0]\n"
     ]
    }
   ],
   "source": [
    "#Se verifica que funcione la codificación\n",
    "print(\"Antes de codificar:\", list(df_categorical['Sex'][-10:]))\n",
    "print(\"Después de codificar:\", sex_vals[-10:])"
   ]
  },
  {
   "cell_type": "markdown",
   "id": "8a957845-2468-4c6e-9d42-d482f13614cf",
   "metadata": {
    "tags": []
   },
   "source": [
    "Ahora se codifica la variable que tiene más de dos categorías (Marriage)"
   ]
  },
  {
   "cell_type": "code",
   "execution_count": 22,
   "id": "fe167963-0e55-4c7e-aa73-73271314ca82",
   "metadata": {},
   "outputs": [],
   "source": [
    "marr_encoder = OneHotEncoder()\n",
    "marr_reshaped = np.array(df_categorical['Marriage']).reshape(-1,1)\n",
    "\n",
    "marr_encoder.fit(marr_reshaped)\n",
    "marr_vals = marr_encoder.transform(marr_reshaped)"
   ]
  },
  {
   "cell_type": "code",
   "execution_count": 23,
   "id": "dc0368b1-d327-4129-b6fd-24e5cbef9065",
   "metadata": {},
   "outputs": [
    {
     "name": "stdout",
     "output_type": "stream",
     "text": [
      "0    Married\n",
      "1     Single\n",
      "2     Single\n",
      "3    Married\n",
      "4     Single\n",
      "Name: Marriage, dtype: object \n",
      "\n",
      "[[1. 0. 0.]\n",
      " [0. 0. 1.]\n",
      " [0. 0. 1.]\n",
      " [1. 0. 0.]\n",
      " [0. 0. 1.]]\n"
     ]
    }
   ],
   "source": [
    "#Se prueba la codificación\n",
    "print(df_categorical['Marriage'][:5],'\\n')\n",
    "print(marr_vals.toarray()[:5])"
   ]
  },
  {
   "cell_type": "markdown",
   "id": "a6182607-5f83-490e-bf03-30a6bdf37f45",
   "metadata": {},
   "source": [
    "Se construye el dataframe codificado"
   ]
  },
  {
   "cell_type": "code",
   "execution_count": 24,
   "id": "797d030f-917a-43e2-9bfe-e0ba9f5921c6",
   "metadata": {
    "tags": []
   },
   "outputs": [
    {
     "data": {
      "text/html": [
       "<div>\n",
       "<style scoped>\n",
       "    .dataframe tbody tr th:only-of-type {\n",
       "        vertical-align: middle;\n",
       "    }\n",
       "\n",
       "    .dataframe tbody tr th {\n",
       "        vertical-align: top;\n",
       "    }\n",
       "\n",
       "    .dataframe thead th {\n",
       "        text-align: right;\n",
       "    }\n",
       "</style>\n",
       "<table border=\"1\" class=\"dataframe\">\n",
       "  <thead>\n",
       "    <tr style=\"text-align: right;\">\n",
       "      <th></th>\n",
       "      <th>is_male</th>\n",
       "      <th>Married</th>\n",
       "      <th>Other</th>\n",
       "      <th>Single</th>\n",
       "    </tr>\n",
       "  </thead>\n",
       "  <tbody>\n",
       "    <tr>\n",
       "      <th>0</th>\n",
       "      <td>0</td>\n",
       "      <td>1.0</td>\n",
       "      <td>0.0</td>\n",
       "      <td>0.0</td>\n",
       "    </tr>\n",
       "    <tr>\n",
       "      <th>1</th>\n",
       "      <td>0</td>\n",
       "      <td>0.0</td>\n",
       "      <td>0.0</td>\n",
       "      <td>1.0</td>\n",
       "    </tr>\n",
       "    <tr>\n",
       "      <th>2</th>\n",
       "      <td>0</td>\n",
       "      <td>0.0</td>\n",
       "      <td>0.0</td>\n",
       "      <td>1.0</td>\n",
       "    </tr>\n",
       "    <tr>\n",
       "      <th>3</th>\n",
       "      <td>1</td>\n",
       "      <td>1.0</td>\n",
       "      <td>0.0</td>\n",
       "      <td>0.0</td>\n",
       "    </tr>\n",
       "    <tr>\n",
       "      <th>4</th>\n",
       "      <td>1</td>\n",
       "      <td>0.0</td>\n",
       "      <td>0.0</td>\n",
       "      <td>1.0</td>\n",
       "    </tr>\n",
       "    <tr>\n",
       "      <th>...</th>\n",
       "      <td>...</td>\n",
       "      <td>...</td>\n",
       "      <td>...</td>\n",
       "      <td>...</td>\n",
       "    </tr>\n",
       "    <tr>\n",
       "      <th>634</th>\n",
       "      <td>1</td>\n",
       "      <td>1.0</td>\n",
       "      <td>0.0</td>\n",
       "      <td>0.0</td>\n",
       "    </tr>\n",
       "    <tr>\n",
       "      <th>635</th>\n",
       "      <td>0</td>\n",
       "      <td>0.0</td>\n",
       "      <td>0.0</td>\n",
       "      <td>1.0</td>\n",
       "    </tr>\n",
       "    <tr>\n",
       "      <th>636</th>\n",
       "      <td>0</td>\n",
       "      <td>0.0</td>\n",
       "      <td>0.0</td>\n",
       "      <td>1.0</td>\n",
       "    </tr>\n",
       "    <tr>\n",
       "      <th>637</th>\n",
       "      <td>0</td>\n",
       "      <td>0.0</td>\n",
       "      <td>0.0</td>\n",
       "      <td>1.0</td>\n",
       "    </tr>\n",
       "    <tr>\n",
       "      <th>638</th>\n",
       "      <td>0</td>\n",
       "      <td>0.0</td>\n",
       "      <td>0.0</td>\n",
       "      <td>1.0</td>\n",
       "    </tr>\n",
       "  </tbody>\n",
       "</table>\n",
       "<p>639 rows × 4 columns</p>\n",
       "</div>"
      ],
      "text/plain": [
       "     is_male  Married  Other  Single\n",
       "0          0      1.0    0.0     0.0\n",
       "1          0      0.0    0.0     1.0\n",
       "2          0      0.0    0.0     1.0\n",
       "3          1      1.0    0.0     0.0\n",
       "4          1      0.0    0.0     1.0\n",
       "..       ...      ...    ...     ...\n",
       "634        1      1.0    0.0     0.0\n",
       "635        0      0.0    0.0     1.0\n",
       "636        0      0.0    0.0     1.0\n",
       "637        0      0.0    0.0     1.0\n",
       "638        0      0.0    0.0     1.0\n",
       "\n",
       "[639 rows x 4 columns]"
      ]
     },
     "execution_count": 24,
     "metadata": {},
     "output_type": "execute_result"
    }
   ],
   "source": [
    "is_male = pd.DataFrame(sex_vals, columns=['is_male'])\n",
    "marriage = pd.DataFrame(marr_vals.toarray(), columns=['Married','Other','Single'])\n",
    "\n",
    "df_categ_encoded = pd.concat([is_male, marriage], axis=1)\n",
    "df_categ_encoded"
   ]
  },
  {
   "cell_type": "markdown",
   "id": "5ce27cb1-673a-4187-95af-8f5e189bfeac",
   "metadata": {},
   "source": [
    "## Normalización de variables numéricas"
   ]
  },
  {
   "cell_type": "markdown",
   "id": "6fb9c9e6-cb1a-4ad2-945a-799be5e54c62",
   "metadata": {},
   "source": [
    "Como no todas las variables manejan la misma escala, se realiza el proceso de normalización"
   ]
  },
  {
   "cell_type": "code",
   "execution_count": 25,
   "id": "2755b61d-8a8a-4fbd-81a2-c6509d9b4621",
   "metadata": {},
   "outputs": [
    {
     "data": {
      "text/html": [
       "<div>\n",
       "<style scoped>\n",
       "    .dataframe tbody tr th:only-of-type {\n",
       "        vertical-align: middle;\n",
       "    }\n",
       "\n",
       "    .dataframe tbody tr th {\n",
       "        vertical-align: top;\n",
       "    }\n",
       "\n",
       "    .dataframe thead th {\n",
       "        text-align: right;\n",
       "    }\n",
       "</style>\n",
       "<table border=\"1\" class=\"dataframe\">\n",
       "  <thead>\n",
       "    <tr style=\"text-align: right;\">\n",
       "      <th></th>\n",
       "      <th>Limit_bal</th>\n",
       "      <th>Education</th>\n",
       "      <th>Age</th>\n",
       "      <th>Total_Credit_Cards</th>\n",
       "      <th>Total_visits_bank</th>\n",
       "      <th>Total_visits_online</th>\n",
       "      <th>Total_calls_made</th>\n",
       "    </tr>\n",
       "  </thead>\n",
       "  <tbody>\n",
       "    <tr>\n",
       "      <th>0</th>\n",
       "      <td>0.016129</td>\n",
       "      <td>0.25</td>\n",
       "      <td>0.055556</td>\n",
       "      <td>0.111111</td>\n",
       "      <td>0.2</td>\n",
       "      <td>0.066667</td>\n",
       "      <td>0.0</td>\n",
       "    </tr>\n",
       "    <tr>\n",
       "      <th>1</th>\n",
       "      <td>0.177419</td>\n",
       "      <td>0.25</td>\n",
       "      <td>0.092593</td>\n",
       "      <td>0.222222</td>\n",
       "      <td>0.0</td>\n",
       "      <td>0.666667</td>\n",
       "      <td>0.9</td>\n",
       "    </tr>\n",
       "    <tr>\n",
       "      <th>2</th>\n",
       "      <td>0.129032</td>\n",
       "      <td>0.25</td>\n",
       "      <td>0.240741</td>\n",
       "      <td>0.666667</td>\n",
       "      <td>0.2</td>\n",
       "      <td>0.200000</td>\n",
       "      <td>0.4</td>\n",
       "    </tr>\n",
       "    <tr>\n",
       "      <th>3</th>\n",
       "      <td>0.064516</td>\n",
       "      <td>0.25</td>\n",
       "      <td>0.666667</td>\n",
       "      <td>0.555556</td>\n",
       "      <td>0.0</td>\n",
       "      <td>0.800000</td>\n",
       "      <td>0.3</td>\n",
       "    </tr>\n",
       "    <tr>\n",
       "      <th>4</th>\n",
       "      <td>0.064516</td>\n",
       "      <td>0.00</td>\n",
       "      <td>0.296296</td>\n",
       "      <td>0.222222</td>\n",
       "      <td>0.0</td>\n",
       "      <td>0.066667</td>\n",
       "      <td>0.8</td>\n",
       "    </tr>\n",
       "    <tr>\n",
       "      <th>...</th>\n",
       "      <td>...</td>\n",
       "      <td>...</td>\n",
       "      <td>...</td>\n",
       "      <td>...</td>\n",
       "      <td>...</td>\n",
       "      <td>...</td>\n",
       "      <td>...</td>\n",
       "    </tr>\n",
       "    <tr>\n",
       "      <th>634</th>\n",
       "      <td>0.435484</td>\n",
       "      <td>0.25</td>\n",
       "      <td>0.333333</td>\n",
       "      <td>1.000000</td>\n",
       "      <td>0.2</td>\n",
       "      <td>0.666667</td>\n",
       "      <td>0.0</td>\n",
       "    </tr>\n",
       "    <tr>\n",
       "      <th>635</th>\n",
       "      <td>0.451613</td>\n",
       "      <td>0.50</td>\n",
       "      <td>0.111111</td>\n",
       "      <td>1.000000</td>\n",
       "      <td>0.2</td>\n",
       "      <td>0.866667</td>\n",
       "      <td>0.2</td>\n",
       "    </tr>\n",
       "    <tr>\n",
       "      <th>636</th>\n",
       "      <td>0.290323</td>\n",
       "      <td>0.00</td>\n",
       "      <td>0.129630</td>\n",
       "      <td>0.777778</td>\n",
       "      <td>0.2</td>\n",
       "      <td>0.600000</td>\n",
       "      <td>0.1</td>\n",
       "    </tr>\n",
       "    <tr>\n",
       "      <th>637</th>\n",
       "      <td>0.112903</td>\n",
       "      <td>0.00</td>\n",
       "      <td>0.037037</td>\n",
       "      <td>1.000000</td>\n",
       "      <td>0.2</td>\n",
       "      <td>1.000000</td>\n",
       "      <td>0.0</td>\n",
       "    </tr>\n",
       "    <tr>\n",
       "      <th>638</th>\n",
       "      <td>0.435484</td>\n",
       "      <td>0.25</td>\n",
       "      <td>0.129630</td>\n",
       "      <td>0.888889</td>\n",
       "      <td>0.0</td>\n",
       "      <td>0.800000</td>\n",
       "      <td>0.2</td>\n",
       "    </tr>\n",
       "  </tbody>\n",
       "</table>\n",
       "<p>639 rows × 7 columns</p>\n",
       "</div>"
      ],
      "text/plain": [
       "     Limit_bal  Education       Age  Total_Credit_Cards  Total_visits_bank  \\\n",
       "0     0.016129       0.25  0.055556            0.111111                0.2   \n",
       "1     0.177419       0.25  0.092593            0.222222                0.0   \n",
       "2     0.129032       0.25  0.240741            0.666667                0.2   \n",
       "3     0.064516       0.25  0.666667            0.555556                0.0   \n",
       "4     0.064516       0.00  0.296296            0.222222                0.0   \n",
       "..         ...        ...       ...                 ...                ...   \n",
       "634   0.435484       0.25  0.333333            1.000000                0.2   \n",
       "635   0.451613       0.50  0.111111            1.000000                0.2   \n",
       "636   0.290323       0.00  0.129630            0.777778                0.2   \n",
       "637   0.112903       0.00  0.037037            1.000000                0.2   \n",
       "638   0.435484       0.25  0.129630            0.888889                0.0   \n",
       "\n",
       "     Total_visits_online  Total_calls_made  \n",
       "0               0.066667               0.0  \n",
       "1               0.666667               0.9  \n",
       "2               0.200000               0.4  \n",
       "3               0.800000               0.3  \n",
       "4               0.066667               0.8  \n",
       "..                   ...               ...  \n",
       "634             0.666667               0.0  \n",
       "635             0.866667               0.2  \n",
       "636             0.600000               0.1  \n",
       "637             1.000000               0.0  \n",
       "638             0.800000               0.2  \n",
       "\n",
       "[639 rows x 7 columns]"
      ]
     },
     "execution_count": 25,
     "metadata": {},
     "output_type": "execute_result"
    }
   ],
   "source": [
    "scaler = MinMaxScaler()\n",
    "df_numeric_norm = pd.DataFrame(scaler.fit_transform(df_numeric), columns=df_numeric.columns)\n",
    "\n",
    "df_numeric_norm"
   ]
  },
  {
   "cell_type": "markdown",
   "id": "1154eedb-a5f3-4dc9-b817-df71b8513e39",
   "metadata": {},
   "source": [
    "Ahora se combina con el de variables numéricas para obtener el conjunto final de datos"
   ]
  },
  {
   "cell_type": "code",
   "execution_count": 26,
   "id": "1923d9d4-6079-4425-88b4-4439624a56cf",
   "metadata": {},
   "outputs": [
    {
     "data": {
      "text/html": [
       "<div>\n",
       "<style scoped>\n",
       "    .dataframe tbody tr th:only-of-type {\n",
       "        vertical-align: middle;\n",
       "    }\n",
       "\n",
       "    .dataframe tbody tr th {\n",
       "        vertical-align: top;\n",
       "    }\n",
       "\n",
       "    .dataframe thead th {\n",
       "        text-align: right;\n",
       "    }\n",
       "</style>\n",
       "<table border=\"1\" class=\"dataframe\">\n",
       "  <thead>\n",
       "    <tr style=\"text-align: right;\">\n",
       "      <th></th>\n",
       "      <th>Limit_bal</th>\n",
       "      <th>Education</th>\n",
       "      <th>Age</th>\n",
       "      <th>Total_Credit_Cards</th>\n",
       "      <th>Total_visits_bank</th>\n",
       "      <th>Total_visits_online</th>\n",
       "      <th>Total_calls_made</th>\n",
       "      <th>is_male</th>\n",
       "      <th>Married</th>\n",
       "      <th>Other</th>\n",
       "      <th>Single</th>\n",
       "    </tr>\n",
       "  </thead>\n",
       "  <tbody>\n",
       "    <tr>\n",
       "      <th>0</th>\n",
       "      <td>0.016129</td>\n",
       "      <td>0.25</td>\n",
       "      <td>0.055556</td>\n",
       "      <td>0.111111</td>\n",
       "      <td>0.2</td>\n",
       "      <td>0.066667</td>\n",
       "      <td>0.0</td>\n",
       "      <td>0</td>\n",
       "      <td>1.0</td>\n",
       "      <td>0.0</td>\n",
       "      <td>0.0</td>\n",
       "    </tr>\n",
       "    <tr>\n",
       "      <th>1</th>\n",
       "      <td>0.177419</td>\n",
       "      <td>0.25</td>\n",
       "      <td>0.092593</td>\n",
       "      <td>0.222222</td>\n",
       "      <td>0.0</td>\n",
       "      <td>0.666667</td>\n",
       "      <td>0.9</td>\n",
       "      <td>0</td>\n",
       "      <td>0.0</td>\n",
       "      <td>0.0</td>\n",
       "      <td>1.0</td>\n",
       "    </tr>\n",
       "    <tr>\n",
       "      <th>2</th>\n",
       "      <td>0.129032</td>\n",
       "      <td>0.25</td>\n",
       "      <td>0.240741</td>\n",
       "      <td>0.666667</td>\n",
       "      <td>0.2</td>\n",
       "      <td>0.200000</td>\n",
       "      <td>0.4</td>\n",
       "      <td>0</td>\n",
       "      <td>0.0</td>\n",
       "      <td>0.0</td>\n",
       "      <td>1.0</td>\n",
       "    </tr>\n",
       "    <tr>\n",
       "      <th>3</th>\n",
       "      <td>0.064516</td>\n",
       "      <td>0.25</td>\n",
       "      <td>0.666667</td>\n",
       "      <td>0.555556</td>\n",
       "      <td>0.0</td>\n",
       "      <td>0.800000</td>\n",
       "      <td>0.3</td>\n",
       "      <td>1</td>\n",
       "      <td>1.0</td>\n",
       "      <td>0.0</td>\n",
       "      <td>0.0</td>\n",
       "    </tr>\n",
       "    <tr>\n",
       "      <th>4</th>\n",
       "      <td>0.064516</td>\n",
       "      <td>0.00</td>\n",
       "      <td>0.296296</td>\n",
       "      <td>0.222222</td>\n",
       "      <td>0.0</td>\n",
       "      <td>0.066667</td>\n",
       "      <td>0.8</td>\n",
       "      <td>1</td>\n",
       "      <td>0.0</td>\n",
       "      <td>0.0</td>\n",
       "      <td>1.0</td>\n",
       "    </tr>\n",
       "    <tr>\n",
       "      <th>...</th>\n",
       "      <td>...</td>\n",
       "      <td>...</td>\n",
       "      <td>...</td>\n",
       "      <td>...</td>\n",
       "      <td>...</td>\n",
       "      <td>...</td>\n",
       "      <td>...</td>\n",
       "      <td>...</td>\n",
       "      <td>...</td>\n",
       "      <td>...</td>\n",
       "      <td>...</td>\n",
       "    </tr>\n",
       "    <tr>\n",
       "      <th>634</th>\n",
       "      <td>0.435484</td>\n",
       "      <td>0.25</td>\n",
       "      <td>0.333333</td>\n",
       "      <td>1.000000</td>\n",
       "      <td>0.2</td>\n",
       "      <td>0.666667</td>\n",
       "      <td>0.0</td>\n",
       "      <td>1</td>\n",
       "      <td>1.0</td>\n",
       "      <td>0.0</td>\n",
       "      <td>0.0</td>\n",
       "    </tr>\n",
       "    <tr>\n",
       "      <th>635</th>\n",
       "      <td>0.451613</td>\n",
       "      <td>0.50</td>\n",
       "      <td>0.111111</td>\n",
       "      <td>1.000000</td>\n",
       "      <td>0.2</td>\n",
       "      <td>0.866667</td>\n",
       "      <td>0.2</td>\n",
       "      <td>0</td>\n",
       "      <td>0.0</td>\n",
       "      <td>0.0</td>\n",
       "      <td>1.0</td>\n",
       "    </tr>\n",
       "    <tr>\n",
       "      <th>636</th>\n",
       "      <td>0.290323</td>\n",
       "      <td>0.00</td>\n",
       "      <td>0.129630</td>\n",
       "      <td>0.777778</td>\n",
       "      <td>0.2</td>\n",
       "      <td>0.600000</td>\n",
       "      <td>0.1</td>\n",
       "      <td>0</td>\n",
       "      <td>0.0</td>\n",
       "      <td>0.0</td>\n",
       "      <td>1.0</td>\n",
       "    </tr>\n",
       "    <tr>\n",
       "      <th>637</th>\n",
       "      <td>0.112903</td>\n",
       "      <td>0.00</td>\n",
       "      <td>0.037037</td>\n",
       "      <td>1.000000</td>\n",
       "      <td>0.2</td>\n",
       "      <td>1.000000</td>\n",
       "      <td>0.0</td>\n",
       "      <td>0</td>\n",
       "      <td>0.0</td>\n",
       "      <td>0.0</td>\n",
       "      <td>1.0</td>\n",
       "    </tr>\n",
       "    <tr>\n",
       "      <th>638</th>\n",
       "      <td>0.435484</td>\n",
       "      <td>0.25</td>\n",
       "      <td>0.129630</td>\n",
       "      <td>0.888889</td>\n",
       "      <td>0.0</td>\n",
       "      <td>0.800000</td>\n",
       "      <td>0.2</td>\n",
       "      <td>0</td>\n",
       "      <td>0.0</td>\n",
       "      <td>0.0</td>\n",
       "      <td>1.0</td>\n",
       "    </tr>\n",
       "  </tbody>\n",
       "</table>\n",
       "<p>639 rows × 11 columns</p>\n",
       "</div>"
      ],
      "text/plain": [
       "     Limit_bal  Education       Age  Total_Credit_Cards  Total_visits_bank  \\\n",
       "0     0.016129       0.25  0.055556            0.111111                0.2   \n",
       "1     0.177419       0.25  0.092593            0.222222                0.0   \n",
       "2     0.129032       0.25  0.240741            0.666667                0.2   \n",
       "3     0.064516       0.25  0.666667            0.555556                0.0   \n",
       "4     0.064516       0.00  0.296296            0.222222                0.0   \n",
       "..         ...        ...       ...                 ...                ...   \n",
       "634   0.435484       0.25  0.333333            1.000000                0.2   \n",
       "635   0.451613       0.50  0.111111            1.000000                0.2   \n",
       "636   0.290323       0.00  0.129630            0.777778                0.2   \n",
       "637   0.112903       0.00  0.037037            1.000000                0.2   \n",
       "638   0.435484       0.25  0.129630            0.888889                0.0   \n",
       "\n",
       "     Total_visits_online  Total_calls_made  is_male  Married  Other  Single  \n",
       "0               0.066667               0.0        0      1.0    0.0     0.0  \n",
       "1               0.666667               0.9        0      0.0    0.0     1.0  \n",
       "2               0.200000               0.4        0      0.0    0.0     1.0  \n",
       "3               0.800000               0.3        1      1.0    0.0     0.0  \n",
       "4               0.066667               0.8        1      0.0    0.0     1.0  \n",
       "..                   ...               ...      ...      ...    ...     ...  \n",
       "634             0.666667               0.0        1      1.0    0.0     0.0  \n",
       "635             0.866667               0.2        0      0.0    0.0     1.0  \n",
       "636             0.600000               0.1        0      0.0    0.0     1.0  \n",
       "637             1.000000               0.0        0      0.0    0.0     1.0  \n",
       "638             0.800000               0.2        0      0.0    0.0     1.0  \n",
       "\n",
       "[639 rows x 11 columns]"
      ]
     },
     "execution_count": 26,
     "metadata": {},
     "output_type": "execute_result"
    }
   ],
   "source": [
    "df_final = pd.concat([df_numeric_norm, df_categ_encoded], axis=1)\n",
    "df_final"
   ]
  },
  {
   "cell_type": "markdown",
   "id": "16cf52c1-5a40-450e-a67b-7283f5c32dc6",
   "metadata": {},
   "source": [
    "## Implementación algoritmo"
   ]
  },
  {
   "cell_type": "code",
   "execution_count": 27,
   "id": "4c6abe31-460e-418f-a808-4e274e3c206b",
   "metadata": {},
   "outputs": [
    {
     "data": {
      "text/plain": [
       "HDBSCAN()"
      ]
     },
     "execution_count": 27,
     "metadata": {},
     "output_type": "execute_result"
    }
   ],
   "source": [
    "clusterer = hdbscan.HDBSCAN()\n",
    "clusterer.fit(df_final)"
   ]
  },
  {
   "cell_type": "markdown",
   "id": "db735271-aa79-466c-9cf9-393d40187c7d",
   "metadata": {},
   "source": [
    "Se puede ver gráficamente en dos dimensiones gracias a TNSE"
   ]
  },
  {
   "cell_type": "code",
   "execution_count": 28,
   "id": "479b1b7f-c09d-44b1-8237-a41d7d23fb7b",
   "metadata": {},
   "outputs": [
    {
     "data": {
      "text/plain": [
       "<matplotlib.collections.PathCollection at 0x7fc9ed9fc190>"
      ]
     },
     "execution_count": 28,
     "metadata": {},
     "output_type": "execute_result"
    },
    {
     "data": {
      "image/png": "[encoded data removed]",
      "text/plain": [
       "<Figure size 432x288 with 1 Axes>"
      ]
     },
     "metadata": {},
     "output_type": "display_data"
    }
   ],
   "source": [
    "projection = TSNE().fit_transform(df_final)\n",
    "color_palette = sns.color_palette('Paired', 12)\n",
    "cluster_colors = [color_palette[x] if x >= 0\n",
    "                  else (0.5, 0.5, 0.5)\n",
    "                  for x in clusterer.labels_]\n",
    "cluster_member_colors = [sns.desaturate(x, p) for x, p in\n",
    "                         zip(cluster_colors, clusterer.probabilities_)]\n",
    "plt.scatter(*projection.T, s=50, linewidth=0, c=cluster_member_colors, alpha=0.25)"
   ]
  },
  {
   "cell_type": "markdown",
   "id": "d0d9af23-a531-48d7-8a39-e1438acd66b6",
   "metadata": {},
   "source": [
    "### Selección de parámetros"
   ]
  },
  {
   "cell_type": "markdown",
   "id": "d28877d6-6f73-4bc1-91af-f4be83d99c4a",
   "metadata": {},
   "source": [
    "Se puede observar que existen clusters muy pequeños, pdoría mejorar el modelo si se incluyen esos valores en los clusters que tienen más cercanos"
   ]
  },
  {
   "cell_type": "markdown",
   "id": "7ff88ab3-da9c-4264-953a-99cffd258859",
   "metadata": {},
   "source": [
    "#### Selección min_cluster_size"
   ]
  },
  {
   "cell_type": "markdown",
   "id": "952f9f0e-6fbe-4fcf-b9c9-a6d0e5bcd123",
   "metadata": {},
   "source": [
    "Se probará cuál es el valor que genera mejor coeficiente de silueta"
   ]
  },
  {
   "cell_type": "code",
   "execution_count": 29,
   "id": "c0295500-ff2e-4c36-a261-c9044ab8f560",
   "metadata": {},
   "outputs": [],
   "source": [
    "# Identificar el valor de min_cluster_size, utilizando ahora el valor de la silueta\n",
    "def plot_select_size_silhoute(data,\n",
    "                    size_min=5, \n",
    "                    size_max=105,\n",
    "                    ylabel = 'Silhouette Coefficient',\n",
    "                    xlabel = 'Min Clusters Size',\n",
    "                    style = 'fivethirtyeight'):\n",
    "    # Crear una lista para almacenar los coeficientes de la silueta para cada valor de k analizado\n",
    "\n",
    "    silhouette_coefficients = []\n",
    "    xticks = []\n",
    "    \n",
    "    k = size_min\n",
    "    while k <= size_max:\n",
    "        HDBSc = hdbscan.HDBSCAN(min_cluster_size=k)\n",
    "        HDBSc.fit(data)\n",
    "        score = silhouette_score(data, HDBSc.labels_)\n",
    "        silhouette_coefficients.append(score)\n",
    "        xticks.append(k)\n",
    "        k += 10\n",
    "    plt.style.use(style)\n",
    "    plt.plot(xticks, silhouette_coefficients)\n",
    "    plt.xticks(xticks)\n",
    "    plt.xlabel(xlabel)\n",
    "    plt.ylabel(ylabel)\n",
    "    plt.show()    "
   ]
  },
  {
   "cell_type": "code",
   "execution_count": 30,
   "id": "173dc71c-3d15-469f-b2be-598d7eb16701",
   "metadata": {},
   "outputs": [
    {
     "data": {
      "image/png": "[encoded data removed]",
      "text/plain": [
       "<Figure size 432x288 with 1 Axes>"
      ]
     },
     "metadata": {},
     "output_type": "display_data"
    }
   ],
   "source": [
    "plot_select_size_silhoute(df_final, size_min=5, size_max=90)"
   ]
  },
  {
   "cell_type": "markdown",
   "id": "14304b31-0c1b-46aa-8834-f97810720cf7",
   "metadata": {},
   "source": [
    "El mejor valor reportado es de 15"
   ]
  },
  {
   "cell_type": "markdown",
   "id": "532c37d2-e491-4ceb-80d2-85f66260e05a",
   "metadata": {},
   "source": [
    "#### Selección min_samples"
   ]
  },
  {
   "cell_type": "markdown",
   "id": "012ebe7c-c15d-45e0-808d-ad9207fc2a6b",
   "metadata": {},
   "source": [
    "Se probará cuál es el valor que genera mejor coeficiente de silueta"
   ]
  },
  {
   "cell_type": "code",
   "execution_count": 31,
   "id": "b76127d9-c447-4fc0-a3b2-953ff1fef016",
   "metadata": {},
   "outputs": [],
   "source": [
    "# Identificar el valor de min_cluster_size, utilizando ahora el valor de la silueta\n",
    "def plot_select_samples_silhoute(data,\n",
    "                    samples_min=1, \n",
    "                    samples_max=105,\n",
    "                    ylabel = 'Silhouette Coefficient',\n",
    "                    xlabel = 'Min Samples',\n",
    "                    style = 'fivethirtyeight'):\n",
    "    # Crear una lista para almacenar los coeficientes de la silueta para cada valor de k analizado\n",
    "\n",
    "    silhouette_coefficients = []\n",
    "    xticks = []\n",
    "    \n",
    "    k = samples_min\n",
    "    while k <= samples_max:\n",
    "        HDBSc = hdbscan.HDBSCAN(min_samples=k)\n",
    "        HDBSc.fit(data)\n",
    "        score = silhouette_score(data, HDBSc.labels_)\n",
    "        silhouette_coefficients.append(score)\n",
    "        xticks.append(k)\n",
    "        k += 5\n",
    "    plt.style.use(style)\n",
    "    plt.plot(xticks, silhouette_coefficients)\n",
    "    plt.xticks(xticks)\n",
    "    plt.xlabel(xlabel)\n",
    "    plt.ylabel(ylabel)\n",
    "    plt.show()    "
   ]
  },
  {
   "cell_type": "code",
   "execution_count": 32,
   "id": "027cf272-ad54-4c5b-a22c-956f11a659d5",
   "metadata": {},
   "outputs": [
    {
     "data": {
      "image/png": "[encoded data removed]",
      "text/plain": [
       "<Figure size 432x288 with 1 Axes>"
      ]
     },
     "metadata": {},
     "output_type": "display_data"
    }
   ],
   "source": [
    "plot_select_samples_silhoute(df_final, samples_min=5, samples_max=90)"
   ]
  },
  {
   "cell_type": "markdown",
   "id": "740310d1-d72a-4e57-9df9-b0d5af428922",
   "metadata": {},
   "source": [
    "El mejor valor reportado es de 10"
   ]
  },
  {
   "cell_type": "markdown",
   "id": "6d3f87c4-d82b-46c6-a216-9651dbc57a32",
   "metadata": {},
   "source": [
    "### Mejor modelo"
   ]
  },
  {
   "cell_type": "markdown",
   "id": "6e9bbd02-fb6b-43e1-b87b-744943261a0e",
   "metadata": {},
   "source": [
    "Se utilizan los parámetros encontrados anteriormente"
   ]
  },
  {
   "cell_type": "code",
   "execution_count": 50,
   "id": "33323c55-40f8-4c13-a0de-a05291e731df",
   "metadata": {},
   "outputs": [
    {
     "data": {
      "text/plain": [
       "array([-1,  0,  1,  2,  3])"
      ]
     },
     "execution_count": 50,
     "metadata": {},
     "output_type": "execute_result"
    }
   ],
   "source": [
    "mejor_HDBSc = hdbscan.HDBSCAN(min_cluster_size=15, min_samples=10)\n",
    "mejor_HDBSc.fit(df_final)\n",
    "np.unique(mejor_HDBSc.labels_)"
   ]
  },
  {
   "cell_type": "code",
   "execution_count": 51,
   "id": "8b1eba84-fec0-4645-ac84-a8fba2e703e1",
   "metadata": {},
   "outputs": [
    {
     "data": {
      "text/plain": [
       "<matplotlib.collections.PathCollection at 0x7fc9ee8306d0>"
      ]
     },
     "execution_count": 51,
     "metadata": {},
     "output_type": "execute_result"
    },
    {
     "data": {
      "image/png": "[encoded data removed]",
      "text/plain": [
       "<Figure size 432x288 with 1 Axes>"
      ]
     },
     "metadata": {},
     "output_type": "display_data"
    }
   ],
   "source": [
    "projection = TSNE().fit_transform(df_final)\n",
    "color_palette = sns.color_palette('Paired', 12)\n",
    "cluster_colors = [color_palette[x] if x >= 0\n",
    "                  else (0.5, 0.5, 0.5)\n",
    "                  for x in mejor_HDBSc.labels_]\n",
    "cluster_member_colors = [sns.desaturate(x, p) for x, p in\n",
    "                         zip(cluster_colors, mejor_HDBSc.probabilities_)]\n",
    "plt.scatter(*projection.T, s=50, linewidth=0, c=cluster_member_colors, alpha=0.25)"
   ]
  },
  {
   "cell_type": "code",
   "execution_count": 35,
   "id": "02869556-df7f-4be1-86e1-89240e0055da",
   "metadata": {
    "jupyter": {
     "source_hidden": true
    },
    "tags": []
   },
   "outputs": [],
   "source": [
    "#Creamos una función basada en el concepto de silueta\n",
    "def plot_silhouette(data, \n",
    "                    labels,\n",
    "                   ylabel = 'Clústeres',\n",
    "                   xlabel = \"Silhouette coefficient\",\n",
    "                   title = 'Silhouette Plot'):\n",
    "    '''\n",
    "    Graficar la silueta de los clusters\n",
    "    \n",
    "    Parametros\n",
    "    ----------\n",
    "    data : np.array\n",
    "        El arreglo con los datos\n",
    "    labels : np.array\n",
    "        El arreglo con las etiquetas correspondientes\n",
    "    ylabel  string\n",
    "        La etiqueta del eje y\n",
    "    xlabel : string\n",
    "        La etiqueta del eje x\n",
    "    title : string\n",
    "        El titulo de la gráfica        \n",
    "    '''\n",
    "    cluster_labels = np.unique(labels)\n",
    "    cluster_labels = np.delete(cluster_labels,[0])\n",
    "    print(cluster_labels)\n",
    "    n_clusters = cluster_labels.shape[0]\n",
    "    silhouette_vals = silhouette_samples(data,\n",
    "                                        labels,\n",
    "                                        metric='euclidean')\n",
    "    y_ax_lower, y_ax_upper = 0, 0\n",
    "    yticks = []\n",
    "    for i, c in enumerate(cluster_labels):\n",
    "        c_silhouette_vals = silhouette_vals[labels == c]\n",
    "        c_silhouette_vals.sort()\n",
    "        y_ax_upper += len(c_silhouette_vals)\n",
    "        color = cm.jet(float(i) / n_clusters)\n",
    "        plt.barh(range(y_ax_lower, y_ax_upper),\n",
    "                        c_silhouette_vals,\n",
    "                        height=1.0,\n",
    "                        edgecolor='none',\n",
    "                        color=color)\n",
    "        yticks.append((y_ax_lower + y_ax_upper) / 2.)\n",
    "        y_ax_lower += len(c_silhouette_vals)\n",
    "    silhouette_avg = np.mean(silhouette_vals)\n",
    "    plt.axvline(silhouette_avg,\n",
    "                color=\"red\",\n",
    "                linestyle=\"--\")\n",
    "    plt.yticks(yticks, cluster_labels+1)\n",
    "    plt.ylabel(ylabel)\n",
    "    plt.xlabel(xlabel)\n",
    "    plt.title(title)\n",
    "    plt.show()"
   ]
  },
  {
   "cell_type": "code",
   "execution_count": 52,
   "id": "4dda2ed0-62f9-4083-a41e-23ca6989bf2b",
   "metadata": {},
   "outputs": [
    {
     "name": "stdout",
     "output_type": "stream",
     "text": [
      "[0 1 2 3]\n"
     ]
    },
    {
     "data": {
      "image/png": "[encoded data removed]",
      "text/plain": [
       "<Figure size 432x288 with 1 Axes>"
      ]
     },
     "metadata": {},
     "output_type": "display_data"
    }
   ],
   "source": [
    "plot_silhouette(data = df_final, \n",
    "                labels = mejor_HDBSc.labels_, \n",
    "                ylabel = 'Clustering with 4 clusters')"
   ]
  },
  {
   "cell_type": "code",
   "execution_count": 63,
   "id": "071b306e-9f52-44c8-b1aa-987710a6ed63",
   "metadata": {},
   "outputs": [
    {
     "data": {
      "text/plain": [
       "Index(['Limit_bal', 'Education', 'Age', 'Total_Credit_Cards',\n",
       "       'Total_visits_bank', 'Total_visits_online', 'Total_calls_made',\n",
       "       'is_male', 'Married', 'Other', 'Single'],\n",
       "      dtype='object')"
      ]
     },
     "execution_count": 63,
     "metadata": {},
     "output_type": "execute_result"
    }
   ],
   "source": [
    "#Transformar el contenido de las columnas a arreglo\n",
    "cols_number = df_final.to_numpy()\n",
    "df_final.columns"
   ]
  },
  {
   "cell_type": "code",
   "execution_count": 78,
   "id": "4147fb58-5b22-453f-87c7-79d8aa8e507d",
   "metadata": {
    "collapsed": true,
    "jupyter": {
     "outputs_hidden": true,
     "source_hidden": true
    },
    "tags": []
   },
   "outputs": [
    {
     "data": {
      "image/png": "[encoded data removed]",
      "text/plain": [
       "<Figure size 432x288 with 1 Axes>"
      ]
     },
     "metadata": {},
     "output_type": "display_data"
    }
   ],
   "source": [
    "# Ver gráficamente los elementos de los diferentes clúster\n",
    "plt.scatter(cols_number[mejor_HDBSc.labels_ == 0, 7], cols_number[mejor_HDBSc.labels_ == 0, 0], s = 100, marker='v', c = 'red', label = 'Cluster 1')\n",
    "plt.scatter(cols_number[mejor_HDBSc.labels_ == 1, 7], cols_number[mejor_HDBSc.labels_ == 1, 0], s = 100, marker='o', c = 'blue', label = 'Cluster 2')\n",
    "plt.scatter(cols_number[mejor_HDBSc.labels_ == 2, 7], cols_number[mejor_HDBSc.labels_ == 2, 0], s = 100, marker='*', c = 'green', label = 'Cluster 3')\n",
    "plt.scatter(cols_number[mejor_HDBSc.labels_ == 3, 7], cols_number[mejor_HDBSc.labels_ == 3, 0], s = 100, marker='x', c = 'yellow', label = 'Cluster 4')\n",
    "\n",
    "#plt.scatter(kmeans.cluster_centers_[:, 0], kmeans.cluster_centers_[:, 1], s = 100, c = 'yellow', label = 'Centroids')\n",
    "plt.title('Clusters clientes')\n",
    "plt.xlabel(df_final.columns[7])\n",
    "plt.ylabel(df_final.columns[0])\n",
    "plt.legend()\n",
    "plt.show()"
   ]
  },
  {
   "cell_type": "code",
   "execution_count": 80,
   "id": "f4cf8cfa-04c4-4c3f-bf0c-ffbfcede5e14",
   "metadata": {},
   "outputs": [
    {
     "data": {
      "image/png": "[encoded data removed]",
      "text/plain": [
       "<Figure size 432x288 with 1 Axes>"
      ]
     },
     "metadata": {},
     "output_type": "display_data"
    }
   ],
   "source": [
    "fig=plt.figure()\n",
    "ax=Axes3D(fig)\n",
    "ax.scatter(cols_number[mejor_HDBSc.labels_ == 0, 10], cols_number[mejor_HDBSc.labels_ == 0, 3], cols_number[mejor_HDBSc.labels_ == 0, 4],color='red')\n",
    "ax.scatter(cols_number[mejor_HDBSc.labels_ == 1, 10], cols_number[mejor_HDBSc.labels_ == 1, 3], cols_number[mejor_HDBSc.labels_ == 1, 4],color='green')\n",
    "ax.scatter(cols_number[mejor_HDBSc.labels_ == 2, 10], cols_number[mejor_HDBSc.labels_ == 2, 3], cols_number[mejor_HDBSc.labels_ == 2, 4],color='blue')\n",
    "ax.scatter(cols_number[mejor_HDBSc.labels_ == 3, 10], cols_number[mejor_HDBSc.labels_ == 3, 3], cols_number[mejor_HDBSc.labels_ == 3, 4],color='yellow')\n",
    "\n",
    "#ax.scatter(mejor_HDBSc.cluster_centers_[:, 0],mejor_HDBSc.cluster_centers_[:, 1], mejor_HDBSc.cluster_centers_[:, 2], color='yellow',marker='o',s=200, label='centroids')\n",
    "ax.set_xlabel(df_final.columns[10])\n",
    "ax.set_ylabel(df_final.columns[3])\n",
    "ax.set_zlabel(df_final.columns[4])\n",
    "plt.show()"
   ]
  },
  {
   "cell_type": "code",
   "execution_count": 70,
   "id": "ba32ba70-9be8-40ea-ba81-8b2f32aa3baf",
   "metadata": {},
   "outputs": [
    {
     "data": {
      "image/png": "[encoded data removed]",
      "text/plain": [
       "<Figure size 432x288 with 1 Axes>"
      ]
     },
     "metadata": {},
     "output_type": "display_data"
    }
   ],
   "source": [
    "fig=plt.figure()\n",
    "ax=Axes3D(fig)\n",
    "ax.scatter(cols_number[mejor_HDBSc.labels_ == 0, 2], cols_number[mejor_HDBSc.labels_ == 0, 3], cols_number[mejor_HDBSc.labels_ == 0, 6],color='red')\n",
    "ax.scatter(cols_number[mejor_HDBSc.labels_ == 1, 2], cols_number[mejor_HDBSc.labels_ == 1, 3], cols_number[mejor_HDBSc.labels_ == 1, 6],color='green')\n",
    "ax.scatter(cols_number[mejor_HDBSc.labels_ == 2, 2], cols_number[mejor_HDBSc.labels_ == 2, 3], cols_number[mejor_HDBSc.labels_ == 2, 6],color='blue')\n",
    "ax.scatter(cols_number[mejor_HDBSc.labels_ == 3, 2], cols_number[mejor_HDBSc.labels_ == 3, 3], cols_number[mejor_HDBSc.labels_ == 3, 6],color='yellow')\n",
    "\n",
    "#ax.scatter(mejor_HDBSc.cluster_centers_[:, 0],mejor_HDBSc.cluster_centers_[:, 1], mejor_HDBSc.cluster_centers_[:, 2], color='yellow',marker='o',s=200, label='centroids')\n",
    "ax.set_xlabel(df_final.columns[2])\n",
    "ax.set_ylabel(df_final.columns[3])\n",
    "ax.set_zlabel(df_final.columns[6])\n",
    "plt.show()"
   ]
  },
  {
   "cell_type": "code",
   "execution_count": 81,
   "id": "9baa76e7-c180-4a97-be46-5fcc9c85034b",
   "metadata": {},
   "outputs": [
    {
     "data": {
      "image/png": "[encoded data removed]",
      "text/plain": [
       "<Figure size 432x288 with 1 Axes>"
      ]
     },
     "metadata": {},
     "output_type": "display_data"
    }
   ],
   "source": [
    "fig=plt.figure()\n",
    "ax=Axes3D(fig)\n",
    "ax.scatter(cols_number[mejor_HDBSc.labels_ == 0, 7], cols_number[mejor_HDBSc.labels_ == 0, 1], cols_number[mejor_HDBSc.labels_ == 0, 3],color='red')\n",
    "ax.scatter(cols_number[mejor_HDBSc.labels_ == 1, 7], cols_number[mejor_HDBSc.labels_ == 1, 1], cols_number[mejor_HDBSc.labels_ == 1, 3],color='green')\n",
    "ax.scatter(cols_number[mejor_HDBSc.labels_ == 2, 7], cols_number[mejor_HDBSc.labels_ == 2, 1], cols_number[mejor_HDBSc.labels_ == 2, 3],color='blue')\n",
    "ax.scatter(cols_number[mejor_HDBSc.labels_ == 3, 7], cols_number[mejor_HDBSc.labels_ == 3, 1], cols_number[mejor_HDBSc.labels_ == 3, 3],color='yellow')\n",
    "\n",
    "#ax.scatter(mejor_HDBSc.cluster_centers_[:, 0],mejor_HDBSc.cluster_centers_[:, 1], mejor_HDBSc.cluster_centers_[:, 2], color='yellow',marker='o',s=200, label='centroids')\n",
    "ax.set_xlabel(df_final.columns[7])\n",
    "ax.set_ylabel(df_final.columns[1])\n",
    "ax.set_zlabel(df_final.columns[3])\n",
    "plt.show()"
   ]
  }
 ],
 "metadata": {
  "kernelspec": {
   "display_name": "Python 3",
   "language": "python",
   "name": "python3"
  },
  "language_info": {
   "codemirror_mode": {
    "name": "ipython",
    "version": 3
   },
   "file_extension": ".py",
   "mimetype": "text/x-python",
   "name": "python",
   "nbconvert_exporter": "python",
   "pygments_lexer": "ipython3",
   "version": "3.8.8"
  }
 },
 "nbformat": 4,
 "nbformat_minor": 5
}
