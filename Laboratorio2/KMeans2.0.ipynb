{
 "cells": [
  {
   "cell_type": "markdown",
   "metadata": {},
   "source": [
    "## Carga de librerías necesarias para implementación"
   ]
  },
  {
   "cell_type": "code",
   "execution_count": 223,
   "metadata": {},
   "outputs": [],
   "source": [
    "import pandas as pd\n",
    "import numpy as np\n",
    "import matplotlib.pyplot as plt\n",
    "import seaborn as sns; sns.set()  # for plot styling\n",
    "\n",
    "from sklearn.preprocessing import StandardScaler\n",
    "from sklearn.cluster import KMeans\n",
    "from sklearn.metrics import silhouette_samples, silhouette_score\n",
    "from sklearn.preprocessing import MinMaxScaler\n",
    "\n",
    "from matplotlib import cm\n",
    "from mpl_toolkits.mplot3d import Axes3D # for 3D plots\n"
   ]
  },
  {
   "cell_type": "markdown",
   "metadata": {},
   "source": [
    "## Carga de datos"
   ]
  },
  {
   "cell_type": "code",
   "execution_count": 224,
   "metadata": {},
   "outputs": [],
   "source": [
    "# Se cargan los datos. \n",
    "datos=pd.read_csv('datos.csv', sep=';', encoding = 'utf-8')"
   ]
  },
  {
   "cell_type": "markdown",
   "metadata": {},
   "source": [
    "## Perfilamiento y entendimiento de los datos "
   ]
  },
  {
   "cell_type": "code",
   "execution_count": 225,
   "metadata": {},
   "outputs": [
    {
     "data": {
      "text/plain": [
       "(660, 11)"
      ]
     },
     "execution_count": 225,
     "metadata": {},
     "output_type": "execute_result"
    }
   ],
   "source": [
    "datos.shape"
   ]
  },
  {
   "cell_type": "code",
   "execution_count": 226,
   "metadata": {},
   "outputs": [
    {
     "data": {
      "text/html": [
       "<div>\n",
       "<style scoped>\n",
       "    .dataframe tbody tr th:only-of-type {\n",
       "        vertical-align: middle;\n",
       "    }\n",
       "\n",
       "    .dataframe tbody tr th {\n",
       "        vertical-align: top;\n",
       "    }\n",
       "\n",
       "    .dataframe thead th {\n",
       "        text-align: right;\n",
       "    }\n",
       "</style>\n",
       "<table border=\"1\" class=\"dataframe\">\n",
       "  <thead>\n",
       "    <tr style=\"text-align: right;\">\n",
       "      <th></th>\n",
       "      <th>Id</th>\n",
       "      <th>Customer</th>\n",
       "      <th>Limit_bal</th>\n",
       "      <th>Sex</th>\n",
       "      <th>Education</th>\n",
       "      <th>Marriage</th>\n",
       "      <th>Age</th>\n",
       "      <th>Total_Credit_Cards</th>\n",
       "      <th>Total_visits_bank</th>\n",
       "      <th>Total_visits_online</th>\n",
       "      <th>Total_calls_made</th>\n",
       "    </tr>\n",
       "  </thead>\n",
       "  <tbody>\n",
       "    <tr>\n",
       "      <th>0</th>\n",
       "      <td>1</td>\n",
       "      <td>87073.0</td>\n",
       "      <td>20000.0</td>\n",
       "      <td>Female</td>\n",
       "      <td>2</td>\n",
       "      <td>Married</td>\n",
       "      <td>24.0</td>\n",
       "      <td>2.0</td>\n",
       "      <td>1</td>\n",
       "      <td>1.0</td>\n",
       "      <td>0</td>\n",
       "    </tr>\n",
       "    <tr>\n",
       "      <th>1</th>\n",
       "      <td>2</td>\n",
       "      <td>38414.0</td>\n",
       "      <td>120000.0</td>\n",
       "      <td>Female</td>\n",
       "      <td>2</td>\n",
       "      <td>Single</td>\n",
       "      <td>26.0</td>\n",
       "      <td>3.0</td>\n",
       "      <td>0</td>\n",
       "      <td>10.0</td>\n",
       "      <td>9</td>\n",
       "    </tr>\n",
       "    <tr>\n",
       "      <th>2</th>\n",
       "      <td>3</td>\n",
       "      <td>17341.0</td>\n",
       "      <td>90000.0</td>\n",
       "      <td>Female</td>\n",
       "      <td>2</td>\n",
       "      <td>Single</td>\n",
       "      <td>34.0</td>\n",
       "      <td>7.0</td>\n",
       "      <td>1</td>\n",
       "      <td>3.0</td>\n",
       "      <td>4</td>\n",
       "    </tr>\n",
       "    <tr>\n",
       "      <th>3</th>\n",
       "      <td>4</td>\n",
       "      <td>40496.0</td>\n",
       "      <td>50000.0</td>\n",
       "      <td>Female</td>\n",
       "      <td>2</td>\n",
       "      <td>Married</td>\n",
       "      <td>37.0</td>\n",
       "      <td>5.0</td>\n",
       "      <td>1</td>\n",
       "      <td>1.0</td>\n",
       "      <td>?</td>\n",
       "    </tr>\n",
       "    <tr>\n",
       "      <th>4</th>\n",
       "      <td>5</td>\n",
       "      <td>47437.0</td>\n",
       "      <td>50000.0</td>\n",
       "      <td>Male</td>\n",
       "      <td>2</td>\n",
       "      <td>Married</td>\n",
       "      <td>57.0</td>\n",
       "      <td>6.0</td>\n",
       "      <td>0</td>\n",
       "      <td>12.0</td>\n",
       "      <td>3</td>\n",
       "    </tr>\n",
       "  </tbody>\n",
       "</table>\n",
       "</div>"
      ],
      "text/plain": [
       "   Id  Customer  Limit_bal     Sex Education Marriage   Age  \\\n",
       "0   1   87073.0    20000.0  Female         2  Married  24.0   \n",
       "1   2   38414.0   120000.0  Female         2   Single  26.0   \n",
       "2   3   17341.0    90000.0  Female         2   Single  34.0   \n",
       "3   4   40496.0    50000.0  Female         2  Married  37.0   \n",
       "4   5   47437.0    50000.0    Male         2  Married  57.0   \n",
       "\n",
       "   Total_Credit_Cards Total_visits_bank  Total_visits_online Total_calls_made  \n",
       "0                 2.0                 1                  1.0                0  \n",
       "1                 3.0                 0                 10.0                9  \n",
       "2                 7.0                 1                  3.0                4  \n",
       "3                 5.0                 1                  1.0                ?  \n",
       "4                 6.0                 0                 12.0                3  "
      ]
     },
     "execution_count": 226,
     "metadata": {},
     "output_type": "execute_result"
    }
   ],
   "source": [
    "datos.head()"
   ]
  },
  {
   "cell_type": "code",
   "execution_count": 227,
   "metadata": {},
   "outputs": [
    {
     "name": "stdout",
     "output_type": "stream",
     "text": [
      "<class 'pandas.core.frame.DataFrame'>\n",
      "RangeIndex: 660 entries, 0 to 659\n",
      "Data columns (total 11 columns):\n",
      " #   Column               Non-Null Count  Dtype  \n",
      "---  ------               --------------  -----  \n",
      " 0   Id                   660 non-null    int64  \n",
      " 1   Customer             658 non-null    float64\n",
      " 2   Limit_bal            659 non-null    float64\n",
      " 3   Sex                  659 non-null    object \n",
      " 4   Education            659 non-null    object \n",
      " 5   Marriage             658 non-null    object \n",
      " 6   Age                  659 non-null    float64\n",
      " 7   Total_Credit_Cards   658 non-null    float64\n",
      " 8   Total_visits_bank    658 non-null    object \n",
      " 9   Total_visits_online  659 non-null    float64\n",
      " 10  Total_calls_made     659 non-null    object \n",
      "dtypes: float64(5), int64(1), object(5)\n",
      "memory usage: 56.8+ KB\n"
     ]
    }
   ],
   "source": [
    "# Revisar las características de los datos: completitud y tipo de dato\n",
    "datos.info()"
   ]
  },
  {
   "cell_type": "code",
   "execution_count": 228,
   "metadata": {},
   "outputs": [
    {
     "data": {
      "text/html": [
       "<div>\n",
       "<style scoped>\n",
       "    .dataframe tbody tr th:only-of-type {\n",
       "        vertical-align: middle;\n",
       "    }\n",
       "\n",
       "    .dataframe tbody tr th {\n",
       "        vertical-align: top;\n",
       "    }\n",
       "\n",
       "    .dataframe thead th {\n",
       "        text-align: right;\n",
       "    }\n",
       "</style>\n",
       "<table border=\"1\" class=\"dataframe\">\n",
       "  <thead>\n",
       "    <tr style=\"text-align: right;\">\n",
       "      <th></th>\n",
       "      <th>Id</th>\n",
       "      <th>Customer</th>\n",
       "      <th>Limit_bal</th>\n",
       "      <th>Age</th>\n",
       "      <th>Total_Credit_Cards</th>\n",
       "      <th>Total_visits_online</th>\n",
       "    </tr>\n",
       "  </thead>\n",
       "  <tbody>\n",
       "    <tr>\n",
       "      <th>count</th>\n",
       "      <td>660.000000</td>\n",
       "      <td>658.000000</td>\n",
       "      <td>659.000000</td>\n",
       "      <td>659.000000</td>\n",
       "      <td>6.580000e+02</td>\n",
       "      <td>659.000000</td>\n",
       "    </tr>\n",
       "    <tr>\n",
       "      <th>mean</th>\n",
       "      <td>330.500000</td>\n",
       "      <td>55180.056231</td>\n",
       "      <td>170000.000000</td>\n",
       "      <td>95.218513</td>\n",
       "      <td>1.876290e+05</td>\n",
       "      <td>2.602428</td>\n",
       "    </tr>\n",
       "    <tr>\n",
       "      <th>std</th>\n",
       "      <td>190.669872</td>\n",
       "      <td>25651.348197</td>\n",
       "      <td>129739.041329</td>\n",
       "      <td>1432.660847</td>\n",
       "      <td>4.812847e+06</td>\n",
       "      <td>2.936469</td>\n",
       "    </tr>\n",
       "    <tr>\n",
       "      <th>min</th>\n",
       "      <td>1.000000</td>\n",
       "      <td>11265.000000</td>\n",
       "      <td>10000.000000</td>\n",
       "      <td>21.000000</td>\n",
       "      <td>1.000000e+00</td>\n",
       "      <td>0.000000</td>\n",
       "    </tr>\n",
       "    <tr>\n",
       "      <th>25%</th>\n",
       "      <td>165.750000</td>\n",
       "      <td>33875.500000</td>\n",
       "      <td>50000.000000</td>\n",
       "      <td>28.000000</td>\n",
       "      <td>3.000000e+00</td>\n",
       "      <td>1.000000</td>\n",
       "    </tr>\n",
       "    <tr>\n",
       "      <th>50%</th>\n",
       "      <td>330.500000</td>\n",
       "      <td>53907.000000</td>\n",
       "      <td>140000.000000</td>\n",
       "      <td>33.000000</td>\n",
       "      <td>5.000000e+00</td>\n",
       "      <td>2.000000</td>\n",
       "    </tr>\n",
       "    <tr>\n",
       "      <th>75%</th>\n",
       "      <td>495.250000</td>\n",
       "      <td>77321.500000</td>\n",
       "      <td>240000.000000</td>\n",
       "      <td>41.000000</td>\n",
       "      <td>6.000000e+00</td>\n",
       "      <td>4.000000</td>\n",
       "    </tr>\n",
       "    <tr>\n",
       "      <th>max</th>\n",
       "      <td>660.000000</td>\n",
       "      <td>99843.000000</td>\n",
       "      <td>630000.000000</td>\n",
       "      <td>36745.000000</td>\n",
       "      <td>1.234568e+08</td>\n",
       "      <td>15.000000</td>\n",
       "    </tr>\n",
       "  </tbody>\n",
       "</table>\n",
       "</div>"
      ],
      "text/plain": [
       "               Id      Customer      Limit_bal           Age  \\\n",
       "count  660.000000    658.000000     659.000000    659.000000   \n",
       "mean   330.500000  55180.056231  170000.000000     95.218513   \n",
       "std    190.669872  25651.348197  129739.041329   1432.660847   \n",
       "min      1.000000  11265.000000   10000.000000     21.000000   \n",
       "25%    165.750000  33875.500000   50000.000000     28.000000   \n",
       "50%    330.500000  53907.000000  140000.000000     33.000000   \n",
       "75%    495.250000  77321.500000  240000.000000     41.000000   \n",
       "max    660.000000  99843.000000  630000.000000  36745.000000   \n",
       "\n",
       "       Total_Credit_Cards  Total_visits_online  \n",
       "count        6.580000e+02           659.000000  \n",
       "mean         1.876290e+05             2.602428  \n",
       "std          4.812847e+06             2.936469  \n",
       "min          1.000000e+00             0.000000  \n",
       "25%          3.000000e+00             1.000000  \n",
       "50%          5.000000e+00             2.000000  \n",
       "75%          6.000000e+00             4.000000  \n",
       "max          1.234568e+08            15.000000  "
      ]
     },
     "execution_count": 228,
     "metadata": {},
     "output_type": "execute_result"
    }
   ],
   "source": [
    "# Resumen de los estadisticos de las variables numéricas\n",
    "datos.describe()"
   ]
  },
  {
   "cell_type": "code",
   "execution_count": 229,
   "metadata": {},
   "outputs": [
    {
     "data": {
      "text/plain": [
       "Id                       int64\n",
       "Customer               float64\n",
       "Limit_bal              float64\n",
       "Sex                     object\n",
       "Education               object\n",
       "Marriage                object\n",
       "Age                    float64\n",
       "Total_Credit_Cards     float64\n",
       "Total_visits_bank       object\n",
       "Total_visits_online    float64\n",
       "Total_calls_made        object\n",
       "dtype: object"
      ]
     },
     "execution_count": 229,
     "metadata": {},
     "output_type": "execute_result"
    }
   ],
   "source": [
    "datos.dtypes"
   ]
  },
  {
   "cell_type": "markdown",
   "metadata": {},
   "source": [
    "# Limpieza de Datos"
   ]
  },
  {
   "cell_type": "code",
   "execution_count": 230,
   "metadata": {},
   "outputs": [
    {
     "data": {
      "text/html": [
       "<div>\n",
       "<style scoped>\n",
       "    .dataframe tbody tr th:only-of-type {\n",
       "        vertical-align: middle;\n",
       "    }\n",
       "\n",
       "    .dataframe tbody tr th {\n",
       "        vertical-align: top;\n",
       "    }\n",
       "\n",
       "    .dataframe thead th {\n",
       "        text-align: right;\n",
       "    }\n",
       "</style>\n",
       "<table border=\"1\" class=\"dataframe\">\n",
       "  <thead>\n",
       "    <tr style=\"text-align: right;\">\n",
       "      <th></th>\n",
       "      <th>Id</th>\n",
       "      <th>Customer</th>\n",
       "      <th>Limit_bal</th>\n",
       "      <th>Sex</th>\n",
       "      <th>Education</th>\n",
       "      <th>Marriage</th>\n",
       "      <th>Age</th>\n",
       "      <th>Total_Credit_Cards</th>\n",
       "      <th>Total_visits_bank</th>\n",
       "      <th>Total_visits_online</th>\n",
       "      <th>Total_calls_made</th>\n",
       "    </tr>\n",
       "  </thead>\n",
       "  <tbody>\n",
       "    <tr>\n",
       "      <th>0</th>\n",
       "      <td>1</td>\n",
       "      <td>87073.0</td>\n",
       "      <td>20000.0</td>\n",
       "      <td>Female</td>\n",
       "      <td>2</td>\n",
       "      <td>Married</td>\n",
       "      <td>24.0</td>\n",
       "      <td>2.0</td>\n",
       "      <td>1</td>\n",
       "      <td>1.0</td>\n",
       "      <td>0</td>\n",
       "    </tr>\n",
       "    <tr>\n",
       "      <th>1</th>\n",
       "      <td>2</td>\n",
       "      <td>38414.0</td>\n",
       "      <td>120000.0</td>\n",
       "      <td>Female</td>\n",
       "      <td>2</td>\n",
       "      <td>Single</td>\n",
       "      <td>26.0</td>\n",
       "      <td>3.0</td>\n",
       "      <td>0</td>\n",
       "      <td>10.0</td>\n",
       "      <td>9</td>\n",
       "    </tr>\n",
       "    <tr>\n",
       "      <th>2</th>\n",
       "      <td>3</td>\n",
       "      <td>17341.0</td>\n",
       "      <td>90000.0</td>\n",
       "      <td>Female</td>\n",
       "      <td>2</td>\n",
       "      <td>Single</td>\n",
       "      <td>34.0</td>\n",
       "      <td>7.0</td>\n",
       "      <td>1</td>\n",
       "      <td>3.0</td>\n",
       "      <td>4</td>\n",
       "    </tr>\n",
       "    <tr>\n",
       "      <th>3</th>\n",
       "      <td>4</td>\n",
       "      <td>40496.0</td>\n",
       "      <td>50000.0</td>\n",
       "      <td>Female</td>\n",
       "      <td>2</td>\n",
       "      <td>Married</td>\n",
       "      <td>37.0</td>\n",
       "      <td>5.0</td>\n",
       "      <td>1</td>\n",
       "      <td>1.0</td>\n",
       "      <td>?</td>\n",
       "    </tr>\n",
       "    <tr>\n",
       "      <th>4</th>\n",
       "      <td>5</td>\n",
       "      <td>47437.0</td>\n",
       "      <td>50000.0</td>\n",
       "      <td>Male</td>\n",
       "      <td>2</td>\n",
       "      <td>Married</td>\n",
       "      <td>57.0</td>\n",
       "      <td>6.0</td>\n",
       "      <td>0</td>\n",
       "      <td>12.0</td>\n",
       "      <td>3</td>\n",
       "    </tr>\n",
       "    <tr>\n",
       "      <th>...</th>\n",
       "      <td>...</td>\n",
       "      <td>...</td>\n",
       "      <td>...</td>\n",
       "      <td>...</td>\n",
       "      <td>...</td>\n",
       "      <td>...</td>\n",
       "      <td>...</td>\n",
       "      <td>...</td>\n",
       "      <td>...</td>\n",
       "      <td>...</td>\n",
       "      <td>...</td>\n",
       "    </tr>\n",
       "    <tr>\n",
       "      <th>655</th>\n",
       "      <td>656</td>\n",
       "      <td>51108.0</td>\n",
       "      <td>280000.0</td>\n",
       "      <td>Male</td>\n",
       "      <td>2</td>\n",
       "      <td>Married</td>\n",
       "      <td>39.0</td>\n",
       "      <td>10.0</td>\n",
       "      <td>1</td>\n",
       "      <td>10.0</td>\n",
       "      <td>0</td>\n",
       "    </tr>\n",
       "    <tr>\n",
       "      <th>656</th>\n",
       "      <td>657</td>\n",
       "      <td>60732.0</td>\n",
       "      <td>290000.0</td>\n",
       "      <td>Female</td>\n",
       "      <td>3</td>\n",
       "      <td>Single</td>\n",
       "      <td>27.0</td>\n",
       "      <td>10.0</td>\n",
       "      <td>1</td>\n",
       "      <td>13.0</td>\n",
       "      <td>2</td>\n",
       "    </tr>\n",
       "    <tr>\n",
       "      <th>657</th>\n",
       "      <td>658</td>\n",
       "      <td>53834.0</td>\n",
       "      <td>190000.0</td>\n",
       "      <td>Female</td>\n",
       "      <td>1</td>\n",
       "      <td>Single</td>\n",
       "      <td>28.0</td>\n",
       "      <td>8.0</td>\n",
       "      <td>1</td>\n",
       "      <td>9.0</td>\n",
       "      <td>1</td>\n",
       "    </tr>\n",
       "    <tr>\n",
       "      <th>658</th>\n",
       "      <td>659</td>\n",
       "      <td>80655.0</td>\n",
       "      <td>80000.0</td>\n",
       "      <td>Female</td>\n",
       "      <td>1</td>\n",
       "      <td>Single</td>\n",
       "      <td>23.0</td>\n",
       "      <td>10.0</td>\n",
       "      <td>1</td>\n",
       "      <td>15.0</td>\n",
       "      <td>0</td>\n",
       "    </tr>\n",
       "    <tr>\n",
       "      <th>659</th>\n",
       "      <td>660</td>\n",
       "      <td>80150.0</td>\n",
       "      <td>280000.0</td>\n",
       "      <td>Female</td>\n",
       "      <td>2</td>\n",
       "      <td>Single</td>\n",
       "      <td>28.0</td>\n",
       "      <td>9.0</td>\n",
       "      <td>0</td>\n",
       "      <td>12.0</td>\n",
       "      <td>2</td>\n",
       "    </tr>\n",
       "  </tbody>\n",
       "</table>\n",
       "<p>660 rows × 11 columns</p>\n",
       "</div>"
      ],
      "text/plain": [
       "      Id  Customer  Limit_bal     Sex Education Marriage   Age  \\\n",
       "0      1   87073.0    20000.0  Female         2  Married  24.0   \n",
       "1      2   38414.0   120000.0  Female         2   Single  26.0   \n",
       "2      3   17341.0    90000.0  Female         2   Single  34.0   \n",
       "3      4   40496.0    50000.0  Female         2  Married  37.0   \n",
       "4      5   47437.0    50000.0    Male         2  Married  57.0   \n",
       "..   ...       ...        ...     ...       ...      ...   ...   \n",
       "655  656   51108.0   280000.0    Male         2  Married  39.0   \n",
       "656  657   60732.0   290000.0  Female         3   Single  27.0   \n",
       "657  658   53834.0   190000.0  Female         1   Single  28.0   \n",
       "658  659   80655.0    80000.0  Female         1   Single  23.0   \n",
       "659  660   80150.0   280000.0  Female         2   Single  28.0   \n",
       "\n",
       "     Total_Credit_Cards Total_visits_bank  Total_visits_online  \\\n",
       "0                   2.0                 1                  1.0   \n",
       "1                   3.0                 0                 10.0   \n",
       "2                   7.0                 1                  3.0   \n",
       "3                   5.0                 1                  1.0   \n",
       "4                   6.0                 0                 12.0   \n",
       "..                  ...               ...                  ...   \n",
       "655                10.0                 1                 10.0   \n",
       "656                10.0                 1                 13.0   \n",
       "657                 8.0                 1                  9.0   \n",
       "658                10.0                 1                 15.0   \n",
       "659                 9.0                 0                 12.0   \n",
       "\n",
       "    Total_calls_made  \n",
       "0                  0  \n",
       "1                  9  \n",
       "2                  4  \n",
       "3                  ?  \n",
       "4                  3  \n",
       "..               ...  \n",
       "655                0  \n",
       "656                2  \n",
       "657                1  \n",
       "658                0  \n",
       "659                2  \n",
       "\n",
       "[660 rows x 11 columns]"
      ]
     },
     "execution_count": 230,
     "metadata": {},
     "output_type": "execute_result"
    }
   ],
   "source": [
    "datoslimpios = datos\n",
    "datoslimpios"
   ]
  },
  {
   "cell_type": "code",
   "execution_count": 231,
   "metadata": {
    "scrolled": true
   },
   "outputs": [],
   "source": [
    "for x in datoslimpios.columns:\n",
    "    datoslimpios.drop(datoslimpios.loc[datoslimpios[x]=='?'].index,inplace=True)"
   ]
  },
  {
   "cell_type": "code",
   "execution_count": 232,
   "metadata": {},
   "outputs": [],
   "source": [
    "datoslimpios[\"Sex\"]=datoslimpios.Sex.replace({'F':'Female','f':'Female','Femael':'Female','Fmale':'Female'})\n",
    "datoslimpios[\"Sex\"]=datoslimpios.Sex.replace({'M':'Male','Mael':'Male','M ':'Male'})\n",
    "datoslimpios.drop(datoslimpios.loc[datoslimpios[\"Sex\"]=='9'].index,inplace=True)"
   ]
  },
  {
   "cell_type": "code",
   "execution_count": 233,
   "metadata": {},
   "outputs": [],
   "source": [
    "datoslimpios[\"Education\"]=datoslimpios.Education.replace({'6':'5'})\n",
    "datoslimpios.drop(datoslimpios.loc[datoslimpios[\"Education\"]=='ABC'].index,inplace=True)"
   ]
  },
  {
   "cell_type": "code",
   "execution_count": 234,
   "metadata": {},
   "outputs": [],
   "source": [
    "datoslimpios.drop(datoslimpios.loc[datoslimpios[\"Marriage\"]=='1'].index,inplace=True)\n",
    "datoslimpios.drop(datoslimpios.loc[datoslimpios[\"Marriage\"]=='2'].index,inplace=True)\n",
    "datoslimpios.drop(datoslimpios.loc[datoslimpios[\"Marriage\"]=='0'].index,inplace=True)"
   ]
  },
  {
   "cell_type": "code",
   "execution_count": 235,
   "metadata": {},
   "outputs": [],
   "source": [
    "datoslimpios = datoslimpios.dropna()"
   ]
  },
  {
   "cell_type": "code",
   "execution_count": 236,
   "metadata": {},
   "outputs": [
    {
     "data": {
      "text/html": [
       "<div>\n",
       "<style scoped>\n",
       "    .dataframe tbody tr th:only-of-type {\n",
       "        vertical-align: middle;\n",
       "    }\n",
       "\n",
       "    .dataframe tbody tr th {\n",
       "        vertical-align: top;\n",
       "    }\n",
       "\n",
       "    .dataframe thead th {\n",
       "        text-align: right;\n",
       "    }\n",
       "</style>\n",
       "<table border=\"1\" class=\"dataframe\">\n",
       "  <thead>\n",
       "    <tr style=\"text-align: right;\">\n",
       "      <th></th>\n",
       "      <th>Id</th>\n",
       "      <th>Customer</th>\n",
       "      <th>Limit_bal</th>\n",
       "      <th>Sex</th>\n",
       "      <th>Education</th>\n",
       "      <th>Marriage</th>\n",
       "      <th>Age</th>\n",
       "      <th>Total_Credit_Cards</th>\n",
       "      <th>Total_visits_bank</th>\n",
       "      <th>Total_visits_online</th>\n",
       "      <th>Total_calls_made</th>\n",
       "    </tr>\n",
       "  </thead>\n",
       "  <tbody>\n",
       "    <tr>\n",
       "      <th>0</th>\n",
       "      <td>1</td>\n",
       "      <td>87073.0</td>\n",
       "      <td>20000.0</td>\n",
       "      <td>Female</td>\n",
       "      <td>2</td>\n",
       "      <td>Married</td>\n",
       "      <td>24.0</td>\n",
       "      <td>2.0</td>\n",
       "      <td>1</td>\n",
       "      <td>1.0</td>\n",
       "      <td>0</td>\n",
       "    </tr>\n",
       "    <tr>\n",
       "      <th>1</th>\n",
       "      <td>2</td>\n",
       "      <td>38414.0</td>\n",
       "      <td>120000.0</td>\n",
       "      <td>Female</td>\n",
       "      <td>2</td>\n",
       "      <td>Single</td>\n",
       "      <td>26.0</td>\n",
       "      <td>3.0</td>\n",
       "      <td>0</td>\n",
       "      <td>10.0</td>\n",
       "      <td>9</td>\n",
       "    </tr>\n",
       "    <tr>\n",
       "      <th>2</th>\n",
       "      <td>3</td>\n",
       "      <td>17341.0</td>\n",
       "      <td>90000.0</td>\n",
       "      <td>Female</td>\n",
       "      <td>2</td>\n",
       "      <td>Single</td>\n",
       "      <td>34.0</td>\n",
       "      <td>7.0</td>\n",
       "      <td>1</td>\n",
       "      <td>3.0</td>\n",
       "      <td>4</td>\n",
       "    </tr>\n",
       "    <tr>\n",
       "      <th>4</th>\n",
       "      <td>5</td>\n",
       "      <td>47437.0</td>\n",
       "      <td>50000.0</td>\n",
       "      <td>Male</td>\n",
       "      <td>2</td>\n",
       "      <td>Married</td>\n",
       "      <td>57.0</td>\n",
       "      <td>6.0</td>\n",
       "      <td>0</td>\n",
       "      <td>12.0</td>\n",
       "      <td>3</td>\n",
       "    </tr>\n",
       "    <tr>\n",
       "      <th>5</th>\n",
       "      <td>6</td>\n",
       "      <td>58634.0</td>\n",
       "      <td>50000.0</td>\n",
       "      <td>Male</td>\n",
       "      <td>1</td>\n",
       "      <td>Single</td>\n",
       "      <td>37.0</td>\n",
       "      <td>3.0</td>\n",
       "      <td>0</td>\n",
       "      <td>1.0</td>\n",
       "      <td>8</td>\n",
       "    </tr>\n",
       "    <tr>\n",
       "      <th>...</th>\n",
       "      <td>...</td>\n",
       "      <td>...</td>\n",
       "      <td>...</td>\n",
       "      <td>...</td>\n",
       "      <td>...</td>\n",
       "      <td>...</td>\n",
       "      <td>...</td>\n",
       "      <td>...</td>\n",
       "      <td>...</td>\n",
       "      <td>...</td>\n",
       "      <td>...</td>\n",
       "    </tr>\n",
       "    <tr>\n",
       "      <th>655</th>\n",
       "      <td>656</td>\n",
       "      <td>51108.0</td>\n",
       "      <td>280000.0</td>\n",
       "      <td>Male</td>\n",
       "      <td>2</td>\n",
       "      <td>Married</td>\n",
       "      <td>39.0</td>\n",
       "      <td>10.0</td>\n",
       "      <td>1</td>\n",
       "      <td>10.0</td>\n",
       "      <td>0</td>\n",
       "    </tr>\n",
       "    <tr>\n",
       "      <th>656</th>\n",
       "      <td>657</td>\n",
       "      <td>60732.0</td>\n",
       "      <td>290000.0</td>\n",
       "      <td>Female</td>\n",
       "      <td>3</td>\n",
       "      <td>Single</td>\n",
       "      <td>27.0</td>\n",
       "      <td>10.0</td>\n",
       "      <td>1</td>\n",
       "      <td>13.0</td>\n",
       "      <td>2</td>\n",
       "    </tr>\n",
       "    <tr>\n",
       "      <th>657</th>\n",
       "      <td>658</td>\n",
       "      <td>53834.0</td>\n",
       "      <td>190000.0</td>\n",
       "      <td>Female</td>\n",
       "      <td>1</td>\n",
       "      <td>Single</td>\n",
       "      <td>28.0</td>\n",
       "      <td>8.0</td>\n",
       "      <td>1</td>\n",
       "      <td>9.0</td>\n",
       "      <td>1</td>\n",
       "    </tr>\n",
       "    <tr>\n",
       "      <th>658</th>\n",
       "      <td>659</td>\n",
       "      <td>80655.0</td>\n",
       "      <td>80000.0</td>\n",
       "      <td>Female</td>\n",
       "      <td>1</td>\n",
       "      <td>Single</td>\n",
       "      <td>23.0</td>\n",
       "      <td>10.0</td>\n",
       "      <td>1</td>\n",
       "      <td>15.0</td>\n",
       "      <td>0</td>\n",
       "    </tr>\n",
       "    <tr>\n",
       "      <th>659</th>\n",
       "      <td>660</td>\n",
       "      <td>80150.0</td>\n",
       "      <td>280000.0</td>\n",
       "      <td>Female</td>\n",
       "      <td>2</td>\n",
       "      <td>Single</td>\n",
       "      <td>28.0</td>\n",
       "      <td>9.0</td>\n",
       "      <td>0</td>\n",
       "      <td>12.0</td>\n",
       "      <td>2</td>\n",
       "    </tr>\n",
       "  </tbody>\n",
       "</table>\n",
       "<p>642 rows × 11 columns</p>\n",
       "</div>"
      ],
      "text/plain": [
       "      Id  Customer  Limit_bal     Sex Education Marriage   Age  \\\n",
       "0      1   87073.0    20000.0  Female         2  Married  24.0   \n",
       "1      2   38414.0   120000.0  Female         2   Single  26.0   \n",
       "2      3   17341.0    90000.0  Female         2   Single  34.0   \n",
       "4      5   47437.0    50000.0    Male         2  Married  57.0   \n",
       "5      6   58634.0    50000.0    Male         1   Single  37.0   \n",
       "..   ...       ...        ...     ...       ...      ...   ...   \n",
       "655  656   51108.0   280000.0    Male         2  Married  39.0   \n",
       "656  657   60732.0   290000.0  Female         3   Single  27.0   \n",
       "657  658   53834.0   190000.0  Female         1   Single  28.0   \n",
       "658  659   80655.0    80000.0  Female         1   Single  23.0   \n",
       "659  660   80150.0   280000.0  Female         2   Single  28.0   \n",
       "\n",
       "     Total_Credit_Cards Total_visits_bank  Total_visits_online  \\\n",
       "0                   2.0                 1                  1.0   \n",
       "1                   3.0                 0                 10.0   \n",
       "2                   7.0                 1                  3.0   \n",
       "4                   6.0                 0                 12.0   \n",
       "5                   3.0                 0                  1.0   \n",
       "..                  ...               ...                  ...   \n",
       "655                10.0                 1                 10.0   \n",
       "656                10.0                 1                 13.0   \n",
       "657                 8.0                 1                  9.0   \n",
       "658                10.0                 1                 15.0   \n",
       "659                 9.0                 0                 12.0   \n",
       "\n",
       "    Total_calls_made  \n",
       "0                  0  \n",
       "1                  9  \n",
       "2                  4  \n",
       "4                  3  \n",
       "5                  8  \n",
       "..               ...  \n",
       "655                0  \n",
       "656                2  \n",
       "657                1  \n",
       "658                0  \n",
       "659                2  \n",
       "\n",
       "[642 rows x 11 columns]"
      ]
     },
     "execution_count": 236,
     "metadata": {},
     "output_type": "execute_result"
    }
   ],
   "source": [
    "datoslimpios"
   ]
  },
  {
   "cell_type": "code",
   "execution_count": 237,
   "metadata": {},
   "outputs": [],
   "source": [
    "#Restricciones\n",
    "\n",
    "datoslimpios = datoslimpios.drop(['Id'], axis=1)\n",
    "datoslimpios = datoslimpios.drop(['Customer'], axis=1)\n",
    "\n",
    "datoslimpios = datoslimpios[datoslimpios.Age < 100]\n",
    "datoslimpios = datoslimpios[datoslimpios.Age >= 21]\n",
    "\n",
    "datoslimpios = datoslimpios[datoslimpios.Total_Credit_Cards <= 10]\n"
   ]
  },
  {
   "cell_type": "code",
   "execution_count": 238,
   "metadata": {
    "scrolled": true
   },
   "outputs": [
    {
     "data": {
      "image/png": "[encoded data removed]",
      "text/plain": [
       "<Figure size 1440x720 with 1 Axes>"
      ]
     },
     "metadata": {},
     "output_type": "display_data"
    }
   ],
   "source": [
    "#Visualización de todas las variables numéricas\n",
    "fig=plt.figure(figsize=(20,10))\n",
    "ax = sns.boxplot(data=datoslimpios[\"Limit_bal\"])"
   ]
  },
  {
   "cell_type": "code",
   "execution_count": 239,
   "metadata": {},
   "outputs": [
    {
     "data": {
      "image/png": "[encoded data removed]",
      "text/plain": [
       "<Figure size 576x720 with 1 Axes>"
      ]
     },
     "metadata": {},
     "output_type": "display_data"
    }
   ],
   "source": [
    "#Visualización de todas las variables numéricas\n",
    "fig=plt.figure(figsize=(8,10))\n",
    "ax = sns.boxplot(data=datoslimpios[\"Age\"])"
   ]
  },
  {
   "cell_type": "code",
   "execution_count": 240,
   "metadata": {},
   "outputs": [
    {
     "data": {
      "image/png": "[encoded data removed]",
      "text/plain": [
       "<Figure size 1440x720 with 1 Axes>"
      ]
     },
     "metadata": {},
     "output_type": "display_data"
    }
   ],
   "source": [
    "#Visualización de todas las variables numéricas\n",
    "fig=plt.figure(figsize=(20,10))\n",
    "ax = sns.boxplot(data=datoslimpios[\"Total_Credit_Cards\"])"
   ]
  },
  {
   "cell_type": "code",
   "execution_count": 241,
   "metadata": {},
   "outputs": [
    {
     "data": {
      "image/png": "[encoded data removed]",
      "text/plain": [
       "<Figure size 1440x720 with 1 Axes>"
      ]
     },
     "metadata": {},
     "output_type": "display_data"
    }
   ],
   "source": [
    "#Visualización de todas las variables numéricas\n",
    "fig=plt.figure(figsize=(20,10))\n",
    "ax = sns.boxplot(data=datoslimpios[\"Total_visits_online\"])"
   ]
  },
  {
   "cell_type": "code",
   "execution_count": 242,
   "metadata": {},
   "outputs": [
    {
     "data": {
      "text/plain": [
       "Index(['Sex', 'Education', 'Marriage', 'Total_visits_bank',\n",
       "       'Total_calls_made'],\n",
       "      dtype='object')"
      ]
     },
     "execution_count": 242,
     "metadata": {},
     "output_type": "execute_result"
    }
   ],
   "source": [
    "# Explorar las variables que no son numéricas\n",
    "name_cols_non_number = datoslimpios.select_dtypes(include = ['object']).columns\n",
    "name_cols_non_number"
   ]
  },
  {
   "cell_type": "code",
   "execution_count": 243,
   "metadata": {},
   "outputs": [
    {
     "data": {
      "text/html": [
       "<div>\n",
       "<style scoped>\n",
       "    .dataframe tbody tr th:only-of-type {\n",
       "        vertical-align: middle;\n",
       "    }\n",
       "\n",
       "    .dataframe tbody tr th {\n",
       "        vertical-align: top;\n",
       "    }\n",
       "\n",
       "    .dataframe thead th {\n",
       "        text-align: right;\n",
       "    }\n",
       "</style>\n",
       "<table border=\"1\" class=\"dataframe\">\n",
       "  <thead>\n",
       "    <tr style=\"text-align: right;\">\n",
       "      <th></th>\n",
       "      <th>Sex</th>\n",
       "      <th>Education</th>\n",
       "      <th>Marriage</th>\n",
       "      <th>Total_visits_bank</th>\n",
       "      <th>Total_calls_made</th>\n",
       "    </tr>\n",
       "  </thead>\n",
       "  <tbody>\n",
       "    <tr>\n",
       "      <th>count</th>\n",
       "      <td>639</td>\n",
       "      <td>639</td>\n",
       "      <td>639</td>\n",
       "      <td>639</td>\n",
       "      <td>639</td>\n",
       "    </tr>\n",
       "    <tr>\n",
       "      <th>unique</th>\n",
       "      <td>2</td>\n",
       "      <td>5</td>\n",
       "      <td>3</td>\n",
       "      <td>6</td>\n",
       "      <td>11</td>\n",
       "    </tr>\n",
       "    <tr>\n",
       "      <th>top</th>\n",
       "      <td>Female</td>\n",
       "      <td>2</td>\n",
       "      <td>Single</td>\n",
       "      <td>2</td>\n",
       "      <td>4</td>\n",
       "    </tr>\n",
       "    <tr>\n",
       "      <th>freq</th>\n",
       "      <td>369</td>\n",
       "      <td>282</td>\n",
       "      <td>373</td>\n",
       "      <td>153</td>\n",
       "      <td>104</td>\n",
       "    </tr>\n",
       "  </tbody>\n",
       "</table>\n",
       "</div>"
      ],
      "text/plain": [
       "           Sex Education Marriage Total_visits_bank Total_calls_made\n",
       "count      639       639      639               639              639\n",
       "unique       2         5        3                 6               11\n",
       "top     Female         2   Single                 2                4\n",
       "freq       369       282      373               153              104"
      ]
     },
     "execution_count": 243,
     "metadata": {},
     "output_type": "execute_result"
    }
   ],
   "source": [
    "#Revisar el contenido de las variables que no son numéricas\n",
    "datoslimpios[name_cols_non_number].describe()"
   ]
  },
  {
   "cell_type": "code",
   "execution_count": 244,
   "metadata": {},
   "outputs": [
    {
     "data": {
      "text/html": [
       "<div>\n",
       "<style scoped>\n",
       "    .dataframe tbody tr th:only-of-type {\n",
       "        vertical-align: middle;\n",
       "    }\n",
       "\n",
       "    .dataframe tbody tr th {\n",
       "        vertical-align: top;\n",
       "    }\n",
       "\n",
       "    .dataframe thead th {\n",
       "        text-align: right;\n",
       "    }\n",
       "</style>\n",
       "<table border=\"1\" class=\"dataframe\">\n",
       "  <thead>\n",
       "    <tr style=\"text-align: right;\">\n",
       "      <th></th>\n",
       "      <th>Sex</th>\n",
       "      <th>Education</th>\n",
       "      <th>Marriage</th>\n",
       "      <th>Total_visits_bank</th>\n",
       "      <th>Total_calls_made</th>\n",
       "    </tr>\n",
       "  </thead>\n",
       "  <tbody>\n",
       "    <tr>\n",
       "      <th>430</th>\n",
       "      <td>Female</td>\n",
       "      <td>2</td>\n",
       "      <td>Single</td>\n",
       "      <td>4</td>\n",
       "      <td>0</td>\n",
       "    </tr>\n",
       "    <tr>\n",
       "      <th>283</th>\n",
       "      <td>Female</td>\n",
       "      <td>1</td>\n",
       "      <td>Single</td>\n",
       "      <td>3</td>\n",
       "      <td>0</td>\n",
       "    </tr>\n",
       "    <tr>\n",
       "      <th>586</th>\n",
       "      <td>Male</td>\n",
       "      <td>1</td>\n",
       "      <td>Married</td>\n",
       "      <td>3</td>\n",
       "      <td>2</td>\n",
       "    </tr>\n",
       "    <tr>\n",
       "      <th>497</th>\n",
       "      <td>Male</td>\n",
       "      <td>2</td>\n",
       "      <td>Single</td>\n",
       "      <td>2</td>\n",
       "      <td>2</td>\n",
       "    </tr>\n",
       "    <tr>\n",
       "      <th>401</th>\n",
       "      <td>Female</td>\n",
       "      <td>3</td>\n",
       "      <td>Others</td>\n",
       "      <td>4</td>\n",
       "      <td>3</td>\n",
       "    </tr>\n",
       "    <tr>\n",
       "      <th>627</th>\n",
       "      <td>Male</td>\n",
       "      <td>1</td>\n",
       "      <td>Married</td>\n",
       "      <td>0</td>\n",
       "      <td>1</td>\n",
       "    </tr>\n",
       "    <tr>\n",
       "      <th>443</th>\n",
       "      <td>Female</td>\n",
       "      <td>1</td>\n",
       "      <td>Single</td>\n",
       "      <td>5</td>\n",
       "      <td>3</td>\n",
       "    </tr>\n",
       "    <tr>\n",
       "      <th>210</th>\n",
       "      <td>Male</td>\n",
       "      <td>1</td>\n",
       "      <td>Single</td>\n",
       "      <td>1</td>\n",
       "      <td>6</td>\n",
       "    </tr>\n",
       "    <tr>\n",
       "      <th>393</th>\n",
       "      <td>Female</td>\n",
       "      <td>2</td>\n",
       "      <td>Single</td>\n",
       "      <td>2</td>\n",
       "      <td>1</td>\n",
       "    </tr>\n",
       "    <tr>\n",
       "      <th>262</th>\n",
       "      <td>Female</td>\n",
       "      <td>1</td>\n",
       "      <td>Married</td>\n",
       "      <td>4</td>\n",
       "      <td>1</td>\n",
       "    </tr>\n",
       "    <tr>\n",
       "      <th>489</th>\n",
       "      <td>Female</td>\n",
       "      <td>1</td>\n",
       "      <td>Married</td>\n",
       "      <td>5</td>\n",
       "      <td>1</td>\n",
       "    </tr>\n",
       "    <tr>\n",
       "      <th>37</th>\n",
       "      <td>Female</td>\n",
       "      <td>2</td>\n",
       "      <td>Single</td>\n",
       "      <td>0</td>\n",
       "      <td>6</td>\n",
       "    </tr>\n",
       "    <tr>\n",
       "      <th>44</th>\n",
       "      <td>Female</td>\n",
       "      <td>1</td>\n",
       "      <td>Single</td>\n",
       "      <td>2</td>\n",
       "      <td>5</td>\n",
       "    </tr>\n",
       "    <tr>\n",
       "      <th>647</th>\n",
       "      <td>Female</td>\n",
       "      <td>2</td>\n",
       "      <td>Single</td>\n",
       "      <td>0</td>\n",
       "      <td>2</td>\n",
       "    </tr>\n",
       "    <tr>\n",
       "      <th>206</th>\n",
       "      <td>Male</td>\n",
       "      <td>1</td>\n",
       "      <td>Married</td>\n",
       "      <td>1</td>\n",
       "      <td>4</td>\n",
       "    </tr>\n",
       "  </tbody>\n",
       "</table>\n",
       "</div>"
      ],
      "text/plain": [
       "        Sex Education Marriage Total_visits_bank Total_calls_made\n",
       "430  Female         2   Single                 4                0\n",
       "283  Female         1   Single                 3                0\n",
       "586    Male         1  Married                 3                2\n",
       "497    Male         2   Single                 2                2\n",
       "401  Female         3   Others                 4                3\n",
       "627    Male         1  Married                 0                1\n",
       "443  Female         1   Single                 5                3\n",
       "210    Male         1   Single                 1                6\n",
       "393  Female         2   Single                 2                1\n",
       "262  Female         1  Married                 4                1\n",
       "489  Female         1  Married                 5                1\n",
       "37   Female         2   Single                 0                6\n",
       "44   Female         1   Single                 2                5\n",
       "647  Female         2   Single                 0                2\n",
       "206    Male         1  Married                 1                4"
      ]
     },
     "execution_count": 244,
     "metadata": {},
     "output_type": "execute_result"
    }
   ],
   "source": [
    "#Consulto una muestra de datos para analizarlos mejor\n",
    "datos[name_cols_non_number].sample(15)"
   ]
  },
  {
   "cell_type": "markdown",
   "metadata": {},
   "source": [
    "## Iteración 1. Primer modelo"
   ]
  },
  {
   "cell_type": "markdown",
   "metadata": {},
   "source": [
    "### Identificaión de variables a utilizar"
   ]
  },
  {
   "cell_type": "code",
   "execution_count": 16,
   "metadata": {},
   "outputs": [],
   "source": [
    "#name_cols_number = df_tracks.select_dtypes(include = ['float', 'int64']).columns #Todas las numéricas\n",
    "#name_cols_number\n",
    "name_cols_number = ['duration_ms','loudness']"
   ]
  },
  {
   "cell_type": "markdown",
   "metadata": {},
   "source": [
    "### Prepararación de datos"
   ]
  },
  {
   "cell_type": "code",
   "execution_count": 17,
   "metadata": {},
   "outputs": [],
   "source": [
    "#TODO: Reemplazar los valores nulos por un valor diferente al contenido actual de las columnas, en este caso por un valor de -99\n",
    "\n"
   ]
  },
  {
   "cell_type": "code",
   "execution_count": 18,
   "metadata": {
    "collapsed": true
   },
   "outputs": [
    {
     "data": {
      "text/plain": [
       "<seaborn.axisgrid.PairGrid at 0x225469d3bb0>"
      ]
     },
     "execution_count": 18,
     "metadata": {},
     "output_type": "execute_result"
    },
    {
     "data": {
      "image/png": "[encoded data removed]",
      "text/plain": [
       "<Figure size 432x432 with 6 Axes>"
      ]
     },
     "metadata": {},
     "output_type": "display_data"
    }
   ],
   "source": [
    "# Ver si hay grupos naturales en los datos\n",
    "sns.pairplot(df_tracks_prep.dropna(), height=3,vars=['duration_ms','loudness'],kind='scatter')"
   ]
  },
  {
   "cell_type": "markdown",
   "metadata": {},
   "source": [
    "### Construcción el modelo"
   ]
  },
  {
   "cell_type": "code",
   "execution_count": 19,
   "metadata": {},
   "outputs": [],
   "source": [
    "# El negocio quiere que empecemos con calma, así que nos sugiere un clustering para obtener dos segmentos.\n",
    "kmeans = KMeans(n_clusters=2, random_state=0) \n",
    "kmeans = kmeans.fit(df_tracks_prep)"
   ]
  },
  {
   "cell_type": "code",
   "execution_count": 20,
   "metadata": {
    "collapsed": true
   },
   "outputs": [
    {
     "data": {
      "text/plain": [
       "array([[ 2.46467e+05, -1.06590e+01],\n",
       "       [ 1.57800e+05, -1.02550e+01],\n",
       "       [ 1.61990e+05, -8.10300e+00],\n",
       "       ...,\n",
       "       [ 1.91333e+05, -1.25960e+01],\n",
       "       [ 1.78759e+05, -8.47500e+00],\n",
       "       [ 1.24598e+05, -5.09400e+00]])"
      ]
     },
     "execution_count": 20,
     "metadata": {},
     "output_type": "execute_result"
    }
   ],
   "source": [
    "#Transformar arreglo el dataframe que trabajamos para aplicar funciones más adelante.\n",
    "cols_number = df_tracks_prep.to_numpy()\n",
    "cols_number"
   ]
  },
  {
   "cell_type": "code",
   "execution_count": 21,
   "metadata": {
    "collapsed": true
   },
   "outputs": [
    {
     "data": {
      "text/plain": [
       "array([0, 0, 0, ..., 0, 0, 0])"
      ]
     },
     "execution_count": 21,
     "metadata": {},
     "output_type": "execute_result"
    }
   ],
   "source": [
    "#Consultar el los labels del clúster asignado a cada fila \n",
    "kmeans.labels_"
   ]
  },
  {
   "cell_type": "markdown",
   "metadata": {},
   "source": [
    "### Visualización de resultados"
   ]
  },
  {
   "cell_type": "code",
   "execution_count": 22,
   "metadata": {
    "collapsed": true
   },
   "outputs": [
    {
     "data": {
      "image/png": "[encoded data removed]",
      "text/plain": [
       "<Figure size 864x576 with 1 Axes>"
      ]
     },
     "metadata": {},
     "output_type": "display_data"
    }
   ],
   "source": [
    "# Revisar la cantidad de registros en los clústeres resultado\n",
    "labels = kmeans.labels_\n",
    "df_tracks_prep['Cluster'] = labels\n",
    "\n",
    "cluster_distrib = df_tracks_prep['Cluster'].value_counts()\n",
    "\n",
    "fig=plt.figure(figsize=(12,8))\n",
    "sns.barplot(x=cluster_distrib.index, y=cluster_distrib.values, color='b');\n"
   ]
  },
  {
   "cell_type": "code",
   "execution_count": 23,
   "metadata": {
    "collapsed": true
   },
   "outputs": [
    {
     "data": {
      "text/html": [
       "<div>\n",
       "<style scoped>\n",
       "    .dataframe tbody tr th:only-of-type {\n",
       "        vertical-align: middle;\n",
       "    }\n",
       "\n",
       "    .dataframe tbody tr th {\n",
       "        vertical-align: top;\n",
       "    }\n",
       "\n",
       "    .dataframe thead th {\n",
       "        text-align: right;\n",
       "    }\n",
       "</style>\n",
       "<table border=\"1\" class=\"dataframe\">\n",
       "  <thead>\n",
       "    <tr style=\"text-align: right;\">\n",
       "      <th></th>\n",
       "      <th>duration_ms</th>\n",
       "      <th>loudness</th>\n",
       "    </tr>\n",
       "    <tr>\n",
       "      <th>Cluster</th>\n",
       "      <th></th>\n",
       "      <th></th>\n",
       "    </tr>\n",
       "  </thead>\n",
       "  <tbody>\n",
       "    <tr>\n",
       "      <th>0</th>\n",
       "      <td>99286</td>\n",
       "      <td>99286</td>\n",
       "    </tr>\n",
       "    <tr>\n",
       "      <th>1</th>\n",
       "      <td>714</td>\n",
       "      <td>714</td>\n",
       "    </tr>\n",
       "  </tbody>\n",
       "</table>\n",
       "</div>"
      ],
      "text/plain": [
       "         duration_ms  loudness\n",
       "Cluster                       \n",
       "0              99286     99286\n",
       "1                714       714"
      ]
     },
     "execution_count": 23,
     "metadata": {},
     "output_type": "execute_result"
    }
   ],
   "source": [
    "# Revisar el número exacto de elementos por clúster y las variables utilizadas.\n",
    "df_tracks_prep.groupby('Cluster').count()"
   ]
  },
  {
   "cell_type": "code",
   "execution_count": 24,
   "metadata": {
    "collapsed": true
   },
   "outputs": [
    {
     "data": {
      "image/png": "[encoded data removed]",
      "text/plain": [
       "<Figure size 432x288 with 1 Axes>"
      ]
     },
     "metadata": {},
     "output_type": "display_data"
    }
   ],
   "source": [
    "# Ver gráficamente los elementos de los diferentes clúster\n",
    "plt.scatter(cols_number[kmeans.labels_ == 0, 0], cols_number[kmeans.labels_ == 0, 1], s = 100, marker='v', c = 'red', label = 'Cluster 1')\n",
    "plt.scatter(cols_number[kmeans.labels_ == 1, 0], cols_number[kmeans.labels_ == 1, 1], s = 100, marker='o', c = 'blue', label = 'Cluster 2')\n",
    "\n",
    "plt.scatter(kmeans.cluster_centers_[:, 0], kmeans.cluster_centers_[:, 1], s = 100, c = 'yellow', label = 'Centroids')\n",
    "plt.title('Clusters of songs')\n",
    "plt.xlabel(name_cols_number[0])\n",
    "plt.ylabel(name_cols_number[1])\n",
    "plt.legend()\n",
    "plt.show()\n"
   ]
  },
  {
   "cell_type": "code",
   "execution_count": 25,
   "metadata": {
    "collapsed": true
   },
   "outputs": [
    {
     "name": "stdout",
     "output_type": "stream",
     "text": [
      "Centroides: [[ duration_ms   loudness ]] [[ 2.25943775e+05 -1.02105681e+01]\n",
      " [ 1.13247271e+06 -1.50707213e+01]]\n"
     ]
    }
   ],
   "source": [
    "# Revisemos los valores de los centroides de los clústeres generados\n",
    "print('Centroides: [[',name_cols_number[0], ' ' , name_cols_number[1], ']]', kmeans.cluster_centers_)"
   ]
  },
  {
   "cell_type": "markdown",
   "metadata": {},
   "source": [
    "## Iteración 2. Segundo modelo con mejoras a nivel de preparación de datos y configuración de hiper-parámetros "
   ]
  },
  {
   "cell_type": "markdown",
   "metadata": {},
   "source": [
    "### Preparación de datos"
   ]
  },
  {
   "cell_type": "code",
   "execution_count": 26,
   "metadata": {},
   "outputs": [],
   "source": [
    "#TODO: Aplicar métodos para normalizar y estandarizar los datos, uno a la vez y concluir\n",
    "\n",
    "mms = \n",
    "\n",
    "\n",
    "df_tracks_prep_norm = mms.fit_transform(df_tracks_prep.copy())\n",
    "saved_cols = df_tracks_prep.columns\n",
    "\n",
    "df_tracks_prep_norm = pd.DataFrame(df_tracks_prep_norm, columns =saved_cols)\n"
   ]
  },
  {
   "cell_type": "code",
   "execution_count": 27,
   "metadata": {
    "collapsed": true
   },
   "outputs": [
    {
     "data": {
      "text/html": [
       "<div>\n",
       "<style scoped>\n",
       "    .dataframe tbody tr th:only-of-type {\n",
       "        vertical-align: middle;\n",
       "    }\n",
       "\n",
       "    .dataframe tbody tr th {\n",
       "        vertical-align: top;\n",
       "    }\n",
       "\n",
       "    .dataframe thead th {\n",
       "        text-align: right;\n",
       "    }\n",
       "</style>\n",
       "<table border=\"1\" class=\"dataframe\">\n",
       "  <thead>\n",
       "    <tr style=\"text-align: right;\">\n",
       "      <th></th>\n",
       "      <th>duration_ms</th>\n",
       "      <th>loudness</th>\n",
       "      <th>Cluster</th>\n",
       "    </tr>\n",
       "  </thead>\n",
       "  <tbody>\n",
       "    <tr>\n",
       "      <th>count</th>\n",
       "      <td>100000.000000</td>\n",
       "      <td>100000.000000</td>\n",
       "      <td>100000.000000</td>\n",
       "    </tr>\n",
       "    <tr>\n",
       "      <th>mean</th>\n",
       "      <td>0.048920</td>\n",
       "      <td>0.873811</td>\n",
       "      <td>0.007140</td>\n",
       "    </tr>\n",
       "    <tr>\n",
       "      <th>std</th>\n",
       "      <td>0.026680</td>\n",
       "      <td>0.057469</td>\n",
       "      <td>0.084197</td>\n",
       "    </tr>\n",
       "    <tr>\n",
       "      <th>min</th>\n",
       "      <td>0.000000</td>\n",
       "      <td>0.000000</td>\n",
       "      <td>0.000000</td>\n",
       "    </tr>\n",
       "    <tr>\n",
       "      <th>25%</th>\n",
       "      <td>0.037205</td>\n",
       "      <td>0.848482</td>\n",
       "      <td>0.000000</td>\n",
       "    </tr>\n",
       "    <tr>\n",
       "      <th>50%</th>\n",
       "      <td>0.045423</td>\n",
       "      <td>0.884230</td>\n",
       "      <td>0.000000</td>\n",
       "    </tr>\n",
       "    <tr>\n",
       "      <th>75%</th>\n",
       "      <td>0.055793</td>\n",
       "      <td>0.911088</td>\n",
       "      <td>0.000000</td>\n",
       "    </tr>\n",
       "    <tr>\n",
       "      <th>max</th>\n",
       "      <td>1.000000</td>\n",
       "      <td>1.000000</td>\n",
       "      <td>1.000000</td>\n",
       "    </tr>\n",
       "  </tbody>\n",
       "</table>\n",
       "</div>"
      ],
      "text/plain": [
       "         duration_ms       loudness        Cluster\n",
       "count  100000.000000  100000.000000  100000.000000\n",
       "mean        0.048920       0.873811       0.007140\n",
       "std         0.026680       0.057469       0.084197\n",
       "min         0.000000       0.000000       0.000000\n",
       "25%         0.037205       0.848482       0.000000\n",
       "50%         0.045423       0.884230       0.000000\n",
       "75%         0.055793       0.911088       0.000000\n",
       "max         1.000000       1.000000       1.000000"
      ]
     },
     "execution_count": 27,
     "metadata": {},
     "output_type": "execute_result"
    }
   ],
   "source": [
    "# Mirar  los estadísticos y revisar el resultado de la normalización\n",
    "df_tracks_prep_norm.describe()"
   ]
  },
  {
   "cell_type": "markdown",
   "metadata": {},
   "source": [
    "### Encontrar el número óptimo de clústeres utilizando el método del codo"
   ]
  },
  {
   "cell_type": "code",
   "execution_count": 28,
   "metadata": {},
   "outputs": [],
   "source": [
    "def plot_distortion(data,\n",
    "                    k_min=1, \n",
    "                    k_max=11,\n",
    "                    ylabel = 'Distortion',\n",
    "                    xlabel = 'Number of clusters',\n",
    "                    title = 'Distortion Plot'):\n",
    "    '''\n",
    "    Graficar el codo de los clusters\n",
    "    \n",
    "    Parametros\n",
    "    ----------\n",
    "    data : np.array\n",
    "        El arreglo con los datos\n",
    "    k_min : int\n",
    "        Valor mínimo para k\n",
    "    k_max : int\n",
    "        Valor máximo para k\n",
    "    xlabel : string\n",
    "        La etiqueta del eje x\n",
    "    ylabel  string\n",
    "        La etiqueta del eje y    \n",
    "    title : string\n",
    "        El titulo de la gráfica  \n",
    "    '''\n",
    "    distortions = []\n",
    "    for i in range(k_min, k_max):\n",
    "        km = KMeans(n_clusters=i,\n",
    "                 init='k-means++',\n",
    "                 n_init=10,\n",
    "                 max_iter=300,\n",
    "                 random_state=0)\n",
    "        km.fit(data)\n",
    "        distortions.append(km.inertia_)\n",
    "    plt.plot(range(k_min,k_max), distortions, marker='o')\n",
    "    plt.xlabel(xlabel)\n",
    "    plt.ylabel(ylabel)\n",
    "    plt.show()"
   ]
  },
  {
   "cell_type": "code",
   "execution_count": 29,
   "metadata": {
    "collapsed": true
   },
   "outputs": [
    {
     "data": {
      "image/png": "[encoded data removed]",
      "text/plain": [
       "<Figure size 432x288 with 1 Axes>"
      ]
     },
     "metadata": {},
     "output_type": "display_data"
    }
   ],
   "source": [
    "plot_distortion(df_tracks_prep_norm,1,11)"
   ]
  },
  {
   "cell_type": "markdown",
   "metadata": {},
   "source": [
    "### Construicción el nuevo modelo con el número de clústeres obtenido"
   ]
  },
  {
   "cell_type": "code",
   "execution_count": 30,
   "metadata": {},
   "outputs": [],
   "source": [
    "#TODO: Completar de acuerdo con la gráfica el número de clusters\n",
    "N_clusters=\n",
    "kmeans2 = KMeans(n_clusters=N_clusters, random_state=0) \n",
    "kmeans2 = kmeans2.fit(df_tracks_prep_norm)\n"
   ]
  },
  {
   "cell_type": "markdown",
   "metadata": {},
   "source": [
    "### Vizualición de resultados"
   ]
  },
  {
   "cell_type": "code",
   "execution_count": 31,
   "metadata": {
    "collapsed": true
   },
   "outputs": [
    {
     "data": {
      "image/png": "[encoded data removed]",
      "text/plain": [
       "<Figure size 864x576 with 1 Axes>"
      ]
     },
     "metadata": {},
     "output_type": "display_data"
    }
   ],
   "source": [
    "# Revisar la cantidad de registros en los clústeres resultado\n",
    "labels = kmeans.labels_\n",
    "df_tracks_prep_norm['Cluster'] = labels\n",
    "\n",
    "cluster_distrib = df_tracks_prep_norm['Cluster'].value_counts()\n",
    "\n",
    "fig=plt.figure(figsize=(12,8))\n",
    "sns.barplot(x=cluster_distrib.index, y=cluster_distrib.values, color='b');\n"
   ]
  },
  {
   "cell_type": "code",
   "execution_count": 32,
   "metadata": {
    "collapsed": true
   },
   "outputs": [
    {
     "data": {
      "text/html": [
       "<div>\n",
       "<style scoped>\n",
       "    .dataframe tbody tr th:only-of-type {\n",
       "        vertical-align: middle;\n",
       "    }\n",
       "\n",
       "    .dataframe tbody tr th {\n",
       "        vertical-align: top;\n",
       "    }\n",
       "\n",
       "    .dataframe thead th {\n",
       "        text-align: right;\n",
       "    }\n",
       "</style>\n",
       "<table border=\"1\" class=\"dataframe\">\n",
       "  <thead>\n",
       "    <tr style=\"text-align: right;\">\n",
       "      <th></th>\n",
       "      <th>duration_ms</th>\n",
       "      <th>loudness</th>\n",
       "    </tr>\n",
       "    <tr>\n",
       "      <th>Cluster</th>\n",
       "      <th></th>\n",
       "      <th></th>\n",
       "    </tr>\n",
       "  </thead>\n",
       "  <tbody>\n",
       "    <tr>\n",
       "      <th>0</th>\n",
       "      <td>99286</td>\n",
       "      <td>99286</td>\n",
       "    </tr>\n",
       "    <tr>\n",
       "      <th>1</th>\n",
       "      <td>714</td>\n",
       "      <td>714</td>\n",
       "    </tr>\n",
       "  </tbody>\n",
       "</table>\n",
       "</div>"
      ],
      "text/plain": [
       "         duration_ms  loudness\n",
       "Cluster                       \n",
       "0              99286     99286\n",
       "1                714       714"
      ]
     },
     "execution_count": 32,
     "metadata": {},
     "output_type": "execute_result"
    }
   ],
   "source": [
    "# Revisar el número exacto de elementos por clúster y las variables utilizadas.\n",
    "df_tracks_prep_norm.groupby('Cluster').count()"
   ]
  },
  {
   "cell_type": "code",
   "execution_count": 33,
   "metadata": {
    "collapsed": true
   },
   "outputs": [
    {
     "data": {
      "text/plain": [
       "array([-10.659, -10.255,  -8.103, ..., -12.596,  -8.475,  -5.094])"
      ]
     },
     "execution_count": 33,
     "metadata": {},
     "output_type": "execute_result"
    }
   ],
   "source": [
    "# Consultamos algunos de los registros en el clúster 0.\n",
    "cols_number[kmeans2.labels_ == 0, len(name_cols_number)-1]"
   ]
  },
  {
   "cell_type": "code",
   "execution_count": 34,
   "metadata": {
    "collapsed": true
   },
   "outputs": [
    {
     "data": {
      "image/png": "[encoded data removed]",
      "text/plain": [
       "<Figure size 432x288 with 1 Axes>"
      ]
     },
     "metadata": {},
     "output_type": "display_data"
    }
   ],
   "source": [
    "# El análisis lo haremos por pareja de atributos, en este caso duration_ms y loudness\n",
    "plt.scatter(cols_number[kmeans2.labels_ == 0, 0], cols_number[kmeans2.labels_ == 0, 1], s = 100, marker='v', c = 'red', label = 'Cluster 1')\n",
    "plt.scatter(cols_number[kmeans2.labels_ == 1, 0], cols_number[kmeans2.labels_ == 1, 1], s = 100, marker='o', c = 'blue', label = 'Cluster 2')\n",
    "\n",
    "plt.scatter(kmeans2.cluster_centers_[:, 0], kmeans2.cluster_centers_[:, 1], s = 150, c = 'yellow', label = 'Centroids')\n",
    "plt.title('Clusters of songs')\n",
    "plt.xlabel(name_cols_number[0])\n",
    "plt.ylabel(name_cols_number[1])\n",
    "plt.legend()\n",
    "plt.show()\n"
   ]
  },
  {
   "cell_type": "code",
   "execution_count": 35,
   "metadata": {
    "collapsed": true
   },
   "outputs": [
    {
     "name": "stdout",
     "output_type": "stream",
     "text": [
      "Centroides: [[ duration_ms   loudness ]] [[ 4.75378172e-02  8.74152639e-01 -1.69222275e-15]\n",
      " [ 2.41133732e-01  8.26303299e-01  1.00000000e+00]]\n"
     ]
    }
   ],
   "source": [
    "# Revisemos los valores de los centroides de los clústeres generados\n",
    "print('Centroides: [[',name_cols_number[0], ' ' , name_cols_number[1], ']]', kmeans2.cluster_centers_)"
   ]
  },
  {
   "cell_type": "markdown",
   "metadata": {},
   "source": [
    "### Evaluación de la calidad de los clústeres obtenidos"
   ]
  },
  {
   "cell_type": "code",
   "execution_count": 36,
   "metadata": {},
   "outputs": [],
   "source": [
    "#Creamos una función basada en el concepto de silueta\n",
    "def plot_silhouette(data, \n",
    "                    labels,\n",
    "                   ylabel = 'Clústeres',\n",
    "                   xlabel = \"Silhouette coefficient\",\n",
    "                   title = 'Silhouette Plot'):\n",
    "    '''\n",
    "    Graficar la silueta de los clusters\n",
    "    \n",
    "    Parametros\n",
    "    ----------\n",
    "    data : np.array\n",
    "        El arreglo con los datos\n",
    "    labels : np.array\n",
    "        El arreglo con las etiquetas correspondientes\n",
    "    ylabel  string\n",
    "        La etiqueta del eje y\n",
    "    xlabel : string\n",
    "        La etiqueta del eje x\n",
    "    title : string\n",
    "        El titulo de la gráfica        \n",
    "    '''\n",
    "    cluster_labels = np.unique(labels)\n",
    "    print(cluster_labels)\n",
    "    n_clusters = cluster_labels.shape[0]\n",
    "    silhouette_vals = silhouette_samples(data,\n",
    "                                        labels,\n",
    "                                        metric='euclidean')\n",
    "    y_ax_lower, y_ax_upper = 0, 0\n",
    "    yticks = []\n",
    "    for i, c in enumerate(cluster_labels):\n",
    "        c_silhouette_vals = silhouette_vals[labels == c]\n",
    "        c_silhouette_vals.sort()\n",
    "        y_ax_upper += len(c_silhouette_vals)\n",
    "        color = cm.jet(float(i) / n_clusters)\n",
    "        plt.barh(range(y_ax_lower, y_ax_upper),\n",
    "                        c_silhouette_vals,\n",
    "                        height=1.0,\n",
    "                        edgecolor='none',\n",
    "                        color=color)\n",
    "        yticks.append((y_ax_lower + y_ax_upper) / 2.)\n",
    "        y_ax_lower += len(c_silhouette_vals)\n",
    "    silhouette_avg = np.mean(silhouette_vals)\n",
    "    plt.axvline(silhouette_avg,\n",
    "                color=\"red\",\n",
    "                linestyle=\"--\")\n",
    "    plt.yticks(yticks, cluster_labels+1)\n",
    "    plt.ylabel(ylabel)\n",
    "    plt.xlabel(xlabel)\n",
    "    plt.title(title)\n",
    "    plt.show()"
   ]
  },
  {
   "cell_type": "code",
   "execution_count": 37,
   "metadata": {
    "collapsed": true
   },
   "outputs": [
    {
     "name": "stdout",
     "output_type": "stream",
     "text": [
      "[0 1]\n"
     ]
    },
    {
     "data": {
      "image/png": "[encoded data removed]",
      "text/plain": [
       "<Figure size 432x288 with 1 Axes>"
      ]
     },
     "metadata": {},
     "output_type": "display_data"
    }
   ],
   "source": [
    "# Esta función puede tardar varios minutos\n",
    "plot_silhouette(data = df_tracks_prep_norm, \n",
    "                labels = kmeans2.labels_, \n",
    "                ylabel = 'Clustering with four clusters')"
   ]
  },
  {
   "cell_type": "markdown",
   "metadata": {},
   "source": [
    "## Iteración 3. Nuevo modelo con mejoras a nivel de preparación de datos \n"
   ]
  },
  {
   "cell_type": "markdown",
   "metadata": {},
   "source": [
    "### Identificación de las variables a utilizar "
   ]
  },
  {
   "cell_type": "code",
   "execution_count": 38,
   "metadata": {
    "collapsed": true
   },
   "outputs": [
    {
     "data": {
      "text/plain": [
       "id                   object\n",
       "name                 object\n",
       "popularity          float64\n",
       "duration_ms           int64\n",
       "explicit            float64\n",
       "artists              object\n",
       "id_artists           object\n",
       "release_date         object\n",
       "danceability        float64\n",
       "energy              float64\n",
       "loudness            float64\n",
       "mode                 object\n",
       "decibel_range       float64\n",
       "speechiness         float64\n",
       "acousticness        float64\n",
       "instrumentalness    float64\n",
       "liveness            float64\n",
       "valence             float64\n",
       "tempo               float64\n",
       "time_signature      float64\n",
       "first_artist         object\n",
       "second_artist        object\n",
       "dtype: object"
      ]
     },
     "execution_count": 38,
     "metadata": {},
     "output_type": "execute_result"
    }
   ],
   "source": [
    "df_tracks.dtypes"
   ]
  },
  {
   "cell_type": "code",
   "execution_count": 39,
   "metadata": {
    "collapsed": true
   },
   "outputs": [
    {
     "data": {
      "text/plain": [
       "Index(['duration_ms', 'loudness', 'release_date'], dtype='object')"
      ]
     },
     "execution_count": 39,
     "metadata": {},
     "output_type": "execute_result"
    }
   ],
   "source": [
    "# ¿Qué pasará si se incluyen todas las variables numéricas?  ¿Será fácil la interpretación?\n",
    "#name_cols_number = df_tracks.select_dtypes(include = ['float', 'int64']).columns\n",
    "#df_tracks_prep2['release_date'] = df_tracks['release_date']\n",
    "\n",
    "name_cols_number = ['duration_ms','loudness', 'release_date']\n",
    "df_tracks_prep3 = df_tracks[name_cols_number].copy()\n",
    "\n",
    "\n",
    "name_cols_iter3 = df_tracks_prep3.columns\n",
    "name_cols_iter3\n"
   ]
  },
  {
   "cell_type": "markdown",
   "metadata": {},
   "source": [
    "### Preparación de datos"
   ]
  },
  {
   "cell_type": "code",
   "execution_count": 40,
   "metadata": {
    "collapsed": true
   },
   "outputs": [
    {
     "data": {
      "text/plain": [
       "duration_ms     24972\n",
       "loudness        24972\n",
       "release_date    24952\n",
       "dtype: int64"
      ]
     },
     "execution_count": 40,
     "metadata": {},
     "output_type": "execute_result"
    }
   ],
   "source": [
    "# Propuesta: Eliminar datos atípicos, loudness < -12.805000\t De donde sale este valor de -12.805000?\n",
    "# ¿Cuantas filas se borrarían?\n",
    "\n",
    "\n",
    "df_tracks_prep3[df_tracks_prep3['loudness'] < -12.805000].count()\n"
   ]
  },
  {
   "cell_type": "code",
   "execution_count": 41,
   "metadata": {
    "collapsed": true
   },
   "outputs": [
    {
     "data": {
      "text/html": [
       "<div>\n",
       "<style scoped>\n",
       "    .dataframe tbody tr th:only-of-type {\n",
       "        vertical-align: middle;\n",
       "    }\n",
       "\n",
       "    .dataframe tbody tr th {\n",
       "        vertical-align: top;\n",
       "    }\n",
       "\n",
       "    .dataframe thead th {\n",
       "        text-align: right;\n",
       "    }\n",
       "</style>\n",
       "<table border=\"1\" class=\"dataframe\">\n",
       "  <thead>\n",
       "    <tr style=\"text-align: right;\">\n",
       "      <th></th>\n",
       "      <th>duration_ms</th>\n",
       "      <th>loudness</th>\n",
       "    </tr>\n",
       "  </thead>\n",
       "  <tbody>\n",
       "    <tr>\n",
       "      <th>count</th>\n",
       "      <td>7.492100e+04</td>\n",
       "      <td>74921.000000</td>\n",
       "    </tr>\n",
       "    <tr>\n",
       "      <th>mean</th>\n",
       "      <td>2.315753e+05</td>\n",
       "      <td>-7.840656</td>\n",
       "    </tr>\n",
       "    <tr>\n",
       "      <th>std</th>\n",
       "      <td>1.083432e+05</td>\n",
       "      <td>2.662826</td>\n",
       "    </tr>\n",
       "    <tr>\n",
       "      <th>min</th>\n",
       "      <td>1.037100e+04</td>\n",
       "      <td>-12.805000</td>\n",
       "    </tr>\n",
       "    <tr>\n",
       "      <th>25%</th>\n",
       "      <td>1.826000e+05</td>\n",
       "      <td>-9.985000</td>\n",
       "    </tr>\n",
       "    <tr>\n",
       "      <th>50%</th>\n",
       "      <td>2.194930e+05</td>\n",
       "      <td>-7.760000</td>\n",
       "    </tr>\n",
       "    <tr>\n",
       "      <th>75%</th>\n",
       "      <td>2.642930e+05</td>\n",
       "      <td>-5.791000</td>\n",
       "    </tr>\n",
       "    <tr>\n",
       "      <th>max</th>\n",
       "      <td>4.685927e+06</td>\n",
       "      <td>2.572000</td>\n",
       "    </tr>\n",
       "  </tbody>\n",
       "</table>\n",
       "</div>"
      ],
      "text/plain": [
       "        duration_ms      loudness\n",
       "count  7.492100e+04  74921.000000\n",
       "mean   2.315753e+05     -7.840656\n",
       "std    1.083432e+05      2.662826\n",
       "min    1.037100e+04    -12.805000\n",
       "25%    1.826000e+05     -9.985000\n",
       "50%    2.194930e+05     -7.760000\n",
       "75%    2.642930e+05     -5.791000\n",
       "max    4.685927e+06      2.572000"
      ]
     },
     "execution_count": 41,
     "metadata": {},
     "output_type": "execute_result"
    }
   ],
   "source": [
    "# TODO: Eliminar datos atípicos, loudness < -12.805000\t tu puedes hacer algo similar para duration_ms\n",
    "\n",
    "df_tracks_prep3 = \n",
    "df_tracks_prep3.describe()"
   ]
  },
  {
   "cell_type": "code",
   "execution_count": 42,
   "metadata": {
    "collapsed": true
   },
   "outputs": [
    {
     "data": {
      "text/plain": [
       "406044     Year 1969\n",
       "474252    2020-10-07\n",
       "236676    2001-03-26\n",
       "86411     2016-03-18\n",
       "474844    1980-01-02\n",
       "106148    1996-10-01\n",
       "129882     Year 1924\n",
       "546549    1996-01-01\n",
       "504678    1983-01-01\n",
       "424413    2007-01-01\n",
       "Name: release_date, dtype: object"
      ]
     },
     "execution_count": 42,
     "metadata": {},
     "output_type": "execute_result"
    }
   ],
   "source": [
    "# Nuestro experto insistió en incluir la información de fecha de lanzamiento, por lo cual vamos a revisar con mayor detalle esta variable\n",
    "# Del perfilamienteo recuerden que vimos que la variable release_date no tenía un formato estándar \n",
    "df_tracks_prep3.release_date.sample(10)"
   ]
  },
  {
   "cell_type": "code",
   "execution_count": 43,
   "metadata": {},
   "outputs": [],
   "source": [
    "# Acá podrás evidenciar el error que comentamos\n",
    "#df_tracks_prep3['release_date']= pd.to_datetime(df_tracks_prep3['release_date'].astype(str))"
   ]
  },
  {
   "cell_type": "code",
   "execution_count": 44,
   "metadata": {
    "collapsed": true
   },
   "outputs": [
    {
     "data": {
      "text/plain": [
       "244260   1995-07-06\n",
       "227549   1984-01-01\n",
       "11398           NaT\n",
       "177444   1985-05-13\n",
       "126488   1998-01-01\n",
       "282850   1996-11-28\n",
       "279762   1964-02-26\n",
       "110312   2010-01-01\n",
       "203097          NaT\n",
       "283999   2001-04-23\n",
       "547305   1965-09-28\n",
       "254567   2002-01-01\n",
       "50181           NaT\n",
       "296354   2015-10-30\n",
       "175371          NaT\n",
       "512439   2013-10-06\n",
       "209768   1996-03-01\n",
       "523695   1967-06-01\n",
       "466531   2020-10-23\n",
       "295149   2009-12-01\n",
       "420151          NaT\n",
       "124539   1975-11-22\n",
       "539175   2006-05-31\n",
       "64087    1991-12-19\n",
       "334918   2017-04-07\n",
       "46623    1973-04-13\n",
       "398039   1986-03-01\n",
       "520729   1982-12-01\n",
       "283826   2000-11-09\n",
       "58327           NaT\n",
       "42329    1969-07-05\n",
       "538731   2005-04-20\n",
       "557031   2011-07-02\n",
       "191184   1996-05-10\n",
       "271228   2017-10-04\n",
       "167969   2001-04-16\n",
       "302968   2007-09-06\n",
       "88721    2017-12-15\n",
       "429930   1994-04-18\n",
       "408082   2009-01-01\n",
       "564595   2006-09-29\n",
       "39181           NaT\n",
       "6373     1930-01-12\n",
       "290889   1984-11-05\n",
       "55006    1982-01-01\n",
       "416814   1959-03-31\n",
       "176828          NaT\n",
       "14599    1940-01-24\n",
       "152880   2016-04-12\n",
       "314631   2015-01-01\n",
       "Name: new_release_date, dtype: datetime64[ns]"
      ]
     },
     "execution_count": 44,
     "metadata": {},
     "output_type": "execute_result"
    }
   ],
   "source": [
    "# Nos preparamos para corregir el problema\n",
    "# Vamos a transformar a null las fechas con errores de formato. Piensa en otras opciones para mejorar esta transformación.\n",
    "df_tracks_prep3['new_release_date'] = pd.to_datetime(df_tracks_prep3.release_date, errors = 'coerce')\n",
    "df_tracks_prep3['new_release_date'].sample(50)"
   ]
  },
  {
   "cell_type": "code",
   "execution_count": 45,
   "metadata": {
    "collapsed": true
   },
   "outputs": [
    {
     "data": {
      "text/html": [
       "<div>\n",
       "<style scoped>\n",
       "    .dataframe tbody tr th:only-of-type {\n",
       "        vertical-align: middle;\n",
       "    }\n",
       "\n",
       "    .dataframe tbody tr th {\n",
       "        vertical-align: top;\n",
       "    }\n",
       "\n",
       "    .dataframe thead th {\n",
       "        text-align: right;\n",
       "    }\n",
       "</style>\n",
       "<table border=\"1\" class=\"dataframe\">\n",
       "  <thead>\n",
       "    <tr style=\"text-align: right;\">\n",
       "      <th></th>\n",
       "      <th>release_date</th>\n",
       "      <th>new_release_date</th>\n",
       "    </tr>\n",
       "  </thead>\n",
       "  <tbody>\n",
       "    <tr>\n",
       "      <th>543647</th>\n",
       "      <td>Year 2017</td>\n",
       "      <td>NaT</td>\n",
       "    </tr>\n",
       "    <tr>\n",
       "      <th>217407</th>\n",
       "      <td>Year 1985</td>\n",
       "      <td>NaT</td>\n",
       "    </tr>\n",
       "    <tr>\n",
       "      <th>146662</th>\n",
       "      <td>Year 1994</td>\n",
       "      <td>NaT</td>\n",
       "    </tr>\n",
       "    <tr>\n",
       "      <th>517589</th>\n",
       "      <td>Year 2004</td>\n",
       "      <td>NaT</td>\n",
       "    </tr>\n",
       "    <tr>\n",
       "      <th>288519</th>\n",
       "      <td>Year 1959</td>\n",
       "      <td>NaT</td>\n",
       "    </tr>\n",
       "    <tr>\n",
       "      <th>...</th>\n",
       "      <td>...</td>\n",
       "      <td>...</td>\n",
       "    </tr>\n",
       "    <tr>\n",
       "      <th>470012</th>\n",
       "      <td>Year 1969</td>\n",
       "      <td>NaT</td>\n",
       "    </tr>\n",
       "    <tr>\n",
       "      <th>460067</th>\n",
       "      <td>Year 1986</td>\n",
       "      <td>NaT</td>\n",
       "    </tr>\n",
       "    <tr>\n",
       "      <th>167936</th>\n",
       "      <td>Year 2001</td>\n",
       "      <td>NaT</td>\n",
       "    </tr>\n",
       "    <tr>\n",
       "      <th>1150</th>\n",
       "      <td>Year 1925</td>\n",
       "      <td>NaT</td>\n",
       "    </tr>\n",
       "    <tr>\n",
       "      <th>101744</th>\n",
       "      <td>Year 1986</td>\n",
       "      <td>NaT</td>\n",
       "    </tr>\n",
       "  </tbody>\n",
       "</table>\n",
       "<p>14923 rows × 2 columns</p>\n",
       "</div>"
      ],
      "text/plain": [
       "       release_date new_release_date\n",
       "543647    Year 2017              NaT\n",
       "217407    Year 1985              NaT\n",
       "146662    Year 1994              NaT\n",
       "517589    Year 2004              NaT\n",
       "288519    Year 1959              NaT\n",
       "...             ...              ...\n",
       "470012    Year 1969              NaT\n",
       "460067    Year 1986              NaT\n",
       "167936    Year 2001              NaT\n",
       "1150      Year 1925              NaT\n",
       "101744    Year 1986              NaT\n",
       "\n",
       "[14923 rows x 2 columns]"
      ]
     },
     "execution_count": 45,
     "metadata": {},
     "output_type": "execute_result"
    }
   ],
   "source": [
    "# Revisemos las fechas que tuvieron problema para su conversión y propongamos opciones de transformación\n",
    "# Veamos las variables release_date y new_release_date\n",
    "df_tracks_prep3.loc[df_tracks_prep3.new_release_date.isna(), ['release_date','new_release_date']] \n"
   ]
  },
  {
   "cell_type": "code",
   "execution_count": 46,
   "metadata": {
    "collapsed": true
   },
   "outputs": [
    {
     "data": {
      "text/html": [
       "<div>\n",
       "<style scoped>\n",
       "    .dataframe tbody tr th:only-of-type {\n",
       "        vertical-align: middle;\n",
       "    }\n",
       "\n",
       "    .dataframe tbody tr th {\n",
       "        vertical-align: top;\n",
       "    }\n",
       "\n",
       "    .dataframe thead th {\n",
       "        text-align: right;\n",
       "    }\n",
       "</style>\n",
       "<table border=\"1\" class=\"dataframe\">\n",
       "  <thead>\n",
       "    <tr style=\"text-align: right;\">\n",
       "      <th></th>\n",
       "      <th>release_date</th>\n",
       "      <th>new_release_date</th>\n",
       "    </tr>\n",
       "  </thead>\n",
       "  <tbody>\n",
       "    <tr>\n",
       "      <th>295028</th>\n",
       "      <td>Year 2009</td>\n",
       "      <td>2009-01-01</td>\n",
       "    </tr>\n",
       "    <tr>\n",
       "      <th>236266</th>\n",
       "      <td>1998-09-17</td>\n",
       "      <td>1998-09-17</td>\n",
       "    </tr>\n",
       "    <tr>\n",
       "      <th>338010</th>\n",
       "      <td>1990-01-01</td>\n",
       "      <td>1990-01-01</td>\n",
       "    </tr>\n",
       "    <tr>\n",
       "      <th>222395</th>\n",
       "      <td>2005-09-12</td>\n",
       "      <td>2005-09-12</td>\n",
       "    </tr>\n",
       "    <tr>\n",
       "      <th>563354</th>\n",
       "      <td>1997-11-12</td>\n",
       "      <td>1997-11-12</td>\n",
       "    </tr>\n",
       "    <tr>\n",
       "      <th>235634</th>\n",
       "      <td>1994-07-19</td>\n",
       "      <td>1994-07-19</td>\n",
       "    </tr>\n",
       "    <tr>\n",
       "      <th>59571</th>\n",
       "      <td>1987-08-31</td>\n",
       "      <td>1987-08-31</td>\n",
       "    </tr>\n",
       "    <tr>\n",
       "      <th>16092</th>\n",
       "      <td>1942-11-13</td>\n",
       "      <td>1942-11-13</td>\n",
       "    </tr>\n",
       "    <tr>\n",
       "      <th>301670</th>\n",
       "      <td>1998-11-09</td>\n",
       "      <td>1998-11-09</td>\n",
       "    </tr>\n",
       "    <tr>\n",
       "      <th>284823</th>\n",
       "      <td>2006-01-27</td>\n",
       "      <td>2006-01-27</td>\n",
       "    </tr>\n",
       "  </tbody>\n",
       "</table>\n",
       "</div>"
      ],
      "text/plain": [
       "       release_date new_release_date\n",
       "295028    Year 2009       2009-01-01\n",
       "236266   1998-09-17       1998-09-17\n",
       "338010   1990-01-01       1990-01-01\n",
       "222395   2005-09-12       2005-09-12\n",
       "563354   1997-11-12       1997-11-12\n",
       "235634   1994-07-19       1994-07-19\n",
       "59571    1987-08-31       1987-08-31\n",
       "16092    1942-11-13       1942-11-13\n",
       "301670   1998-11-09       1998-11-09\n",
       "284823   2006-01-27       2006-01-27"
      ]
     },
     "execution_count": 46,
     "metadata": {},
     "output_type": "execute_result"
    }
   ],
   "source": [
    "# Corregimos, eliminando la palabra Year\n",
    "new_dates = df_tracks_prep3.release_date[df_tracks_prep3.new_release_date.isna()]\n",
    "new_dates = new_dates.apply(lambda s: pd.to_datetime(str(s).replace('Year ','')))\n",
    "df_tracks_prep3.loc[df_tracks_prep3.new_release_date.isna(),'new_release_date'] = new_dates \n",
    "\n",
    "# Mirar resultados\n",
    "df_tracks_prep3[['release_date','new_release_date']].sample(10)"
   ]
  },
  {
   "cell_type": "code",
   "execution_count": 47,
   "metadata": {
    "collapsed": true
   },
   "outputs": [
    {
     "data": {
      "text/html": [
       "<div>\n",
       "<style scoped>\n",
       "    .dataframe tbody tr th:only-of-type {\n",
       "        vertical-align: middle;\n",
       "    }\n",
       "\n",
       "    .dataframe tbody tr th {\n",
       "        vertical-align: top;\n",
       "    }\n",
       "\n",
       "    .dataframe thead th {\n",
       "        text-align: right;\n",
       "    }\n",
       "</style>\n",
       "<table border=\"1\" class=\"dataframe\">\n",
       "  <thead>\n",
       "    <tr style=\"text-align: right;\">\n",
       "      <th></th>\n",
       "      <th>release_date</th>\n",
       "      <th>new_release_date</th>\n",
       "      <th>release_year</th>\n",
       "    </tr>\n",
       "  </thead>\n",
       "  <tbody>\n",
       "    <tr>\n",
       "      <th>511829</th>\n",
       "      <td>2011-08-10</td>\n",
       "      <td>2011-08-10</td>\n",
       "      <td>2011.0</td>\n",
       "    </tr>\n",
       "    <tr>\n",
       "      <th>418790</th>\n",
       "      <td>1978-01-05</td>\n",
       "      <td>1978-01-05</td>\n",
       "      <td>1978.0</td>\n",
       "    </tr>\n",
       "    <tr>\n",
       "      <th>404048</th>\n",
       "      <td>2013-11-29</td>\n",
       "      <td>2013-11-29</td>\n",
       "      <td>2013.0</td>\n",
       "    </tr>\n",
       "    <tr>\n",
       "      <th>343667</th>\n",
       "      <td>Year 1958</td>\n",
       "      <td>1958-01-01</td>\n",
       "      <td>1958.0</td>\n",
       "    </tr>\n",
       "    <tr>\n",
       "      <th>114385</th>\n",
       "      <td>1951-12-06</td>\n",
       "      <td>1951-12-06</td>\n",
       "      <td>1951.0</td>\n",
       "    </tr>\n",
       "    <tr>\n",
       "      <th>53295</th>\n",
       "      <td>Year 1980</td>\n",
       "      <td>1980-01-01</td>\n",
       "      <td>1980.0</td>\n",
       "    </tr>\n",
       "    <tr>\n",
       "      <th>435698</th>\n",
       "      <td>1995-01-01</td>\n",
       "      <td>1995-01-01</td>\n",
       "      <td>1995.0</td>\n",
       "    </tr>\n",
       "    <tr>\n",
       "      <th>555829</th>\n",
       "      <td>2002-08-01</td>\n",
       "      <td>2002-08-01</td>\n",
       "      <td>2002.0</td>\n",
       "    </tr>\n",
       "    <tr>\n",
       "      <th>185956</th>\n",
       "      <td>Year 1971</td>\n",
       "      <td>1971-01-01</td>\n",
       "      <td>1971.0</td>\n",
       "    </tr>\n",
       "    <tr>\n",
       "      <th>556918</th>\n",
       "      <td>2010-09-08</td>\n",
       "      <td>2010-09-08</td>\n",
       "      <td>2010.0</td>\n",
       "    </tr>\n",
       "    <tr>\n",
       "      <th>151911</th>\n",
       "      <td>2011-01-21</td>\n",
       "      <td>2011-01-21</td>\n",
       "      <td>2011.0</td>\n",
       "    </tr>\n",
       "    <tr>\n",
       "      <th>18410</th>\n",
       "      <td>Year 1945</td>\n",
       "      <td>1945-01-01</td>\n",
       "      <td>1945.0</td>\n",
       "    </tr>\n",
       "    <tr>\n",
       "      <th>328255</th>\n",
       "      <td>1959-09-01</td>\n",
       "      <td>1959-09-01</td>\n",
       "      <td>1959.0</td>\n",
       "    </tr>\n",
       "    <tr>\n",
       "      <th>104312</th>\n",
       "      <td>1992-01-01</td>\n",
       "      <td>1992-01-01</td>\n",
       "      <td>1992.0</td>\n",
       "    </tr>\n",
       "    <tr>\n",
       "      <th>149743</th>\n",
       "      <td>2002-01-04</td>\n",
       "      <td>2002-01-04</td>\n",
       "      <td>2002.0</td>\n",
       "    </tr>\n",
       "    <tr>\n",
       "      <th>151106</th>\n",
       "      <td>Year 2008</td>\n",
       "      <td>2008-01-01</td>\n",
       "      <td>2008.0</td>\n",
       "    </tr>\n",
       "    <tr>\n",
       "      <th>530150</th>\n",
       "      <td>1978-08-25</td>\n",
       "      <td>1978-08-25</td>\n",
       "      <td>1978.0</td>\n",
       "    </tr>\n",
       "    <tr>\n",
       "      <th>230756</th>\n",
       "      <td>2011-07-05</td>\n",
       "      <td>2011-07-05</td>\n",
       "      <td>2011.0</td>\n",
       "    </tr>\n",
       "    <tr>\n",
       "      <th>153021</th>\n",
       "      <td>2016-12-02</td>\n",
       "      <td>2016-12-02</td>\n",
       "      <td>2016.0</td>\n",
       "    </tr>\n",
       "    <tr>\n",
       "      <th>500265</th>\n",
       "      <td>1964-01-01</td>\n",
       "      <td>1964-01-01</td>\n",
       "      <td>1964.0</td>\n",
       "    </tr>\n",
       "    <tr>\n",
       "      <th>415267</th>\n",
       "      <td>2010-01-01</td>\n",
       "      <td>2010-01-01</td>\n",
       "      <td>2010.0</td>\n",
       "    </tr>\n",
       "    <tr>\n",
       "      <th>407706</th>\n",
       "      <td>2005-01-01</td>\n",
       "      <td>2005-01-01</td>\n",
       "      <td>2005.0</td>\n",
       "    </tr>\n",
       "    <tr>\n",
       "      <th>551690</th>\n",
       "      <td>2018-02-23</td>\n",
       "      <td>2018-02-23</td>\n",
       "      <td>2018.0</td>\n",
       "    </tr>\n",
       "    <tr>\n",
       "      <th>35360</th>\n",
       "      <td>Year 1962</td>\n",
       "      <td>1962-01-01</td>\n",
       "      <td>1962.0</td>\n",
       "    </tr>\n",
       "    <tr>\n",
       "      <th>214981</th>\n",
       "      <td>1973-01-01</td>\n",
       "      <td>1973-01-01</td>\n",
       "      <td>1973.0</td>\n",
       "    </tr>\n",
       "    <tr>\n",
       "      <th>510940</th>\n",
       "      <td>2008-02-28</td>\n",
       "      <td>2008-02-28</td>\n",
       "      <td>2008.0</td>\n",
       "    </tr>\n",
       "    <tr>\n",
       "      <th>326717</th>\n",
       "      <td>2016-06-21</td>\n",
       "      <td>2016-06-21</td>\n",
       "      <td>2016.0</td>\n",
       "    </tr>\n",
       "    <tr>\n",
       "      <th>325443</th>\n",
       "      <td>Year 2011</td>\n",
       "      <td>2011-01-01</td>\n",
       "      <td>2011.0</td>\n",
       "    </tr>\n",
       "    <tr>\n",
       "      <th>387342</th>\n",
       "      <td>2013-01-25</td>\n",
       "      <td>2013-01-25</td>\n",
       "      <td>2013.0</td>\n",
       "    </tr>\n",
       "    <tr>\n",
       "      <th>124773</th>\n",
       "      <td>1977-04-07</td>\n",
       "      <td>1977-04-07</td>\n",
       "      <td>1977.0</td>\n",
       "    </tr>\n",
       "    <tr>\n",
       "      <th>517789</th>\n",
       "      <td>2007-09-20</td>\n",
       "      <td>2007-09-20</td>\n",
       "      <td>2007.0</td>\n",
       "    </tr>\n",
       "    <tr>\n",
       "      <th>110084</th>\n",
       "      <td>2009-02-15</td>\n",
       "      <td>2009-02-15</td>\n",
       "      <td>2009.0</td>\n",
       "    </tr>\n",
       "    <tr>\n",
       "      <th>244340</th>\n",
       "      <td>1995-06-21</td>\n",
       "      <td>1995-06-21</td>\n",
       "      <td>1995.0</td>\n",
       "    </tr>\n",
       "    <tr>\n",
       "      <th>188483</th>\n",
       "      <td>1984-01-01</td>\n",
       "      <td>1984-01-01</td>\n",
       "      <td>1984.0</td>\n",
       "    </tr>\n",
       "    <tr>\n",
       "      <th>444624</th>\n",
       "      <td>2020-05-28</td>\n",
       "      <td>2020-05-28</td>\n",
       "      <td>2020.0</td>\n",
       "    </tr>\n",
       "    <tr>\n",
       "      <th>105364</th>\n",
       "      <td>1994-06-07</td>\n",
       "      <td>1994-06-07</td>\n",
       "      <td>1994.0</td>\n",
       "    </tr>\n",
       "    <tr>\n",
       "      <th>387371</th>\n",
       "      <td>2013-11-26</td>\n",
       "      <td>2013-11-26</td>\n",
       "      <td>2013.0</td>\n",
       "    </tr>\n",
       "    <tr>\n",
       "      <th>26155</th>\n",
       "      <td>1953-12-01</td>\n",
       "      <td>1953-12-01</td>\n",
       "      <td>1953.0</td>\n",
       "    </tr>\n",
       "    <tr>\n",
       "      <th>403094</th>\n",
       "      <td>2008-10-23</td>\n",
       "      <td>2008-10-23</td>\n",
       "      <td>2008.0</td>\n",
       "    </tr>\n",
       "    <tr>\n",
       "      <th>542612</th>\n",
       "      <td>2014-05-27</td>\n",
       "      <td>2014-05-27</td>\n",
       "      <td>2014.0</td>\n",
       "    </tr>\n",
       "    <tr>\n",
       "      <th>332429</th>\n",
       "      <td>1999-08-31</td>\n",
       "      <td>1999-08-31</td>\n",
       "      <td>1999.0</td>\n",
       "    </tr>\n",
       "    <tr>\n",
       "      <th>377957</th>\n",
       "      <td>2020-05-18</td>\n",
       "      <td>2020-05-18</td>\n",
       "      <td>2020.0</td>\n",
       "    </tr>\n",
       "    <tr>\n",
       "      <th>524132</th>\n",
       "      <td>1983-08-22</td>\n",
       "      <td>1983-08-22</td>\n",
       "      <td>1983.0</td>\n",
       "    </tr>\n",
       "    <tr>\n",
       "      <th>532733</th>\n",
       "      <td>Year 1989</td>\n",
       "      <td>1989-01-01</td>\n",
       "      <td>1989.0</td>\n",
       "    </tr>\n",
       "    <tr>\n",
       "      <th>445408</th>\n",
       "      <td>Year 1969</td>\n",
       "      <td>1969-01-01</td>\n",
       "      <td>1969.0</td>\n",
       "    </tr>\n",
       "    <tr>\n",
       "      <th>550937</th>\n",
       "      <td>2014-12-05</td>\n",
       "      <td>2014-12-05</td>\n",
       "      <td>2014.0</td>\n",
       "    </tr>\n",
       "    <tr>\n",
       "      <th>107309</th>\n",
       "      <td>1999-10-11</td>\n",
       "      <td>1999-10-11</td>\n",
       "      <td>1999.0</td>\n",
       "    </tr>\n",
       "    <tr>\n",
       "      <th>310912</th>\n",
       "      <td>1997-01-01</td>\n",
       "      <td>1997-01-01</td>\n",
       "      <td>1997.0</td>\n",
       "    </tr>\n",
       "    <tr>\n",
       "      <th>350286</th>\n",
       "      <td>2016-08-12</td>\n",
       "      <td>2016-08-12</td>\n",
       "      <td>2016.0</td>\n",
       "    </tr>\n",
       "    <tr>\n",
       "      <th>267535</th>\n",
       "      <td>2005-03-08</td>\n",
       "      <td>2005-03-08</td>\n",
       "      <td>2005.0</td>\n",
       "    </tr>\n",
       "  </tbody>\n",
       "</table>\n",
       "</div>"
      ],
      "text/plain": [
       "       release_date new_release_date  release_year\n",
       "511829   2011-08-10       2011-08-10        2011.0\n",
       "418790   1978-01-05       1978-01-05        1978.0\n",
       "404048   2013-11-29       2013-11-29        2013.0\n",
       "343667    Year 1958       1958-01-01        1958.0\n",
       "114385   1951-12-06       1951-12-06        1951.0\n",
       "53295     Year 1980       1980-01-01        1980.0\n",
       "435698   1995-01-01       1995-01-01        1995.0\n",
       "555829   2002-08-01       2002-08-01        2002.0\n",
       "185956    Year 1971       1971-01-01        1971.0\n",
       "556918   2010-09-08       2010-09-08        2010.0\n",
       "151911   2011-01-21       2011-01-21        2011.0\n",
       "18410     Year 1945       1945-01-01        1945.0\n",
       "328255   1959-09-01       1959-09-01        1959.0\n",
       "104312   1992-01-01       1992-01-01        1992.0\n",
       "149743   2002-01-04       2002-01-04        2002.0\n",
       "151106    Year 2008       2008-01-01        2008.0\n",
       "530150   1978-08-25       1978-08-25        1978.0\n",
       "230756   2011-07-05       2011-07-05        2011.0\n",
       "153021   2016-12-02       2016-12-02        2016.0\n",
       "500265   1964-01-01       1964-01-01        1964.0\n",
       "415267   2010-01-01       2010-01-01        2010.0\n",
       "407706   2005-01-01       2005-01-01        2005.0\n",
       "551690   2018-02-23       2018-02-23        2018.0\n",
       "35360     Year 1962       1962-01-01        1962.0\n",
       "214981   1973-01-01       1973-01-01        1973.0\n",
       "510940   2008-02-28       2008-02-28        2008.0\n",
       "326717   2016-06-21       2016-06-21        2016.0\n",
       "325443    Year 2011       2011-01-01        2011.0\n",
       "387342   2013-01-25       2013-01-25        2013.0\n",
       "124773   1977-04-07       1977-04-07        1977.0\n",
       "517789   2007-09-20       2007-09-20        2007.0\n",
       "110084   2009-02-15       2009-02-15        2009.0\n",
       "244340   1995-06-21       1995-06-21        1995.0\n",
       "188483   1984-01-01       1984-01-01        1984.0\n",
       "444624   2020-05-28       2020-05-28        2020.0\n",
       "105364   1994-06-07       1994-06-07        1994.0\n",
       "387371   2013-11-26       2013-11-26        2013.0\n",
       "26155    1953-12-01       1953-12-01        1953.0\n",
       "403094   2008-10-23       2008-10-23        2008.0\n",
       "542612   2014-05-27       2014-05-27        2014.0\n",
       "332429   1999-08-31       1999-08-31        1999.0\n",
       "377957   2020-05-18       2020-05-18        2020.0\n",
       "524132   1983-08-22       1983-08-22        1983.0\n",
       "532733    Year 1989       1989-01-01        1989.0\n",
       "445408    Year 1969       1969-01-01        1969.0\n",
       "550937   2014-12-05       2014-12-05        2014.0\n",
       "107309   1999-10-11       1999-10-11        1999.0\n",
       "310912   1997-01-01       1997-01-01        1997.0\n",
       "350286   2016-08-12       2016-08-12        2016.0\n",
       "267535   2005-03-08       2005-03-08        2005.0"
      ]
     },
     "execution_count": 47,
     "metadata": {},
     "output_type": "execute_result"
    }
   ],
   "source": [
    "# De la nueva columna, podemos extraer otras columnas como año y dias transcurridos desde el lanzamiento de la canción\n",
    "df_tracks_prep3['release_year'] = df_tracks_prep3.new_release_date.dt.year\n",
    "df_tracks_prep3[['release_date','new_release_date','release_year']].sample(50)"
   ]
  },
  {
   "cell_type": "code",
   "execution_count": 48,
   "metadata": {
    "collapsed": true
   },
   "outputs": [
    {
     "data": {
      "text/html": [
       "<div>\n",
       "<style scoped>\n",
       "    .dataframe tbody tr th:only-of-type {\n",
       "        vertical-align: middle;\n",
       "    }\n",
       "\n",
       "    .dataframe tbody tr th {\n",
       "        vertical-align: top;\n",
       "    }\n",
       "\n",
       "    .dataframe thead th {\n",
       "        text-align: right;\n",
       "    }\n",
       "</style>\n",
       "<table border=\"1\" class=\"dataframe\">\n",
       "  <thead>\n",
       "    <tr style=\"text-align: right;\">\n",
       "      <th></th>\n",
       "      <th>release_date</th>\n",
       "      <th>new_release_date</th>\n",
       "      <th>release_year</th>\n",
       "      <th>days_since_released</th>\n",
       "    </tr>\n",
       "  </thead>\n",
       "  <tbody>\n",
       "    <tr>\n",
       "      <th>472542</th>\n",
       "      <td>Year 2005</td>\n",
       "      <td>2005-01-01</td>\n",
       "      <td>2005.0</td>\n",
       "      <td>6093.0</td>\n",
       "    </tr>\n",
       "    <tr>\n",
       "      <th>431190</th>\n",
       "      <td>2006-01-01</td>\n",
       "      <td>2006-01-01</td>\n",
       "      <td>2006.0</td>\n",
       "      <td>5728.0</td>\n",
       "    </tr>\n",
       "    <tr>\n",
       "      <th>164315</th>\n",
       "      <td>1992-09-25</td>\n",
       "      <td>1992-09-25</td>\n",
       "      <td>1992.0</td>\n",
       "      <td>10574.0</td>\n",
       "    </tr>\n",
       "    <tr>\n",
       "      <th>414367</th>\n",
       "      <td>2002-08-20</td>\n",
       "      <td>2002-08-20</td>\n",
       "      <td>2002.0</td>\n",
       "      <td>6958.0</td>\n",
       "    </tr>\n",
       "    <tr>\n",
       "      <th>188595</th>\n",
       "      <td>1985-01-01</td>\n",
       "      <td>1985-01-01</td>\n",
       "      <td>1985.0</td>\n",
       "      <td>13398.0</td>\n",
       "    </tr>\n",
       "    <tr>\n",
       "      <th>397555</th>\n",
       "      <td>1983-05-01</td>\n",
       "      <td>1983-05-01</td>\n",
       "      <td>1983.0</td>\n",
       "      <td>14009.0</td>\n",
       "    </tr>\n",
       "    <tr>\n",
       "      <th>137319</th>\n",
       "      <td>1966-04-12</td>\n",
       "      <td>1966-04-12</td>\n",
       "      <td>1966.0</td>\n",
       "      <td>20237.0</td>\n",
       "    </tr>\n",
       "    <tr>\n",
       "      <th>425302</th>\n",
       "      <td>2012-07-10</td>\n",
       "      <td>2012-07-10</td>\n",
       "      <td>2012.0</td>\n",
       "      <td>3346.0</td>\n",
       "    </tr>\n",
       "    <tr>\n",
       "      <th>277647</th>\n",
       "      <td>2014-04-21</td>\n",
       "      <td>2014-04-21</td>\n",
       "      <td>2014.0</td>\n",
       "      <td>2696.0</td>\n",
       "    </tr>\n",
       "    <tr>\n",
       "      <th>131106</th>\n",
       "      <td>Year 1931</td>\n",
       "      <td>1931-01-01</td>\n",
       "      <td>1931.0</td>\n",
       "      <td>33122.0</td>\n",
       "    </tr>\n",
       "  </tbody>\n",
       "</table>\n",
       "</div>"
      ],
      "text/plain": [
       "       release_date new_release_date  release_year  days_since_released\n",
       "472542    Year 2005       2005-01-01        2005.0               6093.0\n",
       "431190   2006-01-01       2006-01-01        2006.0               5728.0\n",
       "164315   1992-09-25       1992-09-25        1992.0              10574.0\n",
       "414367   2002-08-20       2002-08-20        2002.0               6958.0\n",
       "188595   1985-01-01       1985-01-01        1985.0              13398.0\n",
       "397555   1983-05-01       1983-05-01        1983.0              14009.0\n",
       "137319   1966-04-12       1966-04-12        1966.0              20237.0\n",
       "425302   2012-07-10       2012-07-10        2012.0               3346.0\n",
       "277647   2014-04-21       2014-04-21        2014.0               2696.0\n",
       "131106    Year 1931       1931-01-01        1931.0              33122.0"
      ]
     },
     "execution_count": 48,
     "metadata": {},
     "output_type": "execute_result"
    }
   ],
   "source": [
    "# TODO: realizar el ejercicio\n",
    "today = \n",
    "df_tracks_prep3['days_since_released'] = \n",
    "df_tracks_prep3[['release_date','new_release_date','release_year','days_since_released']].sample(10)"
   ]
  },
  {
   "cell_type": "code",
   "execution_count": 49,
   "metadata": {
    "collapsed": true
   },
   "outputs": [
    {
     "data": {
      "text/html": [
       "<div>\n",
       "<style scoped>\n",
       "    .dataframe tbody tr th:only-of-type {\n",
       "        vertical-align: middle;\n",
       "    }\n",
       "\n",
       "    .dataframe tbody tr th {\n",
       "        vertical-align: top;\n",
       "    }\n",
       "\n",
       "    .dataframe thead th {\n",
       "        text-align: right;\n",
       "    }\n",
       "</style>\n",
       "<table border=\"1\" class=\"dataframe\">\n",
       "  <thead>\n",
       "    <tr style=\"text-align: right;\">\n",
       "      <th></th>\n",
       "      <th>duration_ms</th>\n",
       "      <th>loudness</th>\n",
       "      <th>release_year</th>\n",
       "      <th>days_since_released</th>\n",
       "    </tr>\n",
       "  </thead>\n",
       "  <tbody>\n",
       "    <tr>\n",
       "      <th>count</th>\n",
       "      <td>7.492100e+04</td>\n",
       "      <td>74921.000000</td>\n",
       "      <td>74852.000000</td>\n",
       "      <td>74852.000000</td>\n",
       "    </tr>\n",
       "    <tr>\n",
       "      <th>mean</th>\n",
       "      <td>2.315753e+05</td>\n",
       "      <td>-7.840656</td>\n",
       "      <td>1993.519973</td>\n",
       "      <td>10164.431679</td>\n",
       "    </tr>\n",
       "    <tr>\n",
       "      <th>std</th>\n",
       "      <td>1.083432e+05</td>\n",
       "      <td>2.662826</td>\n",
       "      <td>20.930628</td>\n",
       "      <td>7676.793674</td>\n",
       "    </tr>\n",
       "    <tr>\n",
       "      <th>min</th>\n",
       "      <td>1.037100e+04</td>\n",
       "      <td>-12.805000</td>\n",
       "      <td>1922.000000</td>\n",
       "      <td>144.000000</td>\n",
       "    </tr>\n",
       "    <tr>\n",
       "      <th>25%</th>\n",
       "      <td>1.826000e+05</td>\n",
       "      <td>-9.985000</td>\n",
       "      <td>1981.000000</td>\n",
       "      <td>3902.000000</td>\n",
       "    </tr>\n",
       "    <tr>\n",
       "      <th>50%</th>\n",
       "      <td>2.194930e+05</td>\n",
       "      <td>-7.760000</td>\n",
       "      <td>1998.000000</td>\n",
       "      <td>8650.000000</td>\n",
       "    </tr>\n",
       "    <tr>\n",
       "      <th>75%</th>\n",
       "      <td>2.642930e+05</td>\n",
       "      <td>-5.791000</td>\n",
       "      <td>2011.000000</td>\n",
       "      <td>14859.000000</td>\n",
       "    </tr>\n",
       "    <tr>\n",
       "      <th>max</th>\n",
       "      <td>4.685927e+06</td>\n",
       "      <td>2.572000</td>\n",
       "      <td>2021.000000</td>\n",
       "      <td>36409.000000</td>\n",
       "    </tr>\n",
       "  </tbody>\n",
       "</table>\n",
       "</div>"
      ],
      "text/plain": [
       "        duration_ms      loudness  release_year  days_since_released\n",
       "count  7.492100e+04  74921.000000  74852.000000         74852.000000\n",
       "mean   2.315753e+05     -7.840656   1993.519973         10164.431679\n",
       "std    1.083432e+05      2.662826     20.930628          7676.793674\n",
       "min    1.037100e+04    -12.805000   1922.000000           144.000000\n",
       "25%    1.826000e+05     -9.985000   1981.000000          3902.000000\n",
       "50%    2.194930e+05     -7.760000   1998.000000          8650.000000\n",
       "75%    2.642930e+05     -5.791000   2011.000000         14859.000000\n",
       "max    4.685927e+06      2.572000   2021.000000         36409.000000"
      ]
     },
     "execution_count": 49,
     "metadata": {},
     "output_type": "execute_result"
    }
   ],
   "source": [
    "# Revisamos de nuevo las columnas para identificar las que usaremos en el modelo\n",
    "df_tracks_prep3.describe()"
   ]
  },
  {
   "cell_type": "code",
   "execution_count": 50,
   "metadata": {
    "collapsed": true
   },
   "outputs": [
    {
     "data": {
      "text/plain": [
       "duration_ms                     int64\n",
       "loudness                      float64\n",
       "release_date                   object\n",
       "new_release_date       datetime64[ns]\n",
       "release_year                  float64\n",
       "days_since_released           float64\n",
       "dtype: object"
      ]
     },
     "execution_count": 50,
     "metadata": {},
     "output_type": "execute_result"
    }
   ],
   "source": [
    "# Revisamos de nuevo los tipos de datos de las columnas para identificar las que usaremos en el modelo\n",
    "df_tracks_prep3.dtypes"
   ]
  },
  {
   "cell_type": "code",
   "execution_count": 51,
   "metadata": {},
   "outputs": [],
   "source": [
    "# Trabajaremos con release_year como columna adicional, ¿que tal incluir la de days_since_released?\n",
    "name_cols_number = ['duration_ms', 'loudness', 'release_year']"
   ]
  },
  {
   "cell_type": "code",
   "execution_count": 52,
   "metadata": {
    "collapsed": true
   },
   "outputs": [
    {
     "data": {
      "text/plain": [
       "duration_ms       int64\n",
       "loudness        float64\n",
       "release_year    float64\n",
       "dtype: object"
      ]
     },
     "execution_count": 52,
     "metadata": {},
     "output_type": "execute_result"
    }
   ],
   "source": [
    "#TODO: Recordemos que debemos ajustar los valores nulos en las nuevas variables\n",
    "df_tracks_prep3=\n",
    "\n",
    "df_tracks_prep3.dtypes"
   ]
  },
  {
   "cell_type": "code",
   "execution_count": 53,
   "metadata": {},
   "outputs": [],
   "source": [
    "#TODO: Recordemos que debemos normalizar los datos\n",
    "mms = \n",
    "\n",
    "df_tracks_prep_norm3 = mms.fit_transform(df_tracks_prep3.copy())\n",
    "saved_cols = df_tracks_prep3.columns\n",
    "\n",
    "df_tracks_prep_norm3 = pd.DataFrame(df_tracks_prep_norm3, columns =saved_cols)\n"
   ]
  },
  {
   "cell_type": "markdown",
   "metadata": {},
   "source": [
    "### Determinación de el \"mejor\" número de clúster "
   ]
  },
  {
   "cell_type": "code",
   "execution_count": 54,
   "metadata": {
    "collapsed": true
   },
   "outputs": [
    {
     "data": {
      "image/png": "[encoded data removed]",
      "text/plain": [
       "<Figure size 432x288 with 1 Axes>"
      ]
     },
     "metadata": {},
     "output_type": "display_data"
    }
   ],
   "source": [
    "plot_distortion(df_tracks_prep_norm3,1,20)"
   ]
  },
  {
   "cell_type": "code",
   "execution_count": 55,
   "metadata": {},
   "outputs": [],
   "source": [
    "# Identificar el valor de K, utilizando ahora el valor de la silueta\n",
    "\n",
    "def plot_selectK_silhoute(data,\n",
    "                    k_min=1, \n",
    "                    k_max=11,\n",
    "                    ylabel = 'Silhouette Coefficient',\n",
    "                    xlabel = 'Number of clusters',\n",
    "                    style = 'fivethirtyeight'):\n",
    "    '''\n",
    "    Graficar el codo de los clusters\n",
    "    \n",
    "    Parametros\n",
    "    ----------\n",
    "    data : np.array\n",
    "        El arreglo con los datos\n",
    "    k_min : int\n",
    "        Valor mínimo para k\n",
    "    k_max : int\n",
    "        Valor máximo para k\n",
    "    xlabel : string\n",
    "        La etiqueta del eje x\n",
    "    ylabel  string\n",
    "        La etiqueta del eje y    \n",
    "    title : string\n",
    "        El titulo de la gráfica  \n",
    "    '''\n",
    "    # Crear una lista para almacenar los coeficientes de la silueta para cada valor de k analizado\n",
    "\n",
    "    silhouette_coefficients = []\n",
    "\n",
    "    # Notice you start at 2 clusters for silhouette coefficient\n",
    "    for k in range(k_min, k_max):\n",
    "        kmeans = KMeans(n_clusters=k, random_state=0)\n",
    "        kmeans.fit(data)\n",
    "        score = silhouette_score(data, kmeans.labels_)\n",
    "        silhouette_coefficients.append(score)\n",
    "    plt.style.use(style)\n",
    "    plt.plot(range(k_min, k_max), silhouette_coefficients)\n",
    "    plt.xticks(range(k_min, k_max))\n",
    "    plt.xlabel(xlabel)\n",
    "    plt.ylabel(ylabel)\n",
    "    plt.show()    "
   ]
  },
  {
   "cell_type": "code",
   "execution_count": 56,
   "metadata": {
    "collapsed": true
   },
   "outputs": [
    {
     "data": {
      "image/png": "[encoded data removed]",
      "text/plain": [
       "<Figure size 432x288 with 1 Axes>"
      ]
     },
     "metadata": {},
     "output_type": "display_data"
    }
   ],
   "source": [
    "# Esta función puede tomar bastantes minutos!!!\n",
    "plot_selectK_silhoute(df_tracks_prep_norm3,\n",
    "                    k_min=2, \n",
    "                    k_max=6)"
   ]
  },
  {
   "cell_type": "markdown",
   "metadata": {},
   "source": [
    "### Construcción de el modelo"
   ]
  },
  {
   "cell_type": "code",
   "execution_count": 57,
   "metadata": {},
   "outputs": [],
   "source": [
    "# Construimos un nuevo modelo, con las nuevas columnas y probaremos con k=2 y k=3\n",
    "N_clusters=\n",
    "kmeans3 = KMeans(n_clusters=N_clusters, random_state=0) \n",
    "kmeans3 = kmeans3.fit(df_tracks_prep_norm3[name_cols_number])"
   ]
  },
  {
   "cell_type": "code",
   "execution_count": 58,
   "metadata": {
    "collapsed": true
   },
   "outputs": [
    {
     "data": {
      "text/plain": [
       "array([[0.05049581, 0.13955908, 0.98018868],\n",
       "       [0.03153186, 0.16583209, 0.98962264],\n",
       "       [0.03242801, 0.30578136, 0.99811321],\n",
       "       ...,\n",
       "       [0.03870385, 0.01359173, 0.95896226],\n",
       "       [0.03601454, 0.28158939, 0.9990566 ],\n",
       "       [0.02443068, 0.50146322, 0.97264151]])"
      ]
     },
     "execution_count": 58,
     "metadata": {},
     "output_type": "execute_result"
    }
   ],
   "source": [
    "#Transformar el contenido de las columnas a arreglo\n",
    "cols_number = df_tracks_prep_norm3.to_numpy()\n",
    "cols_number"
   ]
  },
  {
   "cell_type": "markdown",
   "metadata": {},
   "source": [
    "### Visualización de el resultado"
   ]
  },
  {
   "cell_type": "code",
   "execution_count": 59,
   "metadata": {
    "collapsed": true
   },
   "outputs": [
    {
     "data": {
      "image/png": "[encoded data removed]",
      "text/plain": [
       "<Figure size 864x576 with 1 Axes>"
      ]
     },
     "metadata": {},
     "output_type": "display_data"
    }
   ],
   "source": [
    "# Revisar la cantidad de registros en los clústeres resultado\n",
    "labels = kmeans3.labels_\n",
    "df_tracks_prep_norm3['Cluster'] = labels\n",
    "\n",
    "cluster_distrib = df_tracks_prep_norm3['Cluster'].value_counts()\n",
    "\n",
    "fig=plt.figure(figsize=(12,8))\n",
    "sns.barplot(x=cluster_distrib.index, y=cluster_distrib.values, color='b');\n"
   ]
  },
  {
   "cell_type": "code",
   "execution_count": 60,
   "metadata": {
    "collapsed": true
   },
   "outputs": [
    {
     "data": {
      "text/html": [
       "<div>\n",
       "<style scoped>\n",
       "    .dataframe tbody tr th:only-of-type {\n",
       "        vertical-align: middle;\n",
       "    }\n",
       "\n",
       "    .dataframe tbody tr th {\n",
       "        vertical-align: top;\n",
       "    }\n",
       "\n",
       "    .dataframe thead th {\n",
       "        text-align: right;\n",
       "    }\n",
       "</style>\n",
       "<table border=\"1\" class=\"dataframe\">\n",
       "  <thead>\n",
       "    <tr style=\"text-align: right;\">\n",
       "      <th></th>\n",
       "      <th>duration_ms</th>\n",
       "      <th>loudness</th>\n",
       "      <th>release_year</th>\n",
       "    </tr>\n",
       "    <tr>\n",
       "      <th>Cluster</th>\n",
       "      <th></th>\n",
       "      <th></th>\n",
       "      <th></th>\n",
       "    </tr>\n",
       "  </thead>\n",
       "  <tbody>\n",
       "    <tr>\n",
       "      <th>0</th>\n",
       "      <td>28784</td>\n",
       "      <td>28784</td>\n",
       "      <td>28784</td>\n",
       "    </tr>\n",
       "    <tr>\n",
       "      <th>1</th>\n",
       "      <td>23470</td>\n",
       "      <td>23470</td>\n",
       "      <td>23470</td>\n",
       "    </tr>\n",
       "    <tr>\n",
       "      <th>2</th>\n",
       "      <td>22667</td>\n",
       "      <td>22667</td>\n",
       "      <td>22667</td>\n",
       "    </tr>\n",
       "  </tbody>\n",
       "</table>\n",
       "</div>"
      ],
      "text/plain": [
       "         duration_ms  loudness  release_year\n",
       "Cluster                                     \n",
       "0              28784     28784         28784\n",
       "1              23470     23470         23470\n",
       "2              22667     22667         22667"
      ]
     },
     "execution_count": 60,
     "metadata": {},
     "output_type": "execute_result"
    }
   ],
   "source": [
    "# Revisar el número exacto de elementos por clúster y las variables utilizadas.\n",
    "df_tracks_prep_norm3.groupby('Cluster').count()"
   ]
  },
  {
   "cell_type": "code",
   "execution_count": 61,
   "metadata": {
    "collapsed": true
   },
   "outputs": [
    {
     "data": {
      "image/png": "[encoded data removed]",
      "text/plain": [
       "<Figure size 432x288 with 1 Axes>"
      ]
     },
     "metadata": {},
     "output_type": "display_data"
    }
   ],
   "source": [
    "# Dibujar las primeras dos columnas utilizadas en el clustering que están en la posición 0 y 1\n",
    "plt.scatter(cols_number[kmeans3.labels_ == 0, 0], cols_number[kmeans3.labels_ == 0, 1], s = 100, marker='o', c = 'red', label = 'Cluster 1')\n",
    "plt.scatter(cols_number[kmeans3.labels_ == 1, 0], cols_number[kmeans3.labels_ == 1, 1], s = 100, marker='+', c = 'blue', label = 'Cluster 2')\n",
    "plt.scatter(cols_number[kmeans3.labels_ == 2, 0], cols_number[kmeans3.labels_ == 2, 1], s = 100, marker='*', c = 'green', label = 'Cluster 3')\n",
    "#plt.scatter(cols_number[kmeans3.labels_ == 3, 0], cols_number[kmeans3.labels_ == 3, 1], s = 100, marker='v', c = 'purple', label = 'Cluster 4')\n",
    "\n",
    "plt.scatter(kmeans3.cluster_centers_[:, 0], kmeans3.cluster_centers_[:, 1], s = 100, c = 'yellow', label = 'Centroids')\n",
    "plt.title('Clusters of songs')\n",
    "plt.xlabel(name_cols_number[0])\n",
    "plt.ylabel(name_cols_number[1])\n",
    "plt.legend()\n",
    "plt.show()\n"
   ]
  },
  {
   "cell_type": "code",
   "execution_count": 67,
   "metadata": {
    "collapsed": true
   },
   "outputs": [
    {
     "data": {
      "image/png": "[encoded data removed]",
      "text/plain": [
       "<Figure size 432x288 with 1 Axes>"
      ]
     },
     "metadata": {},
     "output_type": "display_data"
    }
   ],
   "source": [
    "# Dibujar las primeras dos columnas utilizadas en el clustering que están en la posición 1 y 2\n",
    "plt.scatter(cols_number[kmeans3.labels_ == 0, 1], cols_number[kmeans3.labels_ == 0, 2], s = 100, marker='o', c = 'red', label = 'Cluster 1')\n",
    "plt.scatter(cols_number[kmeans3.labels_ == 1, 1], cols_number[kmeans3.labels_ == 1, 2], s = 100, marker='+', c = 'blue', label = 'Cluster 2')\n",
    "plt.scatter(cols_number[kmeans3.labels_ == 2, 1], cols_number[kmeans3.labels_ == 2, 2], s = 100, marker='*', c = 'green', label = 'Cluster 3')\n",
    "#plt.scatter(cols_number[kmeans3.labels_ == 3, 0], cols_number[kmeans3.labels_ == 3, 1], s = 100, marker='v', c = 'purple', label = 'Cluster 4')\n",
    "\n",
    "plt.scatter(kmeans3.cluster_centers_[:, 1], kmeans3.cluster_centers_[:, 2], s = 100, c = 'yellow', label = 'Centroids')\n",
    "plt.title('Clusters of songs')\n",
    "plt.xlabel(name_cols_number[1])\n",
    "plt.ylabel(name_cols_number[2])\n",
    "plt.legend()\n",
    "plt.show()\n"
   ]
  },
  {
   "cell_type": "code",
   "execution_count": 62,
   "metadata": {
    "collapsed": true
   },
   "outputs": [
    {
     "data": {
      "image/png": "[encoded data removed]",
      "text/plain": [
       "<Figure size 432x288 with 1 Axes>"
      ]
     },
     "metadata": {},
     "output_type": "display_data"
    }
   ],
   "source": [
    "from mpl_toolkits.mplot3d import Axes3D\n",
    "\n",
    "fig=plt.figure()\n",
    "ax=Axes3D(fig)\n",
    "ax.scatter(cols_number[kmeans3.labels_ == 0, 0], cols_number[kmeans3.labels_ == 0, 1], cols_number[kmeans3.labels_ == 0, 2],color='red')\n",
    "ax.scatter(cols_number[kmeans3.labels_ == 2, 0], cols_number[kmeans3.labels_ == 2, 1], cols_number[kmeans3.labels_ == 2, 2],color='green')\n",
    "ax.scatter(cols_number[kmeans3.labels_ == 1, 0], cols_number[kmeans3.labels_ == 1, 1], cols_number[kmeans3.labels_ == 1, 2],color='blue')\n",
    "\n",
    "ax.scatter(kmeans3.cluster_centers_[:, 0],kmeans3.cluster_centers_[:, 1], kmeans3.cluster_centers_[:, 2], color='black',marker='o',s=200, label='centroids')\n",
    "ax.set_xlabel(name_cols_number[0])\n",
    "ax.set_ylabel(name_cols_number[1])\n",
    "ax.set_zlabel(name_cols_number[2])\n",
    "plt.show()"
   ]
  },
  {
   "cell_type": "code",
   "execution_count": 64,
   "metadata": {
    "collapsed": true
   },
   "outputs": [
    {
     "data": {
      "text/plain": [
       "{0: [('release_year', 0.9865286849420015),\n",
       "  ('loudness', 0.3304168398686171),\n",
       "  ('duration_ms', 0.047848432406737286)],\n",
       " 1: [('release_year', 0.9906109843368541),\n",
       "  ('loudness', 0.5277284741496172),\n",
       "  ('duration_ms', 0.04674846015160574)],\n",
       " 2: [('release_year', 0.9813720590773124),\n",
       "  ('loudness', 0.11848252482370367),\n",
       "  ('duration_ms', 0.04719034909994768)]}"
      ]
     },
     "execution_count": 64,
     "metadata": {},
     "output_type": "execute_result"
    }
   ],
   "source": [
    "# Revisar con cuidado esta parte para entender su aporte en la interpretación de los clústeres\n",
    "from kmeans_interp.kmeans_feature_imp import KMeansInterp\n",
    "\n",
    "n_clusters = len(df_tracks_prep_norm3['Cluster'].unique())\n",
    "\n",
    "kms = KMeansInterp(n_clusters=n_clusters,\n",
    "                   random_state=1, \n",
    "                   ordered_feature_names=name_cols_number,\n",
    "                   feature_importance_method='wcss_min').fit(cols_number)\n",
    "\n",
    "kms.feature_importances_\n"
   ]
  },
  {
   "cell_type": "code",
   "execution_count": 65,
   "metadata": {
    "collapsed": true
   },
   "outputs": [
    {
     "data": {
      "text/plain": [
       "<seaborn.axisgrid.FacetGrid at 0x2254bf3a790>"
      ]
     },
     "execution_count": 65,
     "metadata": {},
     "output_type": "execute_result"
    },
    {
     "data": {
      "text/plain": [
       "<Figure size 1440x576 with 0 Axes>"
      ]
     },
     "metadata": {},
     "output_type": "display_data"
    },
    {
     "data": {
      "image/png": "[encoded data removed]",
      "text/plain": [
       "<Figure size 1944x432 with 3 Axes>"
      ]
     },
     "metadata": {},
     "output_type": "display_data"
    }
   ],
   "source": [
    "#Plots\n",
    "arr = []\n",
    "for c in kms.feature_importances_:\n",
    "    for col, val in kms.feature_importances_[c]:\n",
    "        arr.append({'column':col, 'importance':val, 'cluster': c})\n",
    "\n",
    "df_plot = pd.DataFrame(arr)\n",
    "fig=plt.figure(figsize=(20,8))\n",
    "g = sns.FacetGrid(df_plot, col=\"column\", sharey = False, height = 6, aspect = 1.5)\n",
    "g.map_dataframe(sns.barplot, x=\"cluster\", y = 'importance')"
   ]
  },
  {
   "cell_type": "markdown",
   "metadata": {},
   "source": [
    "### Evaluación de la calidad de los clústeres obtenidos"
   ]
  },
  {
   "cell_type": "code",
   "execution_count": 63,
   "metadata": {
    "collapsed": true
   },
   "outputs": [
    {
     "name": "stdout",
     "output_type": "stream",
     "text": [
      "[0 1 2]\n"
     ]
    },
    {
     "data": {
      "image/png": "[encoded data removed]",
      "text/plain": [
       "<Figure size 432x288 with 1 Axes>"
      ]
     },
     "metadata": {},
     "output_type": "display_data"
    }
   ],
   "source": [
    "plot_silhouette(data = df_tracks_prep_norm3, \n",
    "                labels = kmeans3.labels_, \n",
    "                ylabel = 'Clustering with four clusters')"
   ]
  }
 ],
 "metadata": {
  "kernelspec": {
   "display_name": "Python 3",
   "language": "python",
   "name": "python3"
  },
  "language_info": {
   "codemirror_mode": {
    "name": "ipython",
    "version": 3
   },
   "file_extension": ".py",
   "mimetype": "text/x-python",
   "name": "python",
   "nbconvert_exporter": "python",
   "pygments_lexer": "ipython3",
   "version": "3.8.8"
  }
 },
 "nbformat": 4,
 "nbformat_minor": 4
}
