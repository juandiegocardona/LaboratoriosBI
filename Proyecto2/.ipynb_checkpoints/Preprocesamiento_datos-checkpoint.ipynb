{
 "cells": [
  {
   "cell_type": "markdown",
   "id": "2c18d477-8f59-4521-8660-b34ef4e5c0c4",
   "metadata": {},
   "source": [
    "# Perfilamiento y preprocesamiento de los datos\n",
    "\n",
    "En este notebook se realizará el perfilamiento y preprocesamiento de los datos suministrados de la base de datos"
   ]
  },
  {
   "cell_type": "markdown",
   "id": "9131fc5a-cb15-462f-95db-8d8f14d44c95",
   "metadata": {},
   "source": [
    "## Carga de librerías"
   ]
  },
  {
   "cell_type": "code",
   "execution_count": 1,
   "id": "7ee905f0-d3f9-4853-8818-333a4c11c8c1",
   "metadata": {},
   "outputs": [],
   "source": [
    "import pandas as pd\n",
    "import numpy as np"
   ]
  },
  {
   "cell_type": "markdown",
   "id": "a9cca818-1031-4d5a-97f4-29e91ba2d6ae",
   "metadata": {},
   "source": [
    "\n",
    "Carga del archivo:"
   ]
  },
  {
   "cell_type": "code",
   "execution_count": 2,
   "id": "11fc7195-34ac-419d-b1cb-41e45458d684",
   "metadata": {},
   "outputs": [
    {
     "name": "stderr",
     "output_type": "stream",
     "text": [
      "/Users/juandiegocardona/opt/anaconda3/lib/python3.8/site-packages/IPython/core/interactiveshell.py:3165: DtypeWarning: Columns (1) have mixed types.Specify dtype option on import or set low_memory=False.\n",
      "  has_raised = await self.run_ast_nodes(code_ast.body, cell_name,\n"
     ]
    },
    {
     "name": "stdout",
     "output_type": "stream",
     "text": [
      "<class 'pandas.core.frame.DataFrame'>\n",
      "RangeIndex: 1244984 entries, 0 to 1244983\n",
      "Data columns (total 10 columns):\n",
      " #   Column         Non-Null Count    Dtype  \n",
      "---  ------         --------------    -----  \n",
      " 0   anio           1244984 non-null  int64  \n",
      " 1   codigo_depto   1244984 non-null  object \n",
      " 2   nombre_depto   1244984 non-null  object \n",
      " 3   nombre_muni    1244984 non-null  object \n",
      " 4   codigo_muni    1244984 non-null  object \n",
      " 5   codigo_evento  1244984 non-null  object \n",
      " 6   evento         1244984 non-null  object \n",
      " 7   edad           1244984 non-null  object \n",
      " 8   sexo           1244984 non-null  object \n",
      " 9   num_casos      1244984 non-null  float64\n",
      "dtypes: float64(1), int64(1), object(8)\n",
      "memory usage: 95.0+ MB\n"
     ]
    }
   ],
   "source": [
    "datosoriginal= pd.read_csv('data_2010_2017.csv', sep=',', encoding = 'utf-8')\n",
    "datosoriginal.info()"
   ]
  },
  {
   "cell_type": "code",
   "execution_count": 3,
   "id": "dbc4b10f-7366-45a0-9895-dd87f8b95b77",
   "metadata": {},
   "outputs": [
    {
     "data": {
      "text/html": [
       "<div>\n",
       "<style scoped>\n",
       "    .dataframe tbody tr th:only-of-type {\n",
       "        vertical-align: middle;\n",
       "    }\n",
       "\n",
       "    .dataframe tbody tr th {\n",
       "        vertical-align: top;\n",
       "    }\n",
       "\n",
       "    .dataframe thead th {\n",
       "        text-align: right;\n",
       "    }\n",
       "</style>\n",
       "<table border=\"1\" class=\"dataframe\">\n",
       "  <thead>\n",
       "    <tr style=\"text-align: right;\">\n",
       "      <th></th>\n",
       "      <th>anio</th>\n",
       "      <th>codigo_depto</th>\n",
       "      <th>nombre_depto</th>\n",
       "      <th>nombre_muni</th>\n",
       "      <th>codigo_muni</th>\n",
       "      <th>codigo_evento</th>\n",
       "      <th>evento</th>\n",
       "      <th>edad</th>\n",
       "      <th>sexo</th>\n",
       "      <th>num_casos</th>\n",
       "    </tr>\n",
       "  </thead>\n",
       "  <tbody>\n",
       "    <tr>\n",
       "      <th>0</th>\n",
       "      <td>2010</td>\n",
       "      <td>TOTAL</td>\n",
       "      <td>TOTAL</td>\n",
       "      <td>TOTAL</td>\n",
       "      <td>TOTAL</td>\n",
       "      <td>TOTAL</td>\n",
       "      <td>TOTAL</td>\n",
       "      <td>TOTAL</td>\n",
       "      <td>TOTAL</td>\n",
       "      <td>200524.0</td>\n",
       "    </tr>\n",
       "    <tr>\n",
       "      <th>1</th>\n",
       "      <td>2010</td>\n",
       "      <td>TOTAL</td>\n",
       "      <td>TOTAL</td>\n",
       "      <td>TOTAL</td>\n",
       "      <td>TOTAL</td>\n",
       "      <td>TOTAL</td>\n",
       "      <td>TOTAL</td>\n",
       "      <td>TOTAL</td>\n",
       "      <td>Hombres</td>\n",
       "      <td>114264.0</td>\n",
       "    </tr>\n",
       "    <tr>\n",
       "      <th>2</th>\n",
       "      <td>2010</td>\n",
       "      <td>TOTAL</td>\n",
       "      <td>TOTAL</td>\n",
       "      <td>TOTAL</td>\n",
       "      <td>TOTAL</td>\n",
       "      <td>TOTAL</td>\n",
       "      <td>TOTAL</td>\n",
       "      <td>TOTAL</td>\n",
       "      <td>Mujeres</td>\n",
       "      <td>86250.0</td>\n",
       "    </tr>\n",
       "    <tr>\n",
       "      <th>3</th>\n",
       "      <td>2010</td>\n",
       "      <td>TOTAL</td>\n",
       "      <td>TOTAL</td>\n",
       "      <td>TOTAL</td>\n",
       "      <td>TOTAL</td>\n",
       "      <td>TOTAL</td>\n",
       "      <td>TOTAL</td>\n",
       "      <td>TOTAL</td>\n",
       "      <td>Indeterminado</td>\n",
       "      <td>10.0</td>\n",
       "    </tr>\n",
       "    <tr>\n",
       "      <th>4</th>\n",
       "      <td>2010</td>\n",
       "      <td>TOTAL</td>\n",
       "      <td>TOTAL</td>\n",
       "      <td>TOTAL</td>\n",
       "      <td>TOTAL</td>\n",
       "      <td>TOTAL</td>\n",
       "      <td>TOTAL</td>\n",
       "      <td>Menor 1 año</td>\n",
       "      <td>Hombres</td>\n",
       "      <td>4745.0</td>\n",
       "    </tr>\n",
       "  </tbody>\n",
       "</table>\n",
       "</div>"
      ],
      "text/plain": [
       "   anio codigo_depto nombre_depto nombre_muni codigo_muni codigo_evento  \\\n",
       "0  2010        TOTAL        TOTAL       TOTAL       TOTAL         TOTAL   \n",
       "1  2010        TOTAL        TOTAL       TOTAL       TOTAL         TOTAL   \n",
       "2  2010        TOTAL        TOTAL       TOTAL       TOTAL         TOTAL   \n",
       "3  2010        TOTAL        TOTAL       TOTAL       TOTAL         TOTAL   \n",
       "4  2010        TOTAL        TOTAL       TOTAL       TOTAL         TOTAL   \n",
       "\n",
       "  evento         edad           sexo  num_casos  \n",
       "0  TOTAL        TOTAL          TOTAL   200524.0  \n",
       "1  TOTAL        TOTAL        Hombres   114264.0  \n",
       "2  TOTAL        TOTAL        Mujeres    86250.0  \n",
       "3  TOTAL        TOTAL  Indeterminado       10.0  \n",
       "4  TOTAL  Menor 1 año        Hombres     4745.0  "
      ]
     },
     "execution_count": 3,
     "metadata": {},
     "output_type": "execute_result"
    }
   ],
   "source": [
    "datosoriginal.head()"
   ]
  },
  {
   "cell_type": "code",
   "execution_count": 4,
   "id": "3bc25686-4e95-44ee-8832-36caa7a5066d",
   "metadata": {},
   "outputs": [
    {
     "data": {
      "text/plain": [
       "anio             0\n",
       "codigo_depto     0\n",
       "nombre_depto     0\n",
       "nombre_muni      0\n",
       "codigo_muni      0\n",
       "codigo_evento    0\n",
       "evento           0\n",
       "edad             0\n",
       "sexo             0\n",
       "num_casos        0\n",
       "dtype: int64"
      ]
     },
     "execution_count": 4,
     "metadata": {},
     "output_type": "execute_result"
    }
   ],
   "source": [
    "datosoriginal.isnull().sum()"
   ]
  },
  {
   "cell_type": "code",
   "execution_count": 18,
   "id": "60a66abb",
   "metadata": {},
   "outputs": [
    {
     "data": {
      "text/html": [
       "<div>\n",
       "<style scoped>\n",
       "    .dataframe tbody tr th:only-of-type {\n",
       "        vertical-align: middle;\n",
       "    }\n",
       "\n",
       "    .dataframe tbody tr th {\n",
       "        vertical-align: top;\n",
       "    }\n",
       "\n",
       "    .dataframe thead th {\n",
       "        text-align: right;\n",
       "    }\n",
       "</style>\n",
       "<table border=\"1\" class=\"dataframe\">\n",
       "  <thead>\n",
       "    <tr style=\"text-align: right;\">\n",
       "      <th></th>\n",
       "      <th>anio</th>\n",
       "      <th>codigo_depto</th>\n",
       "      <th>nombre_depto</th>\n",
       "      <th>nombre_muni</th>\n",
       "      <th>codigo_muni</th>\n",
       "      <th>codigo_evento</th>\n",
       "      <th>evento</th>\n",
       "      <th>edad</th>\n",
       "      <th>sexo</th>\n",
       "      <th>num_casos</th>\n",
       "    </tr>\n",
       "  </thead>\n",
       "  <tbody>\n",
       "    <tr>\n",
       "      <th>1750</th>\n",
       "      <td>2010</td>\n",
       "      <td>05</td>\n",
       "      <td>Antioquia</td>\n",
       "      <td>Medellín</td>\n",
       "      <td>05001</td>\n",
       "      <td>101</td>\n",
       "      <td>ENFERMEDADES INFECCIOSAS INTESTINALES</td>\n",
       "      <td>De 15-44 años</td>\n",
       "      <td>Hombres</td>\n",
       "      <td>2.0</td>\n",
       "    </tr>\n",
       "    <tr>\n",
       "      <th>1751</th>\n",
       "      <td>2010</td>\n",
       "      <td>05</td>\n",
       "      <td>Antioquia</td>\n",
       "      <td>Medellín</td>\n",
       "      <td>05001</td>\n",
       "      <td>101</td>\n",
       "      <td>ENFERMEDADES INFECCIOSAS INTESTINALES</td>\n",
       "      <td>De 15-44 años</td>\n",
       "      <td>Mujeres</td>\n",
       "      <td>2.0</td>\n",
       "    </tr>\n",
       "    <tr>\n",
       "      <th>1752</th>\n",
       "      <td>2010</td>\n",
       "      <td>05</td>\n",
       "      <td>Antioquia</td>\n",
       "      <td>Medellín</td>\n",
       "      <td>05001</td>\n",
       "      <td>101</td>\n",
       "      <td>ENFERMEDADES INFECCIOSAS INTESTINALES</td>\n",
       "      <td>De 45-64 años</td>\n",
       "      <td>Hombres</td>\n",
       "      <td>7.0</td>\n",
       "    </tr>\n",
       "    <tr>\n",
       "      <th>1753</th>\n",
       "      <td>2010</td>\n",
       "      <td>05</td>\n",
       "      <td>Antioquia</td>\n",
       "      <td>Medellín</td>\n",
       "      <td>05001</td>\n",
       "      <td>101</td>\n",
       "      <td>ENFERMEDADES INFECCIOSAS INTESTINALES</td>\n",
       "      <td>De 45-64 años</td>\n",
       "      <td>Mujeres</td>\n",
       "      <td>5.0</td>\n",
       "    </tr>\n",
       "    <tr>\n",
       "      <th>1754</th>\n",
       "      <td>2010</td>\n",
       "      <td>05</td>\n",
       "      <td>Antioquia</td>\n",
       "      <td>Medellín</td>\n",
       "      <td>05001</td>\n",
       "      <td>101</td>\n",
       "      <td>ENFERMEDADES INFECCIOSAS INTESTINALES</td>\n",
       "      <td>De 65 y más</td>\n",
       "      <td>Hombres</td>\n",
       "      <td>12.0</td>\n",
       "    </tr>\n",
       "  </tbody>\n",
       "</table>\n",
       "</div>"
      ],
      "text/plain": [
       "      anio codigo_depto nombre_depto nombre_muni codigo_muni codigo_evento  \\\n",
       "1750  2010           05    Antioquia    Medellín       05001           101   \n",
       "1751  2010           05    Antioquia    Medellín       05001           101   \n",
       "1752  2010           05    Antioquia    Medellín       05001           101   \n",
       "1753  2010           05    Antioquia    Medellín       05001           101   \n",
       "1754  2010           05    Antioquia    Medellín       05001           101   \n",
       "\n",
       "                                     evento           edad     sexo  num_casos  \n",
       "1750  ENFERMEDADES INFECCIOSAS INTESTINALES  De 15-44 años  Hombres        2.0  \n",
       "1751  ENFERMEDADES INFECCIOSAS INTESTINALES  De 15-44 años  Mujeres        2.0  \n",
       "1752  ENFERMEDADES INFECCIOSAS INTESTINALES  De 45-64 años  Hombres        7.0  \n",
       "1753  ENFERMEDADES INFECCIOSAS INTESTINALES  De 45-64 años  Mujeres        5.0  \n",
       "1754  ENFERMEDADES INFECCIOSAS INTESTINALES    De 65 y más  Hombres       12.0  "
      ]
     },
     "execution_count": 18,
     "metadata": {},
     "output_type": "execute_result"
    }
   ],
   "source": [
    "for col in datosoriginal.columns:\n",
    "    datosoriginal.drop(datosoriginal.loc[datosoriginal[col]=='TOTAL'].index,inplace=True)\n",
    "for col in datosoriginal.columns:\n",
    "    datosoriginal.drop(datosoriginal.loc[datosoriginal[col]=='Extranjeros'].index,inplace=True)\n",
    "datoslimpios=datosoriginal\n",
    "datoslimpios.head()"
   ]
  },
  {
   "cell_type": "code",
   "execution_count": 19,
   "id": "2a94608b",
   "metadata": {
    "scrolled": false
   },
   "outputs": [
    {
     "name": "stdout",
     "output_type": "stream",
     "text": [
      "<class 'pandas.core.frame.DataFrame'>\n",
      "Int64Index: 462886 entries, 1750 to 1244118\n",
      "Data columns (total 10 columns):\n",
      " #   Column         Non-Null Count   Dtype  \n",
      "---  ------         --------------   -----  \n",
      " 0   anio           462886 non-null  int64  \n",
      " 1   codigo_depto   462886 non-null  object \n",
      " 2   nombre_depto   462886 non-null  object \n",
      " 3   nombre_muni    462886 non-null  object \n",
      " 4   codigo_muni    462886 non-null  object \n",
      " 5   codigo_evento  462886 non-null  object \n",
      " 6   evento         462886 non-null  object \n",
      " 7   edad           462886 non-null  object \n",
      " 8   sexo           462886 non-null  object \n",
      " 9   num_casos      462886 non-null  float64\n",
      "dtypes: float64(1), int64(1), object(8)\n",
      "memory usage: 55.0+ MB\n"
     ]
    }
   ],
   "source": [
    "datoslimpios.info()"
   ]
  },
  {
   "cell_type": "code",
   "execution_count": 22,
   "id": "1d947f92",
   "metadata": {},
   "outputs": [
    {
     "name": "stdout",
     "output_type": "stream",
     "text": [
      "<class 'pandas.core.frame.DataFrame'>\n",
      "Int64Index: 462886 entries, 1750 to 1244118\n",
      "Data columns (total 10 columns):\n",
      " #   Column         Non-Null Count   Dtype  \n",
      "---  ------         --------------   -----  \n",
      " 0   anio           462886 non-null  int64  \n",
      " 1   codigo_depto   462886 non-null  int64  \n",
      " 2   nombre_depto   462886 non-null  object \n",
      " 3   nombre_muni    462886 non-null  object \n",
      " 4   codigo_muni    462886 non-null  int64  \n",
      " 5   codigo_evento  462886 non-null  int64  \n",
      " 6   evento         462886 non-null  object \n",
      " 7   edad           462886 non-null  object \n",
      " 8   sexo           462886 non-null  object \n",
      " 9   num_casos      462886 non-null  float64\n",
      "dtypes: float64(1), int64(4), object(5)\n",
      "memory usage: 55.0+ MB\n"
     ]
    }
   ],
   "source": [
    "datoslimpios = datoslimpios.astype({\"codigo_depto\":int,\"codigo_muni\":int,\"codigo_evento\":int})\n",
    "datoslimpios.info()"
   ]
  },
  {
   "cell_type": "code",
   "execution_count": 17,
   "id": "d89f366e",
   "metadata": {},
   "outputs": [],
   "source": [
    "datoslimpios.to_csv(\"DatosLimpios/datoslimpios.csv\", encoding='utf-8', index=False)"
   ]
  },
  {
   "cell_type": "code",
   "execution_count": null,
   "id": "a40d1241",
   "metadata": {},
   "outputs": [],
   "source": []
  }
 ],
 "metadata": {
  "kernelspec": {
   "display_name": "Python 3",
   "language": "python",
   "name": "python3"
  },
  "language_info": {
   "codemirror_mode": {
    "name": "ipython",
    "version": 3
   },
   "file_extension": ".py",
   "mimetype": "text/x-python",
   "name": "python",
   "nbconvert_exporter": "python",
   "pygments_lexer": "ipython3",
   "version": "3.8.8"
  }
 },
 "nbformat": 4,
 "nbformat_minor": 5
}
